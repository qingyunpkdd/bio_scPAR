{
 "cells": [
  {
   "cell_type": "code",
   "execution_count": 2,
   "id": "initial_id",
   "metadata": {
    "collapsed": true,
    "ExecuteTime": {
     "end_time": "2024-09-17T08:03:02.892758Z",
     "start_time": "2024-09-17T08:03:01.916827Z"
    }
   },
   "outputs": [
    {
     "name": "stderr",
     "output_type": "stream",
     "text": [
      "2024-09-17 16:03:02.008996: I tensorflow/core/util/port.cc:110] oneDNN custom operations are on. You may see slightly different numerical results due to floating-point round-off errors from different computation orders. To turn them off, set the environment variable `TF_ENABLE_ONEDNN_OPTS=0`.\n",
      "2024-09-17 16:03:02.031155: I tensorflow/core/platform/cpu_feature_guard.cc:182] This TensorFlow binary is optimized to use available CPU instructions in performance-critical operations.\n",
      "To enable the following instructions: AVX2 AVX_VNNI FMA, in other operations, rebuild TensorFlow with the appropriate compiler flags.\n",
      "2024-09-17 16:03:02.363991: W tensorflow/compiler/tf2tensorrt/utils/py_utils.cc:38] TF-TRT Warning: Could not find TensorRT\n"
     ]
    }
   ],
   "source": [
    "import tensorflow as tf\n",
    "import numpy as np\n",
    "import matplotlib.pyplot as plt\n",
    "import os"
   ]
  },
  {
   "cell_type": "code",
   "outputs": [
    {
     "data": {
      "text/plain": "'/mnt/sda/liuyq/asso_rule2'"
     },
     "execution_count": 4,
     "metadata": {},
     "output_type": "execute_result"
    }
   ],
   "source": [
    "#定义所有的目录和文件夹\n",
    "data_dir = r'/home/liuyq/data/ar_data'\n",
    "os.getcwd()\n",
    "os.chdir('/mnt/sda/liuyq/asso_rule2')\n",
    "os.getcwd()"
   ],
   "metadata": {
    "collapsed": false,
    "ExecuteTime": {
     "end_time": "2024-09-17T08:03:14.553892Z",
     "start_time": "2024-09-17T08:03:14.545498Z"
    }
   },
   "id": "4df9e908e03fe868",
   "execution_count": 4
  },
  {
   "cell_type": "code",
   "outputs": [],
   "source": [
    "from utils.data_process.load_matrix_data import TransformData"
   ],
   "metadata": {
    "collapsed": false,
    "ExecuteTime": {
     "end_time": "2024-09-17T08:03:24.314226Z",
     "start_time": "2024-09-17T08:03:24.307645Z"
    }
   },
   "id": "e852a3a6ff5e96b2",
   "execution_count": 5
  },
  {
   "cell_type": "code",
   "outputs": [],
   "source": [
    "# 读取数据\n",
    "data_path = os.path.join(data_dir, 'sc_data', 'pbmc')\n",
    "# 导入LoadMtrixData类\n",
    "from utils.data_process.load_data import LoadMatrixDataReal, TransformDataReal, read_cell_type\n",
    "from utils.algorithms.association_rule import AssociationRule\n"
   ],
   "metadata": {
    "collapsed": false,
    "ExecuteTime": {
     "end_time": "2024-09-16T09:33:54.001115Z",
     "start_time": "2024-09-16T09:33:53.183290Z"
    }
   },
   "id": "f7df5a4c4e9e926f",
   "execution_count": 29
  },
  {
   "cell_type": "code",
   "outputs": [],
   "source": [
    "data_obj = LoadMatrixDataReal(data_path)\n",
    "_data = data_obj.load_data()"
   ],
   "metadata": {
    "collapsed": false,
    "ExecuteTime": {
     "end_time": "2024-09-16T09:36:20.369365Z",
     "start_time": "2024-09-16T09:36:18.984863Z"
    }
   },
   "id": "de363cb2ccc9950d",
   "execution_count": 31
  },
  {
   "cell_type": "code",
   "outputs": [
    {
     "data": {
      "text/plain": "(2700, 32738)"
     },
     "execution_count": 32,
     "metadata": {},
     "output_type": "execute_result"
    }
   ],
   "source": [
    "_data.shape"
   ],
   "metadata": {
    "collapsed": false,
    "ExecuteTime": {
     "end_time": "2024-09-16T09:36:54.224194Z",
     "start_time": "2024-09-16T09:36:54.217230Z"
    }
   },
   "id": "806bfe513d19b0db",
   "execution_count": 32
  },
  {
   "cell_type": "code",
   "outputs": [],
   "source": [
    "#过滤支持度小于0.1的基因\n",
    "_data = data_obj.filter_genes(_data, threshold=0.1)"
   ],
   "metadata": {
    "collapsed": false,
    "ExecuteTime": {
     "end_time": "2024-09-16T09:37:21.402522Z",
     "start_time": "2024-09-16T09:37:21.378065Z"
    }
   },
   "id": "f9e3ea89e867ce6c",
   "execution_count": 33
  },
  {
   "cell_type": "code",
   "outputs": [
    {
     "data": {
      "text/plain": "(2700, 2107)"
     },
     "execution_count": 34,
     "metadata": {},
     "output_type": "execute_result"
    }
   ],
   "source": [
    "_data.shape"
   ],
   "metadata": {
    "collapsed": false,
    "ExecuteTime": {
     "end_time": "2024-09-16T09:37:25.829581Z",
     "start_time": "2024-09-16T09:37:25.822467Z"
    }
   },
   "id": "e44d7fc07c3f923b",
   "execution_count": 34
  },
  {
   "cell_type": "code",
   "outputs": [],
   "source": [
    "#读取cell type\n",
    "cell_type_path = os.path.join(data_path, 'cell_type.tsv')\n",
    "cell_type = read_cell_type(cell_type_path)"
   ],
   "metadata": {
    "collapsed": false,
    "ExecuteTime": {
     "end_time": "2024-09-16T09:37:49.398721Z",
     "start_time": "2024-09-16T09:37:49.378226Z"
    }
   },
   "id": "a352f962f309a90d",
   "execution_count": 35
  },
  {
   "cell_type": "code",
   "outputs": [
    {
     "name": "stdout",
     "output_type": "stream",
     "text": [
      "number of data: 2700\n",
      "unique cell_type: {'FCGR3A+_Mono', 'B', 'DC', 'CD14+_Mono', 'Memory_CD4_T', 'Naive_CD4_T', 'Platelet', 'NK', 'CD8_T'}\n"
     ]
    }
   ],
   "source": [
    "print(\"number of data:\", len(cell_type))\n",
    "print(\"unique cell_type:\", set(cell_type))"
   ],
   "metadata": {
    "collapsed": false,
    "ExecuteTime": {
     "end_time": "2024-09-16T09:39:44.675492Z",
     "start_time": "2024-09-16T09:39:44.669185Z"
    }
   },
   "id": "71e9632f38c9da4f",
   "execution_count": 38
  },
  {
   "cell_type": "code",
   "outputs": [
    {
     "name": "stderr",
     "output_type": "stream",
     "text": [
      "/mnt/sda/liuyq/asso_rule2/utils/data_process/load_data.py:69: ImplicitModificationWarning: Trying to modify attribute `.obs` of view, initializing view as actual.\n",
      "  adata.obs['cell_type'] = cell_type\n"
     ]
    }
   ],
   "source": [
    "#基于cell_type进行数据的划分\n",
    "adata_subs = data_obj.split_by_cell_type(_data, cell_type)\n",
    "transform_data = {}"
   ],
   "metadata": {
    "collapsed": false,
    "ExecuteTime": {
     "end_time": "2024-09-16T09:40:14.547364Z",
     "start_time": "2024-09-16T09:40:14.524712Z"
    }
   },
   "id": "a50d79bfeabdf0dd",
   "execution_count": 40
  },
  {
   "cell_type": "code",
   "outputs": [
    {
     "data": {
      "text/plain": "9"
     },
     "execution_count": 41,
     "metadata": {},
     "output_type": "execute_result"
    }
   ],
   "source": [
    "len(adata_subs)"
   ],
   "metadata": {
    "collapsed": false,
    "ExecuteTime": {
     "end_time": "2024-09-16T09:41:01.582514Z",
     "start_time": "2024-09-16T09:41:01.575805Z"
    }
   },
   "id": "f851cb8e7b9b9f4e",
   "execution_count": 41
  },
  {
   "cell_type": "code",
   "outputs": [
    {
     "name": "stdout",
     "output_type": "stream",
     "text": [
      "View of AnnData object with n_obs × n_vars = 684 × 1659\n",
      "    obs: 'cell_type'\n",
      "    var: 'gene_ids'\n"
     ]
    },
    {
     "name": "stderr",
     "output_type": "stream",
     "text": [
      "2024-09-16 17:41:45.410198: I tensorflow/compiler/xla/stream_executor/cuda/cuda_gpu_executor.cc:995] successful NUMA node read from SysFS had negative value (-1), but there must be at least one NUMA node, so returning NUMA node zero. See more at https://github.com/torvalds/linux/blob/v6.0/Documentation/ABI/testing/sysfs-bus-pci#L344-L355\n",
      "2024-09-16 17:41:45.412928: I tensorflow/compiler/xla/stream_executor/cuda/cuda_gpu_executor.cc:995] successful NUMA node read from SysFS had negative value (-1), but there must be at least one NUMA node, so returning NUMA node zero. See more at https://github.com/torvalds/linux/blob/v6.0/Documentation/ABI/testing/sysfs-bus-pci#L344-L355\n",
      "2024-09-16 17:41:45.413058: I tensorflow/compiler/xla/stream_executor/cuda/cuda_gpu_executor.cc:995] successful NUMA node read from SysFS had negative value (-1), but there must be at least one NUMA node, so returning NUMA node zero. See more at https://github.com/torvalds/linux/blob/v6.0/Documentation/ABI/testing/sysfs-bus-pci#L344-L355\n",
      "2024-09-16 17:41:45.517788: I tensorflow/compiler/xla/stream_executor/cuda/cuda_gpu_executor.cc:995] successful NUMA node read from SysFS had negative value (-1), but there must be at least one NUMA node, so returning NUMA node zero. See more at https://github.com/torvalds/linux/blob/v6.0/Documentation/ABI/testing/sysfs-bus-pci#L344-L355\n",
      "2024-09-16 17:41:45.517908: I tensorflow/compiler/xla/stream_executor/cuda/cuda_gpu_executor.cc:995] successful NUMA node read from SysFS had negative value (-1), but there must be at least one NUMA node, so returning NUMA node zero. See more at https://github.com/torvalds/linux/blob/v6.0/Documentation/ABI/testing/sysfs-bus-pci#L344-L355\n",
      "2024-09-16 17:41:45.518009: I tensorflow/compiler/xla/stream_executor/cuda/cuda_gpu_executor.cc:995] successful NUMA node read from SysFS had negative value (-1), but there must be at least one NUMA node, so returning NUMA node zero. See more at https://github.com/torvalds/linux/blob/v6.0/Documentation/ABI/testing/sysfs-bus-pci#L344-L355\n",
      "2024-09-16 17:41:45.522087: I tensorflow/compiler/xla/stream_executor/cuda/cuda_gpu_executor.cc:995] successful NUMA node read from SysFS had negative value (-1), but there must be at least one NUMA node, so returning NUMA node zero. See more at https://github.com/torvalds/linux/blob/v6.0/Documentation/ABI/testing/sysfs-bus-pci#L344-L355\n",
      "2024-09-16 17:41:45.522208: I tensorflow/compiler/xla/stream_executor/cuda/cuda_gpu_executor.cc:995] successful NUMA node read from SysFS had negative value (-1), but there must be at least one NUMA node, so returning NUMA node zero. See more at https://github.com/torvalds/linux/blob/v6.0/Documentation/ABI/testing/sysfs-bus-pci#L344-L355\n",
      "2024-09-16 17:41:45.522317: I tensorflow/core/common_runtime/gpu/gpu_device.cc:1639] Created device /job:localhost/replica:0/task:0/device:GPU:0 with 22272 MB memory:  -> device: 0, name: NVIDIA GeForce RTX 4090, pci bus id: 0000:01:00.0, compute capability: 8.9\n",
      "2024-09-16 17:41:45.522590: I tensorflow/compiler/xla/stream_executor/cuda/cuda_gpu_executor.cc:995] successful NUMA node read from SysFS had negative value (-1), but there must be at least one NUMA node, so returning NUMA node zero. See more at https://github.com/torvalds/linux/blob/v6.0/Documentation/ABI/testing/sysfs-bus-pci#L344-L355\n",
      "2024-09-16 17:41:45.522641: I tensorflow/core/common_runtime/gpu/gpu_device.cc:1639] Created device /job:localhost/replica:0/task:0/device:GPU:1 with 22272 MB memory:  -> device: 1, name: NVIDIA GeForce RTX 4090, pci bus id: 0000:05:00.0, compute capability: 8.9\n"
     ]
    },
    {
     "name": "stdout",
     "output_type": "stream",
     "text": [
      "稀疏矩阵大小： tf.Tensor(1134756, shape=(), dtype=int32)\n",
      "float32大小： tf.Tensor(1134756, shape=(), dtype=int32)\n",
      "load data success\n",
      "View of AnnData object with n_obs × n_vars = 350 × 1485\n",
      "    obs: 'cell_type'\n",
      "    var: 'gene_ids'\n",
      "稀疏矩阵大小： tf.Tensor(519750, shape=(), dtype=int32)\n",
      "float32大小： tf.Tensor(519750, shape=(), dtype=int32)\n",
      "load data success\n",
      "View of AnnData object with n_obs × n_vars = 427 × 1927\n",
      "    obs: 'cell_type'\n",
      "    var: 'gene_ids'\n",
      "稀疏矩阵大小： tf.Tensor(822829, shape=(), dtype=int32)\n",
      "float32大小： tf.Tensor(822829, shape=(), dtype=int32)\n",
      "load data success\n",
      "View of AnnData object with n_obs × n_vars = 492 × 1698\n",
      "    obs: 'cell_type'\n",
      "    var: 'gene_ids'\n",
      "稀疏矩阵大小： tf.Tensor(835416, shape=(), dtype=int32)\n",
      "float32大小： tf.Tensor(835416, shape=(), dtype=int32)\n",
      "load data success\n",
      "View of AnnData object with n_obs × n_vars = 154 × 1898\n",
      "    obs: 'cell_type'\n",
      "    var: 'gene_ids'\n",
      "稀疏矩阵大小： tf.Tensor(292292, shape=(), dtype=int32)\n",
      "float32大小： tf.Tensor(292292, shape=(), dtype=int32)\n",
      "load data success\n",
      "View of AnnData object with n_obs × n_vars = 384 × 1728\n",
      "    obs: 'cell_type'\n",
      "    var: 'gene_ids'\n",
      "稀疏矩阵大小： tf.Tensor(663552, shape=(), dtype=int32)\n",
      "float32大小： tf.Tensor(663552, shape=(), dtype=int32)\n",
      "load data success\n",
      "View of AnnData object with n_obs × n_vars = 161 × 1964\n",
      "    obs: 'cell_type'\n",
      "    var: 'gene_ids'\n",
      "稀疏矩阵大小： tf.Tensor(316204, shape=(), dtype=int32)\n",
      "float32大小： tf.Tensor(316204, shape=(), dtype=int32)\n",
      "load data success\n",
      "View of AnnData object with n_obs × n_vars = 35 × 2023\n",
      "    obs: 'cell_type'\n",
      "    var: 'gene_ids'\n",
      "稀疏矩阵大小： tf.Tensor(70805, shape=(), dtype=int32)\n",
      "float32大小： tf.Tensor(70805, shape=(), dtype=int32)\n",
      "load data success\n",
      "View of AnnData object with n_obs × n_vars = 13 × 893\n",
      "    obs: 'cell_type'\n",
      "    var: 'gene_ids'\n",
      "稀疏矩阵大小： tf.Tensor(11609, shape=(), dtype=int32)\n",
      "float32大小： tf.Tensor(11609, shape=(), dtype=int32)\n",
      "load data success\n"
     ]
    }
   ],
   "source": [
    "for cell_type, adata in adata_subs.items():\n",
    "    adata = data_obj.filter_genes(adata)\n",
    "    print(adata)\n",
    "    transform_data_obj = TransformDataReal(adata)\n",
    "    data, genes_info, cells_info = transform_data_obj.run()\n",
    "    transform_data[cell_type] = {'data': data, 'genes_info': genes_info, 'cells_info': cells_info}"
   ],
   "metadata": {
    "collapsed": false,
    "ExecuteTime": {
     "end_time": "2024-09-16T09:41:46.682852Z",
     "start_time": "2024-09-16T09:41:45.268667Z"
    }
   },
   "id": "6eb52c9dbf7c61cb",
   "execution_count": 42
  },
  {
   "cell_type": "code",
   "outputs": [],
   "source": [],
   "metadata": {
    "collapsed": false
   },
   "id": "d2c9ff4a281d591b"
  },
  {
   "cell_type": "code",
   "outputs": [],
   "source": [
    "#对每一个细胞类型进行关联规则的挖掘\n",
    "from utils.algorithms.association_rule import AssociationRule\n",
    "from utils.algorithms.matrix_association_rule import MatrixRule"
   ],
   "metadata": {
    "collapsed": false,
    "ExecuteTime": {
     "end_time": "2024-09-16T09:44:16.455798Z",
     "start_time": "2024-09-16T09:44:16.418390Z"
    }
   },
   "id": "c54913450c9be611",
   "execution_count": 43
  },
  {
   "cell_type": "code",
   "outputs": [],
   "source": [
    "data_tem_ct, data_dic = transform_data.popitem()"
   ],
   "metadata": {
    "collapsed": false,
    "ExecuteTime": {
     "end_time": "2024-09-16T09:44:18.011211Z",
     "start_time": "2024-09-16T09:44:18.005841Z"
    }
   },
   "id": "1f320c970226c840",
   "execution_count": 44
  },
  {
   "cell_type": "code",
   "outputs": [
    {
     "data": {
      "text/plain": "'Platelet'"
     },
     "execution_count": 45,
     "metadata": {},
     "output_type": "execute_result"
    }
   ],
   "source": [
    "data_tem_ct"
   ],
   "metadata": {
    "collapsed": false,
    "ExecuteTime": {
     "end_time": "2024-09-16T09:44:24.190390Z",
     "start_time": "2024-09-16T09:44:24.182820Z"
    }
   },
   "id": "a20e2d38f05c6ac7",
   "execution_count": 45
  },
  {
   "cell_type": "code",
   "outputs": [
    {
     "data": {
      "text/plain": "{'data': <tf.Tensor: shape=(893, 13), dtype=float32, numpy=\n array([[0., 0., 0., ..., 0., 0., 0.],\n        [0., 1., 0., ..., 0., 0., 0.],\n        [0., 1., 0., ..., 0., 0., 0.],\n        ...,\n        [0., 1., 0., ..., 1., 0., 1.],\n        [0., 1., 0., ..., 1., 0., 0.],\n        [1., 1., 0., ..., 1., 1., 1.]], dtype=float32)>,\n 'genes_info': Index(['ISG15', 'AURKAIP1', 'MRPL20', 'SSU72', 'GNB1', 'TNFRSF14', 'RPL22',\n        'PARK7', 'ENO1', 'PGD',\n        ...\n        'PRMT2', 'MT-ND1', 'MT-ND2', 'MT-CO1', 'MT-CO2', 'MT-ATP6', 'MT-CO3',\n        'MT-ND4', 'MT-ND5', 'MT-CYB'],\n       dtype='object', length=893),\n 'cells_info': Index(['ACCCACTGGTTCAG-1', 'ACGAACTGGCTATG-1', 'AGTCTTACTTCGGA-1',\n        'ATCATCTGACACCA-1', 'ATTCAGCTCATTGG-1', 'GACGCTCTCTCTCG-1',\n        'GAGTTGTGGTAGCT-1', 'GCGCATCTGGTTAC-1', 'GGAACACTTCAGAC-1',\n        'GGCATATGGGGAGT-1', 'GTCATACTTCGCCT-1', 'TAACACCTTGTTTC-1',\n        'TTACGTACGTTCAG-1'],\n       dtype='object')}"
     },
     "execution_count": 46,
     "metadata": {},
     "output_type": "execute_result"
    }
   ],
   "source": [
    "data_dic"
   ],
   "metadata": {
    "collapsed": false,
    "ExecuteTime": {
     "end_time": "2024-09-16T09:44:29.411181Z",
     "start_time": "2024-09-16T09:44:29.398762Z"
    }
   },
   "id": "c805e3e953df34b9",
   "execution_count": 46
  },
  {
   "cell_type": "code",
   "outputs": [],
   "source": [
    "matrix_rule = MatrixRule(data_dic['data'], data_dic['genes_info'], data_dic['cells_info'])"
   ],
   "metadata": {
    "collapsed": false,
    "ExecuteTime": {
     "end_time": "2024-09-16T09:50:12.054017Z",
     "start_time": "2024-09-16T09:50:12.048875Z"
    }
   },
   "id": "15b87b8115d74501",
   "execution_count": 47
  },
  {
   "cell_type": "code",
   "outputs": [
    {
     "ename": "TypeError",
     "evalue": "'dict' object is not callable",
     "output_type": "error",
     "traceback": [
      "\u001B[0;31m---------------------------------------------------------------------------\u001B[0m",
      "\u001B[0;31mTypeError\u001B[0m                                 Traceback (most recent call last)",
      "Cell \u001B[0;32mIn[49], line 1\u001B[0m\n\u001B[0;32m----> 1\u001B[0m data \u001B[38;5;241m=\u001B[39m \u001B[43mmatrix_rule\u001B[49m\u001B[38;5;241;43m.\u001B[39;49m\u001B[43mall_metrics_to_python\u001B[49m\u001B[43m(\u001B[49m\u001B[43m)\u001B[49m\n",
      "\u001B[0;31mTypeError\u001B[0m: 'dict' object is not callable"
     ]
    }
   ],
   "source": [
    "data = matrix_rule.all_metrics_to_python"
   ],
   "metadata": {
    "collapsed": false,
    "ExecuteTime": {
     "end_time": "2024-09-16T09:53:09.739361Z",
     "start_time": "2024-09-16T09:53:09.717530Z"
    }
   },
   "id": "b145a3e03dcb785f",
   "execution_count": 49
  },
  {
   "cell_type": "code",
   "outputs": [
    {
     "data": {
      "text/plain": "{'support': array([[0.15384616, 0.15384616, 0.07692308, ..., 0.15384616, 0.07692308,\n         0.15384616],\n        [0.15384616, 0.23076923, 0.15384616, ..., 0.23076923, 0.15384616,\n         0.23076923],\n        [0.07692308, 0.15384616, 0.15384616, ..., 0.15384616, 0.15384616,\n         0.15384616],\n        ...,\n        [0.15384616, 0.23076923, 0.15384616, ..., 0.53846157, 0.30769232,\n         0.46153846],\n        [0.07692308, 0.15384616, 0.15384616, ..., 0.30769232, 0.30769232,\n         0.30769232],\n        [0.15384616, 0.23076923, 0.15384616, ..., 0.46153846, 0.30769232,\n         0.84615386]], dtype=float32),\n 'confidence': array([[1.        , 0.6666667 , 0.5       , ..., 0.28571427, 0.25      ,\n         0.18181819],\n        [1.        , 1.        , 1.        , ..., 0.4285714 , 0.5       ,\n         0.27272728],\n        [0.5       , 0.6666667 , 1.        , ..., 0.28571427, 0.5       ,\n         0.18181819],\n        ...,\n        [1.        , 1.        , 1.        , ..., 1.        , 1.        ,\n         0.54545456],\n        [0.5       , 0.6666667 , 1.        , ..., 0.57142854, 1.        ,\n         0.36363637],\n        [1.        , 1.        , 1.        , ..., 0.8571428 , 1.        ,\n         1.        ]], dtype=float32),\n 'lift': array([[6.4999995, 4.3333335, 3.2499998, ..., 1.8571427, 1.6249999,\n         1.1818181],\n        [4.3333335, 4.3333335, 4.3333335, ..., 1.8571427, 2.1666667,\n         1.1818182],\n        [3.2499998, 4.3333335, 6.4999995, ..., 1.8571427, 3.2499998,\n         1.1818181],\n        ...,\n        [1.8571428, 1.8571428, 1.8571428, ..., 1.8571428, 1.8571428,\n         1.012987 ],\n        [1.6249999, 2.1666667, 3.2499998, ..., 1.8571427, 3.2499998,\n         1.1818181],\n        [1.1818181, 1.1818181, 1.1818181, ..., 1.0129869, 1.1818181,\n         1.1818181]], dtype=float32),\n 'leverage': array([[0.13017751, 0.1183432 , 0.05325444, ..., 0.07100592, 0.0295858 ,\n         0.02366863],\n        [0.1183432 , 0.17751479, 0.1183432 , ..., 0.10650887, 0.08284024,\n         0.03550296],\n        [0.05325444, 0.1183432 , 0.13017751, ..., 0.07100592, 0.10650888,\n         0.02366863],\n        ...,\n        [0.07100592, 0.10650887, 0.07100592, ..., 0.2485207 , 0.14201184,\n         0.00591713],\n        [0.0295858 , 0.08284024, 0.10650888, ..., 0.14201184, 0.21301776,\n         0.04733726],\n        [0.02366863, 0.03550296, 0.02366863, ..., 0.00591713, 0.04733726,\n         0.1301775 ]], dtype=float32),\n 'conviction': array([[      inf, 2.5384617, 1.6923077, ..., 1.1846154, 1.1282052,\n         1.034188 ],\n        [      inf,       inf,       inf, ..., 1.3461539, 1.5384616,\n         1.0576923],\n        [1.6923077, 2.5384617,       inf, ..., 1.1846154, 1.6923077,\n         1.034188 ],\n        ...,\n        [      inf,       inf,       inf, ...,       inf,       inf,\n         1.0153846],\n        [1.3846154, 2.0769234,       inf, ..., 1.6153846,       inf,\n         1.0879121],\n        [      inf,       inf,       inf, ..., 1.0769227,       inf,\n               inf]], dtype=float32)}"
     },
     "execution_count": 50,
     "metadata": {},
     "output_type": "execute_result"
    }
   ],
   "source": [
    "data"
   ],
   "metadata": {
    "collapsed": false,
    "ExecuteTime": {
     "end_time": "2024-09-16T09:53:16.561647Z",
     "start_time": "2024-09-16T09:53:16.550295Z"
    }
   },
   "id": "a47dfe19b093a303",
   "execution_count": 50
  },
  {
   "cell_type": "code",
   "outputs": [],
   "source": [
    "result_pd = matrix_rule.all_metrics_to_dataframe"
   ],
   "metadata": {
    "collapsed": false,
    "ExecuteTime": {
     "end_time": "2024-09-16T09:59:30.587071Z",
     "start_time": "2024-09-16T09:59:30.563084Z"
    }
   },
   "id": "3ec747925e6e38cc",
   "execution_count": 51
  },
  {
   "cell_type": "code",
   "outputs": [
    {
     "data": {
      "text/plain": "              metric     ISG15  AURKAIP1    MRPL20     SSU72      GNB1  \\\nISG15        support  0.153846  0.153846  0.076923  0.076923  0.076923   \nAURKAIP1     support  0.153846  0.230769  0.153846  0.153846  0.153846   \nMRPL20       support  0.076923  0.153846  0.153846  0.153846  0.153846   \nSSU72        support  0.076923  0.153846  0.153846  0.307692  0.153846   \nGNB1         support  0.076923  0.153846  0.153846  0.153846  0.230769   \n...              ...       ...       ...       ...       ...       ...   \nMT-ATP6   conviction  0.461538  0.692308       inf       inf  0.692308   \nMT-CO3    conviction       inf       inf       inf       inf       inf   \nMT-ND4    conviction       inf       inf       inf  0.923077  1.384615   \nMT-ND5    conviction  1.384615  2.076923       inf  1.384615  2.076923   \nMT-CYB    conviction       inf       inf       inf       inf  0.461538   \n\n          TNFRSF14     RPL22     PARK7      ENO1  ...     PRMT2    MT-ND1  \\\nISG15     0.000000  0.076923  0.000000  0.153846  ...  0.000000  0.153846   \nAURKAIP1  0.076923  0.153846  0.076923  0.230769  ...  0.076923  0.230769   \nMRPL20    0.076923  0.153846  0.076923  0.153846  ...  0.076923  0.153846   \nSSU72     0.076923  0.153846  0.153846  0.153846  ...  0.153846  0.230769   \nGNB1      0.076923  0.153846  0.153846  0.153846  ...  0.076923  0.230769   \n...            ...       ...       ...       ...  ...       ...       ...   \nMT-ATP6        inf       inf  0.692308  1.153846  ...       inf  0.846154   \nMT-CO3         inf       inf       inf       inf  ...       inf       inf   \nMT-ND4    0.923077       inf  0.923077       inf  ...  1.384615  1.269231   \nMT-ND5    1.384615       inf  1.038462  1.730769  ...  2.076923  1.087912   \nMT-CYB         inf       inf  0.461538       inf  ...       inf  0.846154   \n\n            MT-ND2    MT-CO1    MT-CO2   MT-ATP6    MT-CO3    MT-ND4  \\\nISG15     0.153846  0.153846  0.153846  0.076923  0.153846  0.153846   \nAURKAIP1  0.230769  0.230769  0.230769  0.153846  0.230769  0.230769   \nMRPL20    0.153846  0.153846  0.153846  0.153846  0.153846  0.153846   \nSSU72     0.307692  0.307692  0.230769  0.307692  0.307692  0.153846   \nGNB1      0.230769  0.230769  0.153846  0.153846  0.230769  0.153846   \n...            ...       ...       ...       ...       ...       ...   \nMT-ATP6   1.038462  0.923077  2.076923       inf  0.923077  0.807692   \nMT-CO3         inf       inf  0.692308  0.769231       inf       inf   \nMT-ND4    1.038461  1.107692  1.384615  0.923077  1.107692       inf   \nMT-ND5    1.246154  1.038462  1.246154  1.153846  1.038462  1.615385   \nMT-CYB    1.384615  0.923077       inf       inf  0.923077  1.076923   \n\n            MT-ND5    MT-CYB  \nISG15     0.076923  0.153846  \nAURKAIP1  0.153846  0.230769  \nMRPL20    0.153846  0.153846  \nSSU72     0.153846  0.307692  \nGNB1      0.153846  0.153846  \n...            ...       ...  \nMT-ATP6        inf  2.538462  \nMT-CO3         inf  0.846154  \nMT-ND4         inf  1.015385  \nMT-ND5         inf  1.087912  \nMT-CYB         inf       inf  \n\n[4465 rows x 894 columns]",
      "text/html": "<div>\n<style scoped>\n    .dataframe tbody tr th:only-of-type {\n        vertical-align: middle;\n    }\n\n    .dataframe tbody tr th {\n        vertical-align: top;\n    }\n\n    .dataframe thead th {\n        text-align: right;\n    }\n</style>\n<table border=\"1\" class=\"dataframe\">\n  <thead>\n    <tr style=\"text-align: right;\">\n      <th></th>\n      <th>metric</th>\n      <th>ISG15</th>\n      <th>AURKAIP1</th>\n      <th>MRPL20</th>\n      <th>SSU72</th>\n      <th>GNB1</th>\n      <th>TNFRSF14</th>\n      <th>RPL22</th>\n      <th>PARK7</th>\n      <th>ENO1</th>\n      <th>...</th>\n      <th>PRMT2</th>\n      <th>MT-ND1</th>\n      <th>MT-ND2</th>\n      <th>MT-CO1</th>\n      <th>MT-CO2</th>\n      <th>MT-ATP6</th>\n      <th>MT-CO3</th>\n      <th>MT-ND4</th>\n      <th>MT-ND5</th>\n      <th>MT-CYB</th>\n    </tr>\n  </thead>\n  <tbody>\n    <tr>\n      <th>ISG15</th>\n      <td>support</td>\n      <td>0.153846</td>\n      <td>0.153846</td>\n      <td>0.076923</td>\n      <td>0.076923</td>\n      <td>0.076923</td>\n      <td>0.000000</td>\n      <td>0.076923</td>\n      <td>0.000000</td>\n      <td>0.153846</td>\n      <td>...</td>\n      <td>0.000000</td>\n      <td>0.153846</td>\n      <td>0.153846</td>\n      <td>0.153846</td>\n      <td>0.153846</td>\n      <td>0.076923</td>\n      <td>0.153846</td>\n      <td>0.153846</td>\n      <td>0.076923</td>\n      <td>0.153846</td>\n    </tr>\n    <tr>\n      <th>AURKAIP1</th>\n      <td>support</td>\n      <td>0.153846</td>\n      <td>0.230769</td>\n      <td>0.153846</td>\n      <td>0.153846</td>\n      <td>0.153846</td>\n      <td>0.076923</td>\n      <td>0.153846</td>\n      <td>0.076923</td>\n      <td>0.230769</td>\n      <td>...</td>\n      <td>0.076923</td>\n      <td>0.230769</td>\n      <td>0.230769</td>\n      <td>0.230769</td>\n      <td>0.230769</td>\n      <td>0.153846</td>\n      <td>0.230769</td>\n      <td>0.230769</td>\n      <td>0.153846</td>\n      <td>0.230769</td>\n    </tr>\n    <tr>\n      <th>MRPL20</th>\n      <td>support</td>\n      <td>0.076923</td>\n      <td>0.153846</td>\n      <td>0.153846</td>\n      <td>0.153846</td>\n      <td>0.153846</td>\n      <td>0.076923</td>\n      <td>0.153846</td>\n      <td>0.076923</td>\n      <td>0.153846</td>\n      <td>...</td>\n      <td>0.076923</td>\n      <td>0.153846</td>\n      <td>0.153846</td>\n      <td>0.153846</td>\n      <td>0.153846</td>\n      <td>0.153846</td>\n      <td>0.153846</td>\n      <td>0.153846</td>\n      <td>0.153846</td>\n      <td>0.153846</td>\n    </tr>\n    <tr>\n      <th>SSU72</th>\n      <td>support</td>\n      <td>0.076923</td>\n      <td>0.153846</td>\n      <td>0.153846</td>\n      <td>0.307692</td>\n      <td>0.153846</td>\n      <td>0.076923</td>\n      <td>0.153846</td>\n      <td>0.153846</td>\n      <td>0.153846</td>\n      <td>...</td>\n      <td>0.153846</td>\n      <td>0.230769</td>\n      <td>0.307692</td>\n      <td>0.307692</td>\n      <td>0.230769</td>\n      <td>0.307692</td>\n      <td>0.307692</td>\n      <td>0.153846</td>\n      <td>0.153846</td>\n      <td>0.307692</td>\n    </tr>\n    <tr>\n      <th>GNB1</th>\n      <td>support</td>\n      <td>0.076923</td>\n      <td>0.153846</td>\n      <td>0.153846</td>\n      <td>0.153846</td>\n      <td>0.230769</td>\n      <td>0.076923</td>\n      <td>0.153846</td>\n      <td>0.153846</td>\n      <td>0.153846</td>\n      <td>...</td>\n      <td>0.076923</td>\n      <td>0.230769</td>\n      <td>0.230769</td>\n      <td>0.230769</td>\n      <td>0.153846</td>\n      <td>0.153846</td>\n      <td>0.230769</td>\n      <td>0.153846</td>\n      <td>0.153846</td>\n      <td>0.153846</td>\n    </tr>\n    <tr>\n      <th>...</th>\n      <td>...</td>\n      <td>...</td>\n      <td>...</td>\n      <td>...</td>\n      <td>...</td>\n      <td>...</td>\n      <td>...</td>\n      <td>...</td>\n      <td>...</td>\n      <td>...</td>\n      <td>...</td>\n      <td>...</td>\n      <td>...</td>\n      <td>...</td>\n      <td>...</td>\n      <td>...</td>\n      <td>...</td>\n      <td>...</td>\n      <td>...</td>\n      <td>...</td>\n      <td>...</td>\n    </tr>\n    <tr>\n      <th>MT-ATP6</th>\n      <td>conviction</td>\n      <td>0.461538</td>\n      <td>0.692308</td>\n      <td>inf</td>\n      <td>inf</td>\n      <td>0.692308</td>\n      <td>inf</td>\n      <td>inf</td>\n      <td>0.692308</td>\n      <td>1.153846</td>\n      <td>...</td>\n      <td>inf</td>\n      <td>0.846154</td>\n      <td>1.038462</td>\n      <td>0.923077</td>\n      <td>2.076923</td>\n      <td>inf</td>\n      <td>0.923077</td>\n      <td>0.807692</td>\n      <td>inf</td>\n      <td>2.538462</td>\n    </tr>\n    <tr>\n      <th>MT-CO3</th>\n      <td>conviction</td>\n      <td>inf</td>\n      <td>inf</td>\n      <td>inf</td>\n      <td>inf</td>\n      <td>inf</td>\n      <td>inf</td>\n      <td>inf</td>\n      <td>inf</td>\n      <td>inf</td>\n      <td>...</td>\n      <td>inf</td>\n      <td>inf</td>\n      <td>inf</td>\n      <td>inf</td>\n      <td>0.692308</td>\n      <td>0.769231</td>\n      <td>inf</td>\n      <td>inf</td>\n      <td>inf</td>\n      <td>0.846154</td>\n    </tr>\n    <tr>\n      <th>MT-ND4</th>\n      <td>conviction</td>\n      <td>inf</td>\n      <td>inf</td>\n      <td>inf</td>\n      <td>0.923077</td>\n      <td>1.384615</td>\n      <td>0.923077</td>\n      <td>inf</td>\n      <td>0.923077</td>\n      <td>inf</td>\n      <td>...</td>\n      <td>1.384615</td>\n      <td>1.269231</td>\n      <td>1.038461</td>\n      <td>1.107692</td>\n      <td>1.384615</td>\n      <td>0.923077</td>\n      <td>1.107692</td>\n      <td>inf</td>\n      <td>inf</td>\n      <td>1.015385</td>\n    </tr>\n    <tr>\n      <th>MT-ND5</th>\n      <td>conviction</td>\n      <td>1.384615</td>\n      <td>2.076923</td>\n      <td>inf</td>\n      <td>1.384615</td>\n      <td>2.076923</td>\n      <td>1.384615</td>\n      <td>inf</td>\n      <td>1.038462</td>\n      <td>1.730769</td>\n      <td>...</td>\n      <td>2.076923</td>\n      <td>1.087912</td>\n      <td>1.246154</td>\n      <td>1.038462</td>\n      <td>1.246154</td>\n      <td>1.153846</td>\n      <td>1.038462</td>\n      <td>1.615385</td>\n      <td>inf</td>\n      <td>1.087912</td>\n    </tr>\n    <tr>\n      <th>MT-CYB</th>\n      <td>conviction</td>\n      <td>inf</td>\n      <td>inf</td>\n      <td>inf</td>\n      <td>inf</td>\n      <td>0.461538</td>\n      <td>inf</td>\n      <td>inf</td>\n      <td>0.461538</td>\n      <td>inf</td>\n      <td>...</td>\n      <td>inf</td>\n      <td>0.846154</td>\n      <td>1.384615</td>\n      <td>0.923077</td>\n      <td>inf</td>\n      <td>inf</td>\n      <td>0.923077</td>\n      <td>1.076923</td>\n      <td>inf</td>\n      <td>inf</td>\n    </tr>\n  </tbody>\n</table>\n<p>4465 rows × 894 columns</p>\n</div>"
     },
     "execution_count": 52,
     "metadata": {},
     "output_type": "execute_result"
    }
   ],
   "source": [
    "result_pd"
   ],
   "metadata": {
    "collapsed": false,
    "ExecuteTime": {
     "end_time": "2024-09-16T09:59:35.900662Z",
     "start_time": "2024-09-16T09:59:35.856857Z"
    }
   },
   "id": "b134009cbd2868d4",
   "execution_count": 52
  },
  {
   "cell_type": "code",
   "outputs": [],
   "source": [
    "from utils.data_process.ar_metrics_process import SaveArMetrics, LoadArMetrics, FilterArMetrics"
   ],
   "metadata": {
    "collapsed": false,
    "ExecuteTime": {
     "end_time": "2024-09-16T11:58:36.085965Z",
     "start_time": "2024-09-16T11:58:36.083969Z"
    }
   },
   "id": "553ccdd1aa88a2d9",
   "execution_count": 112
  },
  {
   "cell_type": "code",
   "outputs": [],
   "source": [
    "result_pds = {'pbmc': result_pd}"
   ],
   "metadata": {
    "collapsed": false,
    "ExecuteTime": {
     "end_time": "2024-09-16T10:46:58.944215Z",
     "start_time": "2024-09-16T10:46:58.939120Z"
    }
   },
   "id": "2d7e6e798d1f8718",
   "execution_count": 58
  },
  {
   "cell_type": "code",
   "outputs": [],
   "source": [
    "threshold_dict={'support': 0.1, 'confidence': 0.6,}"
   ],
   "metadata": {
    "collapsed": false,
    "ExecuteTime": {
     "end_time": "2024-09-16T10:51:12.654521Z",
     "start_time": "2024-09-16T10:51:12.649001Z"
    }
   },
   "id": "42b69b687d9f7c6a",
   "execution_count": 67
  },
  {
   "cell_type": "code",
   "outputs": [],
   "source": [
    "results_filter = FilterArMetrics(result_pds, threshold_dict)"
   ],
   "metadata": {
    "collapsed": false,
    "ExecuteTime": {
     "end_time": "2024-09-16T10:51:15.403279Z",
     "start_time": "2024-09-16T10:51:15.397693Z"
    }
   },
   "id": "b96e19d029af537b",
   "execution_count": 68
  },
  {
   "cell_type": "markdown",
   "source": [],
   "metadata": {
    "collapsed": false
   },
   "id": "cfded911a315d15c"
  },
  {
   "cell_type": "code",
   "outputs": [],
   "source": [
    "res1 = results_filter.filter_result()"
   ],
   "metadata": {
    "collapsed": false,
    "ExecuteTime": {
     "end_time": "2024-09-16T10:51:17.673313Z",
     "start_time": "2024-09-16T10:51:17.158646Z"
    }
   },
   "id": "b534915c55da6f00",
   "execution_count": 69
  },
  {
   "cell_type": "code",
   "outputs": [
    {
     "data": {
      "text/plain": "{'pbmc':               metric     ISG15  AURKAIP1    MRPL20     SSU72      GNB1  \\\n ISG15        support  0.153846  0.153846       NaN       NaN       NaN   \n AURKAIP1     support  0.153846  0.230769  0.153846  0.153846  0.153846   \n MRPL20       support       NaN  0.153846  0.153846  0.153846  0.153846   \n SSU72        support       NaN  0.153846  0.153846  0.307692  0.153846   \n GNB1         support       NaN  0.153846  0.153846  0.153846  0.230769   \n ...              ...       ...       ...       ...       ...       ...   \n MT-ATP6   conviction  0.461538  0.692308       inf       inf  0.692308   \n MT-CO3    conviction       inf       inf       inf       inf       inf   \n MT-ND4    conviction       inf       inf       inf  0.923077  1.384615   \n MT-ND5    conviction  1.384615  2.076923       inf  1.384615  2.076923   \n MT-CYB    conviction       inf       inf       inf       inf  0.461538   \n \n           TNFRSF14     RPL22     PARK7      ENO1  ...     PRMT2    MT-ND1  \\\n ISG15          NaN       NaN       NaN  0.153846  ...       NaN  0.153846   \n AURKAIP1       NaN  0.153846       NaN  0.230769  ...       NaN  0.230769   \n MRPL20         NaN  0.153846       NaN  0.153846  ...       NaN  0.153846   \n SSU72          NaN  0.153846  0.153846  0.153846  ...  0.153846  0.230769   \n GNB1           NaN  0.153846  0.153846  0.153846  ...       NaN  0.230769   \n ...            ...       ...       ...       ...  ...       ...       ...   \n MT-ATP6        inf       inf  0.692308  1.153846  ...       inf  0.846154   \n MT-CO3         inf       inf       inf       inf  ...       inf       inf   \n MT-ND4    0.923077       inf  0.923077       inf  ...  1.384615  1.269231   \n MT-ND5    1.384615       inf  1.038462  1.730769  ...  2.076923  1.087912   \n MT-CYB         inf       inf  0.461538       inf  ...       inf  0.846154   \n \n             MT-ND2    MT-CO1    MT-CO2   MT-ATP6    MT-CO3    MT-ND4  \\\n ISG15     0.153846  0.153846  0.153846       NaN  0.153846  0.153846   \n AURKAIP1  0.230769  0.230769  0.230769  0.153846  0.230769  0.230769   \n MRPL20    0.153846  0.153846  0.153846  0.153846  0.153846  0.153846   \n SSU72     0.307692  0.307692  0.230769  0.307692  0.307692  0.153846   \n GNB1      0.230769  0.230769  0.153846  0.153846  0.230769  0.153846   \n ...            ...       ...       ...       ...       ...       ...   \n MT-ATP6   1.038462  0.923077  2.076923       inf  0.923077  0.807692   \n MT-CO3         inf       inf  0.692308  0.769231       inf       inf   \n MT-ND4    1.038461  1.107692  1.384615  0.923077  1.107692       inf   \n MT-ND5    1.246154  1.038462  1.246154  1.153846  1.038462  1.615385   \n MT-CYB    1.384615  0.923077       inf       inf  0.923077  1.076923   \n \n             MT-ND5    MT-CYB  \n ISG15          NaN  0.153846  \n AURKAIP1  0.153846  0.230769  \n MRPL20    0.153846  0.153846  \n SSU72     0.153846  0.307692  \n GNB1      0.153846  0.153846  \n ...            ...       ...  \n MT-ATP6        inf  2.538462  \n MT-CO3         inf  0.846154  \n MT-ND4         inf  1.015385  \n MT-ND5         inf  1.087912  \n MT-CYB         inf       inf  \n \n [4446 rows x 894 columns]}"
     },
     "execution_count": 70,
     "metadata": {},
     "output_type": "execute_result"
    }
   ],
   "source": [
    "res1"
   ],
   "metadata": {
    "collapsed": false,
    "ExecuteTime": {
     "end_time": "2024-09-16T10:51:19.244319Z",
     "start_time": "2024-09-16T10:51:19.227182Z"
    }
   },
   "id": "3db2bac9fbaf623c",
   "execution_count": 70
  },
  {
   "cell_type": "code",
   "outputs": [
    {
     "data": {
      "text/plain": "           metric     ISG15  AURKAIP1    MRPL20     SSU72      GNB1  TNFRSF14  \\\nISG15     support  0.153846  0.153846  0.076923  0.076923  0.076923  0.000000   \nAURKAIP1  support  0.153846  0.230769  0.153846  0.153846  0.153846  0.076923   \nMRPL20    support  0.076923  0.153846  0.153846  0.153846  0.153846  0.076923   \nSSU72     support  0.076923  0.153846  0.153846  0.307692  0.153846  0.076923   \nGNB1      support  0.076923  0.153846  0.153846  0.153846  0.230769  0.076923   \n\n             RPL22     PARK7      ENO1  ...     PRMT2    MT-ND1    MT-ND2  \\\nISG15     0.076923  0.000000  0.153846  ...  0.000000  0.153846  0.153846   \nAURKAIP1  0.153846  0.076923  0.230769  ...  0.076923  0.230769  0.230769   \nMRPL20    0.153846  0.076923  0.153846  ...  0.076923  0.153846  0.153846   \nSSU72     0.153846  0.153846  0.153846  ...  0.153846  0.230769  0.307692   \nGNB1      0.153846  0.153846  0.153846  ...  0.076923  0.230769  0.230769   \n\n            MT-CO1    MT-CO2   MT-ATP6    MT-CO3    MT-ND4    MT-ND5    MT-CYB  \nISG15     0.153846  0.153846  0.076923  0.153846  0.153846  0.076923  0.153846  \nAURKAIP1  0.230769  0.230769  0.153846  0.230769  0.230769  0.153846  0.230769  \nMRPL20    0.153846  0.153846  0.153846  0.153846  0.153846  0.153846  0.153846  \nSSU72     0.307692  0.230769  0.307692  0.307692  0.153846  0.153846  0.307692  \nGNB1      0.230769  0.153846  0.153846  0.230769  0.153846  0.153846  0.153846  \n\n[5 rows x 894 columns]",
      "text/html": "<div>\n<style scoped>\n    .dataframe tbody tr th:only-of-type {\n        vertical-align: middle;\n    }\n\n    .dataframe tbody tr th {\n        vertical-align: top;\n    }\n\n    .dataframe thead th {\n        text-align: right;\n    }\n</style>\n<table border=\"1\" class=\"dataframe\">\n  <thead>\n    <tr style=\"text-align: right;\">\n      <th></th>\n      <th>metric</th>\n      <th>ISG15</th>\n      <th>AURKAIP1</th>\n      <th>MRPL20</th>\n      <th>SSU72</th>\n      <th>GNB1</th>\n      <th>TNFRSF14</th>\n      <th>RPL22</th>\n      <th>PARK7</th>\n      <th>ENO1</th>\n      <th>...</th>\n      <th>PRMT2</th>\n      <th>MT-ND1</th>\n      <th>MT-ND2</th>\n      <th>MT-CO1</th>\n      <th>MT-CO2</th>\n      <th>MT-ATP6</th>\n      <th>MT-CO3</th>\n      <th>MT-ND4</th>\n      <th>MT-ND5</th>\n      <th>MT-CYB</th>\n    </tr>\n  </thead>\n  <tbody>\n    <tr>\n      <th>ISG15</th>\n      <td>support</td>\n      <td>0.153846</td>\n      <td>0.153846</td>\n      <td>0.076923</td>\n      <td>0.076923</td>\n      <td>0.076923</td>\n      <td>0.000000</td>\n      <td>0.076923</td>\n      <td>0.000000</td>\n      <td>0.153846</td>\n      <td>...</td>\n      <td>0.000000</td>\n      <td>0.153846</td>\n      <td>0.153846</td>\n      <td>0.153846</td>\n      <td>0.153846</td>\n      <td>0.076923</td>\n      <td>0.153846</td>\n      <td>0.153846</td>\n      <td>0.076923</td>\n      <td>0.153846</td>\n    </tr>\n    <tr>\n      <th>AURKAIP1</th>\n      <td>support</td>\n      <td>0.153846</td>\n      <td>0.230769</td>\n      <td>0.153846</td>\n      <td>0.153846</td>\n      <td>0.153846</td>\n      <td>0.076923</td>\n      <td>0.153846</td>\n      <td>0.076923</td>\n      <td>0.230769</td>\n      <td>...</td>\n      <td>0.076923</td>\n      <td>0.230769</td>\n      <td>0.230769</td>\n      <td>0.230769</td>\n      <td>0.230769</td>\n      <td>0.153846</td>\n      <td>0.230769</td>\n      <td>0.230769</td>\n      <td>0.153846</td>\n      <td>0.230769</td>\n    </tr>\n    <tr>\n      <th>MRPL20</th>\n      <td>support</td>\n      <td>0.076923</td>\n      <td>0.153846</td>\n      <td>0.153846</td>\n      <td>0.153846</td>\n      <td>0.153846</td>\n      <td>0.076923</td>\n      <td>0.153846</td>\n      <td>0.076923</td>\n      <td>0.153846</td>\n      <td>...</td>\n      <td>0.076923</td>\n      <td>0.153846</td>\n      <td>0.153846</td>\n      <td>0.153846</td>\n      <td>0.153846</td>\n      <td>0.153846</td>\n      <td>0.153846</td>\n      <td>0.153846</td>\n      <td>0.153846</td>\n      <td>0.153846</td>\n    </tr>\n    <tr>\n      <th>SSU72</th>\n      <td>support</td>\n      <td>0.076923</td>\n      <td>0.153846</td>\n      <td>0.153846</td>\n      <td>0.307692</td>\n      <td>0.153846</td>\n      <td>0.076923</td>\n      <td>0.153846</td>\n      <td>0.153846</td>\n      <td>0.153846</td>\n      <td>...</td>\n      <td>0.153846</td>\n      <td>0.230769</td>\n      <td>0.307692</td>\n      <td>0.307692</td>\n      <td>0.230769</td>\n      <td>0.307692</td>\n      <td>0.307692</td>\n      <td>0.153846</td>\n      <td>0.153846</td>\n      <td>0.307692</td>\n    </tr>\n    <tr>\n      <th>GNB1</th>\n      <td>support</td>\n      <td>0.076923</td>\n      <td>0.153846</td>\n      <td>0.153846</td>\n      <td>0.153846</td>\n      <td>0.230769</td>\n      <td>0.076923</td>\n      <td>0.153846</td>\n      <td>0.153846</td>\n      <td>0.153846</td>\n      <td>...</td>\n      <td>0.076923</td>\n      <td>0.230769</td>\n      <td>0.230769</td>\n      <td>0.230769</td>\n      <td>0.153846</td>\n      <td>0.153846</td>\n      <td>0.230769</td>\n      <td>0.153846</td>\n      <td>0.153846</td>\n      <td>0.153846</td>\n    </tr>\n  </tbody>\n</table>\n<p>5 rows × 894 columns</p>\n</div>"
     },
     "execution_count": 72,
     "metadata": {},
     "output_type": "execute_result"
    }
   ],
   "source": [
    "result_pds['pbmc'].head()"
   ],
   "metadata": {
    "collapsed": false,
    "ExecuteTime": {
     "end_time": "2024-09-16T10:51:42.210297Z",
     "start_time": "2024-09-16T10:51:42.197903Z"
    }
   },
   "id": "aa5487d84f04115b",
   "execution_count": 72
  },
  {
   "cell_type": "code",
   "outputs": [],
   "source": [],
   "metadata": {
    "collapsed": false
   },
   "id": "9aa5fad979cb8cae"
  },
  {
   "cell_type": "code",
   "outputs": [
    {
     "name": "stdout",
     "output_type": "stream",
     "text": [
      "              A  B\n",
      "first second      \n",
      "foo   one     1  5\n",
      "      two     2  6\n",
      "bar   one     3  7\n",
      "      two     4  8\n"
     ]
    }
   ],
   "source": [
    "# 创建数据\n",
    "import pandas as pd\n",
    "data = {\n",
    "    'A': [1, 2, 3, 4],\n",
    "    'B': [5, 6, 7, 8]\n",
    "}\n",
    "\n",
    "# 创建双重索引\n",
    "index = pd.MultiIndex.from_tuples(\n",
    "    [('foo', 'one'), ('foo', 'two'), ('bar', 'one'), ('bar', 'two')],\n",
    "    names=['first', 'second']\n",
    ")\n",
    "\n",
    "# 创建DataFrame\n",
    "df = pd.DataFrame(data, index=index)\n",
    "\n",
    "print(df)"
   ],
   "metadata": {
    "collapsed": false,
    "ExecuteTime": {
     "end_time": "2024-09-16T11:37:09.000465Z",
     "start_time": "2024-09-16T11:37:08.990887Z"
    }
   },
   "id": "752c35f9fa12c25b",
   "execution_count": 75
  },
  {
   "cell_type": "code",
   "outputs": [],
   "source": [
    "df['level_0'] = ['foo', 'foo', 'bar', 'bar']\n",
    "df['level_1'] = ['one', 'two', 'one', 'two']\n"
   ],
   "metadata": {
    "collapsed": false,
    "ExecuteTime": {
     "end_time": "2024-09-16T11:37:18.681263Z",
     "start_time": "2024-09-16T11:37:18.673591Z"
    }
   },
   "id": "fa8c42db26a5ac3b",
   "execution_count": 76
  },
  {
   "cell_type": "code",
   "outputs": [
    {
     "data": {
      "text/plain": "              A  B level_0 level_1\nfirst second                      \nfoo   one     1  5     foo     one\n      two     2  6     foo     two\nbar   one     3  7     bar     one\n      two     4  8     bar     two",
      "text/html": "<div>\n<style scoped>\n    .dataframe tbody tr th:only-of-type {\n        vertical-align: middle;\n    }\n\n    .dataframe tbody tr th {\n        vertical-align: top;\n    }\n\n    .dataframe thead th {\n        text-align: right;\n    }\n</style>\n<table border=\"1\" class=\"dataframe\">\n  <thead>\n    <tr style=\"text-align: right;\">\n      <th></th>\n      <th></th>\n      <th>A</th>\n      <th>B</th>\n      <th>level_0</th>\n      <th>level_1</th>\n    </tr>\n    <tr>\n      <th>first</th>\n      <th>second</th>\n      <th></th>\n      <th></th>\n      <th></th>\n      <th></th>\n    </tr>\n  </thead>\n  <tbody>\n    <tr>\n      <th rowspan=\"2\" valign=\"top\">foo</th>\n      <th>one</th>\n      <td>1</td>\n      <td>5</td>\n      <td>foo</td>\n      <td>one</td>\n    </tr>\n    <tr>\n      <th>two</th>\n      <td>2</td>\n      <td>6</td>\n      <td>foo</td>\n      <td>two</td>\n    </tr>\n    <tr>\n      <th rowspan=\"2\" valign=\"top\">bar</th>\n      <th>one</th>\n      <td>3</td>\n      <td>7</td>\n      <td>bar</td>\n      <td>one</td>\n    </tr>\n    <tr>\n      <th>two</th>\n      <td>4</td>\n      <td>8</td>\n      <td>bar</td>\n      <td>two</td>\n    </tr>\n  </tbody>\n</table>\n</div>"
     },
     "execution_count": 77,
     "metadata": {},
     "output_type": "execute_result"
    }
   ],
   "source": [
    "df"
   ],
   "metadata": {
    "collapsed": false,
    "ExecuteTime": {
     "end_time": "2024-09-16T11:37:23.137872Z",
     "start_time": "2024-09-16T11:37:23.128644Z"
    }
   },
   "id": "5ed723f59f61431c",
   "execution_count": 77
  },
  {
   "cell_type": "code",
   "outputs": [
    {
     "ename": "KeyError",
     "evalue": "\"None of ['A'] are in the columns\"",
     "output_type": "error",
     "traceback": [
      "\u001B[0;31m---------------------------------------------------------------------------\u001B[0m",
      "\u001B[0;31mKeyError\u001B[0m                                  Traceback (most recent call last)",
      "Cell \u001B[0;32mIn[81], line 2\u001B[0m\n\u001B[1;32m      1\u001B[0m \u001B[38;5;66;03m# 设置双重索引\u001B[39;00m\n\u001B[0;32m----> 2\u001B[0m \u001B[43mdf\u001B[49m\u001B[38;5;241;43m.\u001B[39;49m\u001B[43mset_index\u001B[49m\u001B[43m(\u001B[49m\u001B[43m[\u001B[49m\u001B[38;5;124;43m\"\u001B[39;49m\u001B[38;5;124;43mA\u001B[39;49m\u001B[38;5;124;43m\"\u001B[39;49m\u001B[43m]\u001B[49m\u001B[43m,\u001B[49m\u001B[43m \u001B[49m\u001B[43minplace\u001B[49m\u001B[38;5;241;43m=\u001B[39;49m\u001B[38;5;28;43;01mTrue\u001B[39;49;00m\u001B[43m)\u001B[49m\n",
      "File \u001B[0;32m~/anaconda3/envs/dl/lib/python3.10/site-packages/pandas/util/_decorators.py:331\u001B[0m, in \u001B[0;36mdeprecate_nonkeyword_arguments.<locals>.decorate.<locals>.wrapper\u001B[0;34m(*args, **kwargs)\u001B[0m\n\u001B[1;32m    325\u001B[0m \u001B[38;5;28;01mif\u001B[39;00m \u001B[38;5;28mlen\u001B[39m(args) \u001B[38;5;241m>\u001B[39m num_allow_args:\n\u001B[1;32m    326\u001B[0m     warnings\u001B[38;5;241m.\u001B[39mwarn(\n\u001B[1;32m    327\u001B[0m         msg\u001B[38;5;241m.\u001B[39mformat(arguments\u001B[38;5;241m=\u001B[39m_format_argument_list(allow_args)),\n\u001B[1;32m    328\u001B[0m         \u001B[38;5;167;01mFutureWarning\u001B[39;00m,\n\u001B[1;32m    329\u001B[0m         stacklevel\u001B[38;5;241m=\u001B[39mfind_stack_level(),\n\u001B[1;32m    330\u001B[0m     )\n\u001B[0;32m--> 331\u001B[0m \u001B[38;5;28;01mreturn\u001B[39;00m \u001B[43mfunc\u001B[49m\u001B[43m(\u001B[49m\u001B[38;5;241;43m*\u001B[39;49m\u001B[43margs\u001B[49m\u001B[43m,\u001B[49m\u001B[43m \u001B[49m\u001B[38;5;241;43m*\u001B[39;49m\u001B[38;5;241;43m*\u001B[39;49m\u001B[43mkwargs\u001B[49m\u001B[43m)\u001B[49m\n",
      "File \u001B[0;32m~/anaconda3/envs/dl/lib/python3.10/site-packages/pandas/core/frame.py:6012\u001B[0m, in \u001B[0;36mDataFrame.set_index\u001B[0;34m(self, keys, drop, append, inplace, verify_integrity)\u001B[0m\n\u001B[1;32m   6009\u001B[0m                 missing\u001B[38;5;241m.\u001B[39mappend(col)\n\u001B[1;32m   6011\u001B[0m \u001B[38;5;28;01mif\u001B[39;00m missing:\n\u001B[0;32m-> 6012\u001B[0m     \u001B[38;5;28;01mraise\u001B[39;00m \u001B[38;5;167;01mKeyError\u001B[39;00m(\u001B[38;5;124mf\u001B[39m\u001B[38;5;124m\"\u001B[39m\u001B[38;5;124mNone of \u001B[39m\u001B[38;5;132;01m{\u001B[39;00mmissing\u001B[38;5;132;01m}\u001B[39;00m\u001B[38;5;124m are in the columns\u001B[39m\u001B[38;5;124m\"\u001B[39m)\n\u001B[1;32m   6014\u001B[0m \u001B[38;5;28;01mif\u001B[39;00m inplace:\n\u001B[1;32m   6015\u001B[0m     frame \u001B[38;5;241m=\u001B[39m \u001B[38;5;28mself\u001B[39m\n",
      "\u001B[0;31mKeyError\u001B[0m: \"None of ['A'] are in the columns\""
     ]
    }
   ],
   "source": [
    "# 设置双重索引\n",
    "df.set_index([\"A\"], inplace=True)"
   ],
   "metadata": {
    "collapsed": false,
    "ExecuteTime": {
     "end_time": "2024-09-16T11:39:03.174353Z",
     "start_time": "2024-09-16T11:39:02.875282Z"
    }
   },
   "id": "3dbe6f812d1af4df",
   "execution_count": 81
  },
  {
   "cell_type": "code",
   "outputs": [
    {
     "data": {
      "text/plain": "   B\nA   \n1  5\n2  6\n3  7\n4  8",
      "text/html": "<div>\n<style scoped>\n    .dataframe tbody tr th:only-of-type {\n        vertical-align: middle;\n    }\n\n    .dataframe tbody tr th {\n        vertical-align: top;\n    }\n\n    .dataframe thead th {\n        text-align: right;\n    }\n</style>\n<table border=\"1\" class=\"dataframe\">\n  <thead>\n    <tr style=\"text-align: right;\">\n      <th></th>\n      <th>B</th>\n    </tr>\n    <tr>\n      <th>A</th>\n      <th></th>\n    </tr>\n  </thead>\n  <tbody>\n    <tr>\n      <th>1</th>\n      <td>5</td>\n    </tr>\n    <tr>\n      <th>2</th>\n      <td>6</td>\n    </tr>\n    <tr>\n      <th>3</th>\n      <td>7</td>\n    </tr>\n    <tr>\n      <th>4</th>\n      <td>8</td>\n    </tr>\n  </tbody>\n</table>\n</div>"
     },
     "execution_count": 82,
     "metadata": {},
     "output_type": "execute_result"
    }
   ],
   "source": [
    "df"
   ],
   "metadata": {
    "collapsed": false,
    "ExecuteTime": {
     "end_time": "2024-09-16T11:39:12.410960Z",
     "start_time": "2024-09-16T11:39:12.400546Z"
    }
   },
   "id": "b3c0b1f77b127e58",
   "execution_count": 82
  },
  {
   "cell_type": "code",
   "outputs": [],
   "source": [
    "from copy import deepcopy\n"
   ],
   "metadata": {
    "collapsed": false,
    "ExecuteTime": {
     "end_time": "2024-09-16T11:40:39.900622Z",
     "start_time": "2024-09-16T11:40:39.895708Z"
    }
   },
   "id": "de9adcac969f40ac",
   "execution_count": 86
  },
  {
   "cell_type": "code",
   "outputs": [],
   "source": [
    "result_pds2 = deepcopy(result_pds['pbmc'])"
   ],
   "metadata": {
    "collapsed": false,
    "ExecuteTime": {
     "end_time": "2024-09-16T11:44:13.947607Z",
     "start_time": "2024-09-16T11:44:13.939608Z"
    }
   },
   "id": "20d1e7ac30575e6f",
   "execution_count": 93
  },
  {
   "cell_type": "code",
   "outputs": [
    {
     "data": {
      "text/plain": "              metric     ISG15  AURKAIP1    MRPL20     SSU72      GNB1  \\\nISG15        support  0.153846  0.153846  0.076923  0.076923  0.076923   \nAURKAIP1     support  0.153846  0.230769  0.153846  0.153846  0.153846   \nMRPL20       support  0.076923  0.153846  0.153846  0.153846  0.153846   \nSSU72        support  0.076923  0.153846  0.153846  0.307692  0.153846   \nGNB1         support  0.076923  0.153846  0.153846  0.153846  0.230769   \n...              ...       ...       ...       ...       ...       ...   \nMT-ATP6   conviction  0.461538  0.692308       inf       inf  0.692308   \nMT-CO3    conviction       inf       inf       inf       inf       inf   \nMT-ND4    conviction       inf       inf       inf  0.923077  1.384615   \nMT-ND5    conviction  1.384615  2.076923       inf  1.384615  2.076923   \nMT-CYB    conviction       inf       inf       inf       inf  0.461538   \n\n          TNFRSF14     RPL22     PARK7      ENO1  ...     PRMT2    MT-ND1  \\\nISG15     0.000000  0.076923  0.000000  0.153846  ...  0.000000  0.153846   \nAURKAIP1  0.076923  0.153846  0.076923  0.230769  ...  0.076923  0.230769   \nMRPL20    0.076923  0.153846  0.076923  0.153846  ...  0.076923  0.153846   \nSSU72     0.076923  0.153846  0.153846  0.153846  ...  0.153846  0.230769   \nGNB1      0.076923  0.153846  0.153846  0.153846  ...  0.076923  0.230769   \n...            ...       ...       ...       ...  ...       ...       ...   \nMT-ATP6        inf       inf  0.692308  1.153846  ...       inf  0.846154   \nMT-CO3         inf       inf       inf       inf  ...       inf       inf   \nMT-ND4    0.923077       inf  0.923077       inf  ...  1.384615  1.269231   \nMT-ND5    1.384615       inf  1.038462  1.730769  ...  2.076923  1.087912   \nMT-CYB         inf       inf  0.461538       inf  ...       inf  0.846154   \n\n            MT-ND2    MT-CO1    MT-CO2   MT-ATP6    MT-CO3    MT-ND4  \\\nISG15     0.153846  0.153846  0.153846  0.076923  0.153846  0.153846   \nAURKAIP1  0.230769  0.230769  0.230769  0.153846  0.230769  0.230769   \nMRPL20    0.153846  0.153846  0.153846  0.153846  0.153846  0.153846   \nSSU72     0.307692  0.307692  0.230769  0.307692  0.307692  0.153846   \nGNB1      0.230769  0.230769  0.153846  0.153846  0.230769  0.153846   \n...            ...       ...       ...       ...       ...       ...   \nMT-ATP6   1.038462  0.923077  2.076923       inf  0.923077  0.807692   \nMT-CO3         inf       inf  0.692308  0.769231       inf       inf   \nMT-ND4    1.038461  1.107692  1.384615  0.923077  1.107692       inf   \nMT-ND5    1.246154  1.038462  1.246154  1.153846  1.038462  1.615385   \nMT-CYB    1.384615  0.923077       inf       inf  0.923077  1.076923   \n\n            MT-ND5    MT-CYB  \nISG15     0.076923  0.153846  \nAURKAIP1  0.153846  0.230769  \nMRPL20    0.153846  0.153846  \nSSU72     0.153846  0.307692  \nGNB1      0.153846  0.153846  \n...            ...       ...  \nMT-ATP6        inf  2.538462  \nMT-CO3         inf  0.846154  \nMT-ND4         inf  1.015385  \nMT-ND5         inf  1.087912  \nMT-CYB         inf       inf  \n\n[4465 rows x 894 columns]",
      "text/html": "<div>\n<style scoped>\n    .dataframe tbody tr th:only-of-type {\n        vertical-align: middle;\n    }\n\n    .dataframe tbody tr th {\n        vertical-align: top;\n    }\n\n    .dataframe thead th {\n        text-align: right;\n    }\n</style>\n<table border=\"1\" class=\"dataframe\">\n  <thead>\n    <tr style=\"text-align: right;\">\n      <th></th>\n      <th>metric</th>\n      <th>ISG15</th>\n      <th>AURKAIP1</th>\n      <th>MRPL20</th>\n      <th>SSU72</th>\n      <th>GNB1</th>\n      <th>TNFRSF14</th>\n      <th>RPL22</th>\n      <th>PARK7</th>\n      <th>ENO1</th>\n      <th>...</th>\n      <th>PRMT2</th>\n      <th>MT-ND1</th>\n      <th>MT-ND2</th>\n      <th>MT-CO1</th>\n      <th>MT-CO2</th>\n      <th>MT-ATP6</th>\n      <th>MT-CO3</th>\n      <th>MT-ND4</th>\n      <th>MT-ND5</th>\n      <th>MT-CYB</th>\n    </tr>\n  </thead>\n  <tbody>\n    <tr>\n      <th>ISG15</th>\n      <td>support</td>\n      <td>0.153846</td>\n      <td>0.153846</td>\n      <td>0.076923</td>\n      <td>0.076923</td>\n      <td>0.076923</td>\n      <td>0.000000</td>\n      <td>0.076923</td>\n      <td>0.000000</td>\n      <td>0.153846</td>\n      <td>...</td>\n      <td>0.000000</td>\n      <td>0.153846</td>\n      <td>0.153846</td>\n      <td>0.153846</td>\n      <td>0.153846</td>\n      <td>0.076923</td>\n      <td>0.153846</td>\n      <td>0.153846</td>\n      <td>0.076923</td>\n      <td>0.153846</td>\n    </tr>\n    <tr>\n      <th>AURKAIP1</th>\n      <td>support</td>\n      <td>0.153846</td>\n      <td>0.230769</td>\n      <td>0.153846</td>\n      <td>0.153846</td>\n      <td>0.153846</td>\n      <td>0.076923</td>\n      <td>0.153846</td>\n      <td>0.076923</td>\n      <td>0.230769</td>\n      <td>...</td>\n      <td>0.076923</td>\n      <td>0.230769</td>\n      <td>0.230769</td>\n      <td>0.230769</td>\n      <td>0.230769</td>\n      <td>0.153846</td>\n      <td>0.230769</td>\n      <td>0.230769</td>\n      <td>0.153846</td>\n      <td>0.230769</td>\n    </tr>\n    <tr>\n      <th>MRPL20</th>\n      <td>support</td>\n      <td>0.076923</td>\n      <td>0.153846</td>\n      <td>0.153846</td>\n      <td>0.153846</td>\n      <td>0.153846</td>\n      <td>0.076923</td>\n      <td>0.153846</td>\n      <td>0.076923</td>\n      <td>0.153846</td>\n      <td>...</td>\n      <td>0.076923</td>\n      <td>0.153846</td>\n      <td>0.153846</td>\n      <td>0.153846</td>\n      <td>0.153846</td>\n      <td>0.153846</td>\n      <td>0.153846</td>\n      <td>0.153846</td>\n      <td>0.153846</td>\n      <td>0.153846</td>\n    </tr>\n    <tr>\n      <th>SSU72</th>\n      <td>support</td>\n      <td>0.076923</td>\n      <td>0.153846</td>\n      <td>0.153846</td>\n      <td>0.307692</td>\n      <td>0.153846</td>\n      <td>0.076923</td>\n      <td>0.153846</td>\n      <td>0.153846</td>\n      <td>0.153846</td>\n      <td>...</td>\n      <td>0.153846</td>\n      <td>0.230769</td>\n      <td>0.307692</td>\n      <td>0.307692</td>\n      <td>0.230769</td>\n      <td>0.307692</td>\n      <td>0.307692</td>\n      <td>0.153846</td>\n      <td>0.153846</td>\n      <td>0.307692</td>\n    </tr>\n    <tr>\n      <th>GNB1</th>\n      <td>support</td>\n      <td>0.076923</td>\n      <td>0.153846</td>\n      <td>0.153846</td>\n      <td>0.153846</td>\n      <td>0.230769</td>\n      <td>0.076923</td>\n      <td>0.153846</td>\n      <td>0.153846</td>\n      <td>0.153846</td>\n      <td>...</td>\n      <td>0.076923</td>\n      <td>0.230769</td>\n      <td>0.230769</td>\n      <td>0.230769</td>\n      <td>0.153846</td>\n      <td>0.153846</td>\n      <td>0.230769</td>\n      <td>0.153846</td>\n      <td>0.153846</td>\n      <td>0.153846</td>\n    </tr>\n    <tr>\n      <th>...</th>\n      <td>...</td>\n      <td>...</td>\n      <td>...</td>\n      <td>...</td>\n      <td>...</td>\n      <td>...</td>\n      <td>...</td>\n      <td>...</td>\n      <td>...</td>\n      <td>...</td>\n      <td>...</td>\n      <td>...</td>\n      <td>...</td>\n      <td>...</td>\n      <td>...</td>\n      <td>...</td>\n      <td>...</td>\n      <td>...</td>\n      <td>...</td>\n      <td>...</td>\n      <td>...</td>\n    </tr>\n    <tr>\n      <th>MT-ATP6</th>\n      <td>conviction</td>\n      <td>0.461538</td>\n      <td>0.692308</td>\n      <td>inf</td>\n      <td>inf</td>\n      <td>0.692308</td>\n      <td>inf</td>\n      <td>inf</td>\n      <td>0.692308</td>\n      <td>1.153846</td>\n      <td>...</td>\n      <td>inf</td>\n      <td>0.846154</td>\n      <td>1.038462</td>\n      <td>0.923077</td>\n      <td>2.076923</td>\n      <td>inf</td>\n      <td>0.923077</td>\n      <td>0.807692</td>\n      <td>inf</td>\n      <td>2.538462</td>\n    </tr>\n    <tr>\n      <th>MT-CO3</th>\n      <td>conviction</td>\n      <td>inf</td>\n      <td>inf</td>\n      <td>inf</td>\n      <td>inf</td>\n      <td>inf</td>\n      <td>inf</td>\n      <td>inf</td>\n      <td>inf</td>\n      <td>inf</td>\n      <td>...</td>\n      <td>inf</td>\n      <td>inf</td>\n      <td>inf</td>\n      <td>inf</td>\n      <td>0.692308</td>\n      <td>0.769231</td>\n      <td>inf</td>\n      <td>inf</td>\n      <td>inf</td>\n      <td>0.846154</td>\n    </tr>\n    <tr>\n      <th>MT-ND4</th>\n      <td>conviction</td>\n      <td>inf</td>\n      <td>inf</td>\n      <td>inf</td>\n      <td>0.923077</td>\n      <td>1.384615</td>\n      <td>0.923077</td>\n      <td>inf</td>\n      <td>0.923077</td>\n      <td>inf</td>\n      <td>...</td>\n      <td>1.384615</td>\n      <td>1.269231</td>\n      <td>1.038461</td>\n      <td>1.107692</td>\n      <td>1.384615</td>\n      <td>0.923077</td>\n      <td>1.107692</td>\n      <td>inf</td>\n      <td>inf</td>\n      <td>1.015385</td>\n    </tr>\n    <tr>\n      <th>MT-ND5</th>\n      <td>conviction</td>\n      <td>1.384615</td>\n      <td>2.076923</td>\n      <td>inf</td>\n      <td>1.384615</td>\n      <td>2.076923</td>\n      <td>1.384615</td>\n      <td>inf</td>\n      <td>1.038462</td>\n      <td>1.730769</td>\n      <td>...</td>\n      <td>2.076923</td>\n      <td>1.087912</td>\n      <td>1.246154</td>\n      <td>1.038462</td>\n      <td>1.246154</td>\n      <td>1.153846</td>\n      <td>1.038462</td>\n      <td>1.615385</td>\n      <td>inf</td>\n      <td>1.087912</td>\n    </tr>\n    <tr>\n      <th>MT-CYB</th>\n      <td>conviction</td>\n      <td>inf</td>\n      <td>inf</td>\n      <td>inf</td>\n      <td>inf</td>\n      <td>0.461538</td>\n      <td>inf</td>\n      <td>inf</td>\n      <td>0.461538</td>\n      <td>inf</td>\n      <td>...</td>\n      <td>inf</td>\n      <td>0.846154</td>\n      <td>1.384615</td>\n      <td>0.923077</td>\n      <td>inf</td>\n      <td>inf</td>\n      <td>0.923077</td>\n      <td>1.076923</td>\n      <td>inf</td>\n      <td>inf</td>\n    </tr>\n  </tbody>\n</table>\n<p>4465 rows × 894 columns</p>\n</div>"
     },
     "execution_count": 94,
     "metadata": {},
     "output_type": "execute_result"
    }
   ],
   "source": [
    "result_pds2"
   ],
   "metadata": {
    "collapsed": false,
    "ExecuteTime": {
     "end_time": "2024-09-16T11:44:15.378710Z",
     "start_time": "2024-09-16T11:44:15.351928Z"
    }
   },
   "id": "a52e9bbb0abc0cd6",
   "execution_count": 94
  },
  {
   "cell_type": "code",
   "outputs": [],
   "source": [
    "result_pds2.set_index([\"metric\"], append=True, inplace=True)"
   ],
   "metadata": {
    "collapsed": false,
    "ExecuteTime": {
     "end_time": "2024-09-16T11:47:59.311689Z",
     "start_time": "2024-09-16T11:47:59.301955Z"
    }
   },
   "id": "1e474c49da939470",
   "execution_count": 104
  },
  {
   "cell_type": "code",
   "outputs": [
    {
     "data": {
      "text/plain": "                        ISG15  AURKAIP1    MRPL20     SSU72      GNB1  \\\n         metric                                                         \nISG15    support     0.153846  0.153846  0.076923  0.076923  0.076923   \nAURKAIP1 support     0.153846  0.230769  0.153846  0.153846  0.153846   \nMRPL20   support     0.076923  0.153846  0.153846  0.153846  0.153846   \nSSU72    support     0.076923  0.153846  0.153846  0.307692  0.153846   \nGNB1     support     0.076923  0.153846  0.153846  0.153846  0.230769   \n...                       ...       ...       ...       ...       ...   \nMT-ATP6  conviction  0.461538  0.692308       inf       inf  0.692308   \nMT-CO3   conviction       inf       inf       inf       inf       inf   \nMT-ND4   conviction       inf       inf       inf  0.923077  1.384615   \nMT-ND5   conviction  1.384615  2.076923       inf  1.384615  2.076923   \nMT-CYB   conviction       inf       inf       inf       inf  0.461538   \n\n                     TNFRSF14     RPL22     PARK7      ENO1       PGD  ...  \\\n         metric                                                        ...   \nISG15    support     0.000000  0.076923  0.000000  0.153846  0.000000  ...   \nAURKAIP1 support     0.076923  0.153846  0.076923  0.230769  0.000000  ...   \nMRPL20   support     0.076923  0.153846  0.076923  0.153846  0.000000  ...   \nSSU72    support     0.076923  0.153846  0.153846  0.153846  0.000000  ...   \nGNB1     support     0.076923  0.153846  0.153846  0.153846  0.076923  ...   \n...                       ...       ...       ...       ...       ...  ...   \nMT-ATP6  conviction       inf       inf  0.692308  1.153846  0.230769  ...   \nMT-CO3   conviction       inf       inf       inf       inf       inf  ...   \nMT-ND4   conviction  0.923077       inf  0.923077       inf  0.923077  ...   \nMT-ND5   conviction  1.384615       inf  1.038462  1.730769  0.692308  ...   \nMT-CYB   conviction       inf       inf  0.461538       inf  0.153846  ...   \n\n                        PRMT2    MT-ND1    MT-ND2    MT-CO1    MT-CO2  \\\n         metric                                                         \nISG15    support     0.000000  0.153846  0.153846  0.153846  0.153846   \nAURKAIP1 support     0.076923  0.230769  0.230769  0.230769  0.230769   \nMRPL20   support     0.076923  0.153846  0.153846  0.153846  0.153846   \nSSU72    support     0.153846  0.230769  0.307692  0.307692  0.230769   \nGNB1     support     0.076923  0.230769  0.230769  0.230769  0.153846   \n...                       ...       ...       ...       ...       ...   \nMT-ATP6  conviction       inf  0.846154  1.038462  0.923077  2.076923   \nMT-CO3   conviction       inf       inf       inf       inf  0.692308   \nMT-ND4   conviction  1.384615  1.269231  1.038461  1.107692  1.384615   \nMT-ND5   conviction  2.076923  1.087912  1.246154  1.038462  1.246154   \nMT-CYB   conviction       inf  0.846154  1.384615  0.923077       inf   \n\n                      MT-ATP6    MT-CO3    MT-ND4    MT-ND5    MT-CYB  \n         metric                                                        \nISG15    support     0.076923  0.153846  0.153846  0.076923  0.153846  \nAURKAIP1 support     0.153846  0.230769  0.230769  0.153846  0.230769  \nMRPL20   support     0.153846  0.153846  0.153846  0.153846  0.153846  \nSSU72    support     0.307692  0.307692  0.153846  0.153846  0.307692  \nGNB1     support     0.153846  0.230769  0.153846  0.153846  0.153846  \n...                       ...       ...       ...       ...       ...  \nMT-ATP6  conviction       inf  0.923077  0.807692       inf  2.538462  \nMT-CO3   conviction  0.769231       inf       inf       inf  0.846154  \nMT-ND4   conviction  0.923077  1.107692       inf       inf  1.015385  \nMT-ND5   conviction  1.153846  1.038462  1.615385       inf  1.087912  \nMT-CYB   conviction       inf  0.923077  1.076923       inf       inf  \n\n[4465 rows x 893 columns]",
      "text/html": "<div>\n<style scoped>\n    .dataframe tbody tr th:only-of-type {\n        vertical-align: middle;\n    }\n\n    .dataframe tbody tr th {\n        vertical-align: top;\n    }\n\n    .dataframe thead th {\n        text-align: right;\n    }\n</style>\n<table border=\"1\" class=\"dataframe\">\n  <thead>\n    <tr style=\"text-align: right;\">\n      <th></th>\n      <th></th>\n      <th>ISG15</th>\n      <th>AURKAIP1</th>\n      <th>MRPL20</th>\n      <th>SSU72</th>\n      <th>GNB1</th>\n      <th>TNFRSF14</th>\n      <th>RPL22</th>\n      <th>PARK7</th>\n      <th>ENO1</th>\n      <th>PGD</th>\n      <th>...</th>\n      <th>PRMT2</th>\n      <th>MT-ND1</th>\n      <th>MT-ND2</th>\n      <th>MT-CO1</th>\n      <th>MT-CO2</th>\n      <th>MT-ATP6</th>\n      <th>MT-CO3</th>\n      <th>MT-ND4</th>\n      <th>MT-ND5</th>\n      <th>MT-CYB</th>\n    </tr>\n    <tr>\n      <th></th>\n      <th>metric</th>\n      <th></th>\n      <th></th>\n      <th></th>\n      <th></th>\n      <th></th>\n      <th></th>\n      <th></th>\n      <th></th>\n      <th></th>\n      <th></th>\n      <th></th>\n      <th></th>\n      <th></th>\n      <th></th>\n      <th></th>\n      <th></th>\n      <th></th>\n      <th></th>\n      <th></th>\n      <th></th>\n      <th></th>\n    </tr>\n  </thead>\n  <tbody>\n    <tr>\n      <th>ISG15</th>\n      <th>support</th>\n      <td>0.153846</td>\n      <td>0.153846</td>\n      <td>0.076923</td>\n      <td>0.076923</td>\n      <td>0.076923</td>\n      <td>0.000000</td>\n      <td>0.076923</td>\n      <td>0.000000</td>\n      <td>0.153846</td>\n      <td>0.000000</td>\n      <td>...</td>\n      <td>0.000000</td>\n      <td>0.153846</td>\n      <td>0.153846</td>\n      <td>0.153846</td>\n      <td>0.153846</td>\n      <td>0.076923</td>\n      <td>0.153846</td>\n      <td>0.153846</td>\n      <td>0.076923</td>\n      <td>0.153846</td>\n    </tr>\n    <tr>\n      <th>AURKAIP1</th>\n      <th>support</th>\n      <td>0.153846</td>\n      <td>0.230769</td>\n      <td>0.153846</td>\n      <td>0.153846</td>\n      <td>0.153846</td>\n      <td>0.076923</td>\n      <td>0.153846</td>\n      <td>0.076923</td>\n      <td>0.230769</td>\n      <td>0.000000</td>\n      <td>...</td>\n      <td>0.076923</td>\n      <td>0.230769</td>\n      <td>0.230769</td>\n      <td>0.230769</td>\n      <td>0.230769</td>\n      <td>0.153846</td>\n      <td>0.230769</td>\n      <td>0.230769</td>\n      <td>0.153846</td>\n      <td>0.230769</td>\n    </tr>\n    <tr>\n      <th>MRPL20</th>\n      <th>support</th>\n      <td>0.076923</td>\n      <td>0.153846</td>\n      <td>0.153846</td>\n      <td>0.153846</td>\n      <td>0.153846</td>\n      <td>0.076923</td>\n      <td>0.153846</td>\n      <td>0.076923</td>\n      <td>0.153846</td>\n      <td>0.000000</td>\n      <td>...</td>\n      <td>0.076923</td>\n      <td>0.153846</td>\n      <td>0.153846</td>\n      <td>0.153846</td>\n      <td>0.153846</td>\n      <td>0.153846</td>\n      <td>0.153846</td>\n      <td>0.153846</td>\n      <td>0.153846</td>\n      <td>0.153846</td>\n    </tr>\n    <tr>\n      <th>SSU72</th>\n      <th>support</th>\n      <td>0.076923</td>\n      <td>0.153846</td>\n      <td>0.153846</td>\n      <td>0.307692</td>\n      <td>0.153846</td>\n      <td>0.076923</td>\n      <td>0.153846</td>\n      <td>0.153846</td>\n      <td>0.153846</td>\n      <td>0.000000</td>\n      <td>...</td>\n      <td>0.153846</td>\n      <td>0.230769</td>\n      <td>0.307692</td>\n      <td>0.307692</td>\n      <td>0.230769</td>\n      <td>0.307692</td>\n      <td>0.307692</td>\n      <td>0.153846</td>\n      <td>0.153846</td>\n      <td>0.307692</td>\n    </tr>\n    <tr>\n      <th>GNB1</th>\n      <th>support</th>\n      <td>0.076923</td>\n      <td>0.153846</td>\n      <td>0.153846</td>\n      <td>0.153846</td>\n      <td>0.230769</td>\n      <td>0.076923</td>\n      <td>0.153846</td>\n      <td>0.153846</td>\n      <td>0.153846</td>\n      <td>0.076923</td>\n      <td>...</td>\n      <td>0.076923</td>\n      <td>0.230769</td>\n      <td>0.230769</td>\n      <td>0.230769</td>\n      <td>0.153846</td>\n      <td>0.153846</td>\n      <td>0.230769</td>\n      <td>0.153846</td>\n      <td>0.153846</td>\n      <td>0.153846</td>\n    </tr>\n    <tr>\n      <th>...</th>\n      <th>...</th>\n      <td>...</td>\n      <td>...</td>\n      <td>...</td>\n      <td>...</td>\n      <td>...</td>\n      <td>...</td>\n      <td>...</td>\n      <td>...</td>\n      <td>...</td>\n      <td>...</td>\n      <td>...</td>\n      <td>...</td>\n      <td>...</td>\n      <td>...</td>\n      <td>...</td>\n      <td>...</td>\n      <td>...</td>\n      <td>...</td>\n      <td>...</td>\n      <td>...</td>\n      <td>...</td>\n    </tr>\n    <tr>\n      <th>MT-ATP6</th>\n      <th>conviction</th>\n      <td>0.461538</td>\n      <td>0.692308</td>\n      <td>inf</td>\n      <td>inf</td>\n      <td>0.692308</td>\n      <td>inf</td>\n      <td>inf</td>\n      <td>0.692308</td>\n      <td>1.153846</td>\n      <td>0.230769</td>\n      <td>...</td>\n      <td>inf</td>\n      <td>0.846154</td>\n      <td>1.038462</td>\n      <td>0.923077</td>\n      <td>2.076923</td>\n      <td>inf</td>\n      <td>0.923077</td>\n      <td>0.807692</td>\n      <td>inf</td>\n      <td>2.538462</td>\n    </tr>\n    <tr>\n      <th>MT-CO3</th>\n      <th>conviction</th>\n      <td>inf</td>\n      <td>inf</td>\n      <td>inf</td>\n      <td>inf</td>\n      <td>inf</td>\n      <td>inf</td>\n      <td>inf</td>\n      <td>inf</td>\n      <td>inf</td>\n      <td>inf</td>\n      <td>...</td>\n      <td>inf</td>\n      <td>inf</td>\n      <td>inf</td>\n      <td>inf</td>\n      <td>0.692308</td>\n      <td>0.769231</td>\n      <td>inf</td>\n      <td>inf</td>\n      <td>inf</td>\n      <td>0.846154</td>\n    </tr>\n    <tr>\n      <th>MT-ND4</th>\n      <th>conviction</th>\n      <td>inf</td>\n      <td>inf</td>\n      <td>inf</td>\n      <td>0.923077</td>\n      <td>1.384615</td>\n      <td>0.923077</td>\n      <td>inf</td>\n      <td>0.923077</td>\n      <td>inf</td>\n      <td>0.923077</td>\n      <td>...</td>\n      <td>1.384615</td>\n      <td>1.269231</td>\n      <td>1.038461</td>\n      <td>1.107692</td>\n      <td>1.384615</td>\n      <td>0.923077</td>\n      <td>1.107692</td>\n      <td>inf</td>\n      <td>inf</td>\n      <td>1.015385</td>\n    </tr>\n    <tr>\n      <th>MT-ND5</th>\n      <th>conviction</th>\n      <td>1.384615</td>\n      <td>2.076923</td>\n      <td>inf</td>\n      <td>1.384615</td>\n      <td>2.076923</td>\n      <td>1.384615</td>\n      <td>inf</td>\n      <td>1.038462</td>\n      <td>1.730769</td>\n      <td>0.692308</td>\n      <td>...</td>\n      <td>2.076923</td>\n      <td>1.087912</td>\n      <td>1.246154</td>\n      <td>1.038462</td>\n      <td>1.246154</td>\n      <td>1.153846</td>\n      <td>1.038462</td>\n      <td>1.615385</td>\n      <td>inf</td>\n      <td>1.087912</td>\n    </tr>\n    <tr>\n      <th>MT-CYB</th>\n      <th>conviction</th>\n      <td>inf</td>\n      <td>inf</td>\n      <td>inf</td>\n      <td>inf</td>\n      <td>0.461538</td>\n      <td>inf</td>\n      <td>inf</td>\n      <td>0.461538</td>\n      <td>inf</td>\n      <td>0.153846</td>\n      <td>...</td>\n      <td>inf</td>\n      <td>0.846154</td>\n      <td>1.384615</td>\n      <td>0.923077</td>\n      <td>inf</td>\n      <td>inf</td>\n      <td>0.923077</td>\n      <td>1.076923</td>\n      <td>inf</td>\n      <td>inf</td>\n    </tr>\n  </tbody>\n</table>\n<p>4465 rows × 893 columns</p>\n</div>"
     },
     "execution_count": 105,
     "metadata": {},
     "output_type": "execute_result"
    }
   ],
   "source": [
    "result_pds2"
   ],
   "metadata": {
    "collapsed": false,
    "ExecuteTime": {
     "end_time": "2024-09-16T11:48:03.207135Z",
     "start_time": "2024-09-16T11:48:03.181671Z"
    }
   },
   "id": "5acd143e0b355d80",
   "execution_count": 105
  },
  {
   "cell_type": "code",
   "outputs": [
    {
     "data": {
      "text/plain": "         index      metric     ISG15  AURKAIP1    MRPL20     SSU72      GNB1  \\\n0        ISG15     support  0.153846  0.153846  0.076923  0.076923  0.076923   \n1     AURKAIP1     support  0.153846  0.230769  0.153846  0.153846  0.153846   \n2       MRPL20     support  0.076923  0.153846  0.153846  0.153846  0.153846   \n3        SSU72     support  0.076923  0.153846  0.153846  0.307692  0.153846   \n4         GNB1     support  0.076923  0.153846  0.153846  0.153846  0.230769   \n...        ...         ...       ...       ...       ...       ...       ...   \n4460   MT-ATP6  conviction  0.461538  0.692308       inf       inf  0.692308   \n4461    MT-CO3  conviction       inf       inf       inf       inf       inf   \n4462    MT-ND4  conviction       inf       inf       inf  0.923077  1.384615   \n4463    MT-ND5  conviction  1.384615  2.076923       inf  1.384615  2.076923   \n4464    MT-CYB  conviction       inf       inf       inf       inf  0.461538   \n\n      TNFRSF14     RPL22     PARK7  ...     PRMT2    MT-ND1    MT-ND2  \\\n0     0.000000  0.076923  0.000000  ...  0.000000  0.153846  0.153846   \n1     0.076923  0.153846  0.076923  ...  0.076923  0.230769  0.230769   \n2     0.076923  0.153846  0.076923  ...  0.076923  0.153846  0.153846   \n3     0.076923  0.153846  0.153846  ...  0.153846  0.230769  0.307692   \n4     0.076923  0.153846  0.153846  ...  0.076923  0.230769  0.230769   \n...        ...       ...       ...  ...       ...       ...       ...   \n4460       inf       inf  0.692308  ...       inf  0.846154  1.038462   \n4461       inf       inf       inf  ...       inf       inf       inf   \n4462  0.923077       inf  0.923077  ...  1.384615  1.269231  1.038461   \n4463  1.384615       inf  1.038462  ...  2.076923  1.087912  1.246154   \n4464       inf       inf  0.461538  ...       inf  0.846154  1.384615   \n\n        MT-CO1    MT-CO2   MT-ATP6    MT-CO3    MT-ND4    MT-ND5    MT-CYB  \n0     0.153846  0.153846  0.076923  0.153846  0.153846  0.076923  0.153846  \n1     0.230769  0.230769  0.153846  0.230769  0.230769  0.153846  0.230769  \n2     0.153846  0.153846  0.153846  0.153846  0.153846  0.153846  0.153846  \n3     0.307692  0.230769  0.307692  0.307692  0.153846  0.153846  0.307692  \n4     0.230769  0.153846  0.153846  0.230769  0.153846  0.153846  0.153846  \n...        ...       ...       ...       ...       ...       ...       ...  \n4460  0.923077  2.076923       inf  0.923077  0.807692       inf  2.538462  \n4461       inf  0.692308  0.769231       inf       inf       inf  0.846154  \n4462  1.107692  1.384615  0.923077  1.107692       inf       inf  1.015385  \n4463  1.038462  1.246154  1.153846  1.038462  1.615385       inf  1.087912  \n4464  0.923077       inf       inf  0.923077  1.076923       inf       inf  \n\n[4465 rows x 895 columns]",
      "text/html": "<div>\n<style scoped>\n    .dataframe tbody tr th:only-of-type {\n        vertical-align: middle;\n    }\n\n    .dataframe tbody tr th {\n        vertical-align: top;\n    }\n\n    .dataframe thead th {\n        text-align: right;\n    }\n</style>\n<table border=\"1\" class=\"dataframe\">\n  <thead>\n    <tr style=\"text-align: right;\">\n      <th></th>\n      <th>index</th>\n      <th>metric</th>\n      <th>ISG15</th>\n      <th>AURKAIP1</th>\n      <th>MRPL20</th>\n      <th>SSU72</th>\n      <th>GNB1</th>\n      <th>TNFRSF14</th>\n      <th>RPL22</th>\n      <th>PARK7</th>\n      <th>...</th>\n      <th>PRMT2</th>\n      <th>MT-ND1</th>\n      <th>MT-ND2</th>\n      <th>MT-CO1</th>\n      <th>MT-CO2</th>\n      <th>MT-ATP6</th>\n      <th>MT-CO3</th>\n      <th>MT-ND4</th>\n      <th>MT-ND5</th>\n      <th>MT-CYB</th>\n    </tr>\n  </thead>\n  <tbody>\n    <tr>\n      <th>0</th>\n      <td>ISG15</td>\n      <td>support</td>\n      <td>0.153846</td>\n      <td>0.153846</td>\n      <td>0.076923</td>\n      <td>0.076923</td>\n      <td>0.076923</td>\n      <td>0.000000</td>\n      <td>0.076923</td>\n      <td>0.000000</td>\n      <td>...</td>\n      <td>0.000000</td>\n      <td>0.153846</td>\n      <td>0.153846</td>\n      <td>0.153846</td>\n      <td>0.153846</td>\n      <td>0.076923</td>\n      <td>0.153846</td>\n      <td>0.153846</td>\n      <td>0.076923</td>\n      <td>0.153846</td>\n    </tr>\n    <tr>\n      <th>1</th>\n      <td>AURKAIP1</td>\n      <td>support</td>\n      <td>0.153846</td>\n      <td>0.230769</td>\n      <td>0.153846</td>\n      <td>0.153846</td>\n      <td>0.153846</td>\n      <td>0.076923</td>\n      <td>0.153846</td>\n      <td>0.076923</td>\n      <td>...</td>\n      <td>0.076923</td>\n      <td>0.230769</td>\n      <td>0.230769</td>\n      <td>0.230769</td>\n      <td>0.230769</td>\n      <td>0.153846</td>\n      <td>0.230769</td>\n      <td>0.230769</td>\n      <td>0.153846</td>\n      <td>0.230769</td>\n    </tr>\n    <tr>\n      <th>2</th>\n      <td>MRPL20</td>\n      <td>support</td>\n      <td>0.076923</td>\n      <td>0.153846</td>\n      <td>0.153846</td>\n      <td>0.153846</td>\n      <td>0.153846</td>\n      <td>0.076923</td>\n      <td>0.153846</td>\n      <td>0.076923</td>\n      <td>...</td>\n      <td>0.076923</td>\n      <td>0.153846</td>\n      <td>0.153846</td>\n      <td>0.153846</td>\n      <td>0.153846</td>\n      <td>0.153846</td>\n      <td>0.153846</td>\n      <td>0.153846</td>\n      <td>0.153846</td>\n      <td>0.153846</td>\n    </tr>\n    <tr>\n      <th>3</th>\n      <td>SSU72</td>\n      <td>support</td>\n      <td>0.076923</td>\n      <td>0.153846</td>\n      <td>0.153846</td>\n      <td>0.307692</td>\n      <td>0.153846</td>\n      <td>0.076923</td>\n      <td>0.153846</td>\n      <td>0.153846</td>\n      <td>...</td>\n      <td>0.153846</td>\n      <td>0.230769</td>\n      <td>0.307692</td>\n      <td>0.307692</td>\n      <td>0.230769</td>\n      <td>0.307692</td>\n      <td>0.307692</td>\n      <td>0.153846</td>\n      <td>0.153846</td>\n      <td>0.307692</td>\n    </tr>\n    <tr>\n      <th>4</th>\n      <td>GNB1</td>\n      <td>support</td>\n      <td>0.076923</td>\n      <td>0.153846</td>\n      <td>0.153846</td>\n      <td>0.153846</td>\n      <td>0.230769</td>\n      <td>0.076923</td>\n      <td>0.153846</td>\n      <td>0.153846</td>\n      <td>...</td>\n      <td>0.076923</td>\n      <td>0.230769</td>\n      <td>0.230769</td>\n      <td>0.230769</td>\n      <td>0.153846</td>\n      <td>0.153846</td>\n      <td>0.230769</td>\n      <td>0.153846</td>\n      <td>0.153846</td>\n      <td>0.153846</td>\n    </tr>\n    <tr>\n      <th>...</th>\n      <td>...</td>\n      <td>...</td>\n      <td>...</td>\n      <td>...</td>\n      <td>...</td>\n      <td>...</td>\n      <td>...</td>\n      <td>...</td>\n      <td>...</td>\n      <td>...</td>\n      <td>...</td>\n      <td>...</td>\n      <td>...</td>\n      <td>...</td>\n      <td>...</td>\n      <td>...</td>\n      <td>...</td>\n      <td>...</td>\n      <td>...</td>\n      <td>...</td>\n      <td>...</td>\n    </tr>\n    <tr>\n      <th>4460</th>\n      <td>MT-ATP6</td>\n      <td>conviction</td>\n      <td>0.461538</td>\n      <td>0.692308</td>\n      <td>inf</td>\n      <td>inf</td>\n      <td>0.692308</td>\n      <td>inf</td>\n      <td>inf</td>\n      <td>0.692308</td>\n      <td>...</td>\n      <td>inf</td>\n      <td>0.846154</td>\n      <td>1.038462</td>\n      <td>0.923077</td>\n      <td>2.076923</td>\n      <td>inf</td>\n      <td>0.923077</td>\n      <td>0.807692</td>\n      <td>inf</td>\n      <td>2.538462</td>\n    </tr>\n    <tr>\n      <th>4461</th>\n      <td>MT-CO3</td>\n      <td>conviction</td>\n      <td>inf</td>\n      <td>inf</td>\n      <td>inf</td>\n      <td>inf</td>\n      <td>inf</td>\n      <td>inf</td>\n      <td>inf</td>\n      <td>inf</td>\n      <td>...</td>\n      <td>inf</td>\n      <td>inf</td>\n      <td>inf</td>\n      <td>inf</td>\n      <td>0.692308</td>\n      <td>0.769231</td>\n      <td>inf</td>\n      <td>inf</td>\n      <td>inf</td>\n      <td>0.846154</td>\n    </tr>\n    <tr>\n      <th>4462</th>\n      <td>MT-ND4</td>\n      <td>conviction</td>\n      <td>inf</td>\n      <td>inf</td>\n      <td>inf</td>\n      <td>0.923077</td>\n      <td>1.384615</td>\n      <td>0.923077</td>\n      <td>inf</td>\n      <td>0.923077</td>\n      <td>...</td>\n      <td>1.384615</td>\n      <td>1.269231</td>\n      <td>1.038461</td>\n      <td>1.107692</td>\n      <td>1.384615</td>\n      <td>0.923077</td>\n      <td>1.107692</td>\n      <td>inf</td>\n      <td>inf</td>\n      <td>1.015385</td>\n    </tr>\n    <tr>\n      <th>4463</th>\n      <td>MT-ND5</td>\n      <td>conviction</td>\n      <td>1.384615</td>\n      <td>2.076923</td>\n      <td>inf</td>\n      <td>1.384615</td>\n      <td>2.076923</td>\n      <td>1.384615</td>\n      <td>inf</td>\n      <td>1.038462</td>\n      <td>...</td>\n      <td>2.076923</td>\n      <td>1.087912</td>\n      <td>1.246154</td>\n      <td>1.038462</td>\n      <td>1.246154</td>\n      <td>1.153846</td>\n      <td>1.038462</td>\n      <td>1.615385</td>\n      <td>inf</td>\n      <td>1.087912</td>\n    </tr>\n    <tr>\n      <th>4464</th>\n      <td>MT-CYB</td>\n      <td>conviction</td>\n      <td>inf</td>\n      <td>inf</td>\n      <td>inf</td>\n      <td>inf</td>\n      <td>0.461538</td>\n      <td>inf</td>\n      <td>inf</td>\n      <td>0.461538</td>\n      <td>...</td>\n      <td>inf</td>\n      <td>0.846154</td>\n      <td>1.384615</td>\n      <td>0.923077</td>\n      <td>inf</td>\n      <td>inf</td>\n      <td>0.923077</td>\n      <td>1.076923</td>\n      <td>inf</td>\n      <td>inf</td>\n    </tr>\n  </tbody>\n</table>\n<p>4465 rows × 895 columns</p>\n</div>"
     },
     "execution_count": 96,
     "metadata": {},
     "output_type": "execute_result"
    }
   ],
   "source": [
    "result_pds2.reset_index(inplace=True)"
   ],
   "metadata": {
    "collapsed": false,
    "ExecuteTime": {
     "end_time": "2024-09-16T11:45:26.385703Z",
     "start_time": "2024-09-16T11:45:26.367890Z"
    }
   },
   "id": "5e9ca5e1d7e25471",
   "execution_count": 96
  },
  {
   "cell_type": "code",
   "outputs": [
    {
     "data": {
      "text/plain": "MultiIndex([(   'ISG15',    'support'),\n            ('AURKAIP1',    'support'),\n            (  'MRPL20',    'support'),\n            (   'SSU72',    'support'),\n            (    'GNB1',    'support'),\n            ('TNFRSF14',    'support'),\n            (   'RPL22',    'support'),\n            (   'PARK7',    'support'),\n            (    'ENO1',    'support'),\n            (     'PGD',    'support'),\n            ...\n            (   'PRMT2', 'conviction'),\n            (  'MT-ND1', 'conviction'),\n            (  'MT-ND2', 'conviction'),\n            (  'MT-CO1', 'conviction'),\n            (  'MT-CO2', 'conviction'),\n            ( 'MT-ATP6', 'conviction'),\n            (  'MT-CO3', 'conviction'),\n            (  'MT-ND4', 'conviction'),\n            (  'MT-ND5', 'conviction'),\n            (  'MT-CYB', 'conviction')],\n           names=[None, 'metric'], length=4465)"
     },
     "execution_count": 106,
     "metadata": {},
     "output_type": "execute_result"
    }
   ],
   "source": [
    "result_pds2.index"
   ],
   "metadata": {
    "collapsed": false,
    "ExecuteTime": {
     "end_time": "2024-09-16T11:48:15.276283Z",
     "start_time": "2024-09-16T11:48:15.267435Z"
    }
   },
   "id": "246f527cb8b6a795",
   "execution_count": 106
  },
  {
   "cell_type": "code",
   "outputs": [],
   "source": [
    "a = result_pds2.loc[\"ISG15\", \"AURKAIP1\"]"
   ],
   "metadata": {
    "collapsed": false,
    "ExecuteTime": {
     "end_time": "2024-09-16T11:53:09.918832Z",
     "start_time": "2024-09-16T11:53:09.912103Z"
    }
   },
   "id": "aec6625a240e41cb",
   "execution_count": 109
  },
  {
   "cell_type": "code",
   "outputs": [
    {
     "data": {
      "text/plain": "pandas.core.series.Series"
     },
     "execution_count": 110,
     "metadata": {},
     "output_type": "execute_result"
    }
   ],
   "source": [
    "type(a)"
   ],
   "metadata": {
    "collapsed": false,
    "ExecuteTime": {
     "end_time": "2024-09-16T11:53:16.106517Z",
     "start_time": "2024-09-16T11:53:16.099420Z"
    }
   },
   "id": "918f24b153702dc6",
   "execution_count": 110
  },
  {
   "cell_type": "code",
   "outputs": [
    {
     "data": {
      "text/plain": "pandas.core.series.Series"
     },
     "execution_count": 113,
     "metadata": {},
     "output_type": "execute_result"
    }
   ],
   "source": [
    "type(a)"
   ],
   "metadata": {
    "collapsed": false,
    "ExecuteTime": {
     "end_time": "2024-09-16T11:58:42.517313Z",
     "start_time": "2024-09-16T11:58:42.510133Z"
    }
   },
   "id": "35f7408ab71a5323",
   "execution_count": 113
  },
  {
   "cell_type": "code",
   "outputs": [],
   "source": [
    "from utils.data_process.ar_metrics_process import SaveArMetrics, LoadArMetrics, FilterArMetrics"
   ],
   "metadata": {
    "collapsed": false,
    "ExecuteTime": {
     "end_time": "2024-09-16T13:20:28.807924Z",
     "start_time": "2024-09-16T13:20:28.802799Z"
    }
   },
   "id": "fa0124127e1bea2d",
   "execution_count": 233
  },
  {
   "cell_type": "code",
   "outputs": [],
   "source": [
    "results_filter = FilterArMetrics(result_pds, threshold_dict)"
   ],
   "metadata": {
    "collapsed": false,
    "ExecuteTime": {
     "end_time": "2024-09-16T13:20:33.580263Z",
     "start_time": "2024-09-16T13:20:33.574967Z"
    }
   },
   "id": "95cfdf612ba3fb74",
   "execution_count": 235
  },
  {
   "cell_type": "code",
   "outputs": [],
   "source": [
    "new_df = results_filter.transform_to_pairs_in_df(result_pds2)"
   ],
   "metadata": {
    "collapsed": false,
    "ExecuteTime": {
     "end_time": "2024-09-16T13:20:37.830681Z",
     "start_time": "2024-09-16T13:20:37.283531Z"
    }
   },
   "id": "d25489268dda0833",
   "execution_count": 236
  },
  {
   "cell_type": "code",
   "outputs": [
    {
     "data": {
      "text/plain": "metric antecedent consequent  confidence  conviction  leverage      lift  \\\n0            ABI1      ISG15    0.000000    0.846154 -0.023669  0.000000   \n1            ABI1   AURKAIP1    0.333333    1.269231  0.041420  2.166667   \n2            ABI1     MRPL20    0.500000    1.692308  0.053254  3.250000   \n3            ABI1      SSU72    0.250000    1.128205  0.029586  1.625000   \n4            ABI1       GNB1    0.333333    1.269231  0.041420  2.166667   \n...           ...        ...         ...         ...       ...       ...   \n797444        ZYX    MT-ATP6    0.300000    0.989011 -0.005917  0.975000   \n797445        ZYX     MT-CO3    0.333333    1.038462  0.023669  1.083333   \n797446        ZYX     MT-ND4    0.285714    0.969231 -0.011834  0.928571   \n797447        ZYX     MT-ND5    0.250000    0.923077 -0.017751  0.812500   \n797448        ZYX     MT-CYB    0.272727    0.951923 -0.029586  0.886364   \n\nmetric   support  \n0       0.000000  \n1       0.076923  \n2       0.076923  \n3       0.076923  \n4       0.076923  \n...          ...  \n797444  0.230769  \n797445  0.307692  \n797446  0.153846  \n797447  0.076923  \n797448  0.230769  \n\n[796556 rows x 7 columns]",
      "text/html": "<div>\n<style scoped>\n    .dataframe tbody tr th:only-of-type {\n        vertical-align: middle;\n    }\n\n    .dataframe tbody tr th {\n        vertical-align: top;\n    }\n\n    .dataframe thead th {\n        text-align: right;\n    }\n</style>\n<table border=\"1\" class=\"dataframe\">\n  <thead>\n    <tr style=\"text-align: right;\">\n      <th>metric</th>\n      <th>antecedent</th>\n      <th>consequent</th>\n      <th>confidence</th>\n      <th>conviction</th>\n      <th>leverage</th>\n      <th>lift</th>\n      <th>support</th>\n    </tr>\n  </thead>\n  <tbody>\n    <tr>\n      <th>0</th>\n      <td>ABI1</td>\n      <td>ISG15</td>\n      <td>0.000000</td>\n      <td>0.846154</td>\n      <td>-0.023669</td>\n      <td>0.000000</td>\n      <td>0.000000</td>\n    </tr>\n    <tr>\n      <th>1</th>\n      <td>ABI1</td>\n      <td>AURKAIP1</td>\n      <td>0.333333</td>\n      <td>1.269231</td>\n      <td>0.041420</td>\n      <td>2.166667</td>\n      <td>0.076923</td>\n    </tr>\n    <tr>\n      <th>2</th>\n      <td>ABI1</td>\n      <td>MRPL20</td>\n      <td>0.500000</td>\n      <td>1.692308</td>\n      <td>0.053254</td>\n      <td>3.250000</td>\n      <td>0.076923</td>\n    </tr>\n    <tr>\n      <th>3</th>\n      <td>ABI1</td>\n      <td>SSU72</td>\n      <td>0.250000</td>\n      <td>1.128205</td>\n      <td>0.029586</td>\n      <td>1.625000</td>\n      <td>0.076923</td>\n    </tr>\n    <tr>\n      <th>4</th>\n      <td>ABI1</td>\n      <td>GNB1</td>\n      <td>0.333333</td>\n      <td>1.269231</td>\n      <td>0.041420</td>\n      <td>2.166667</td>\n      <td>0.076923</td>\n    </tr>\n    <tr>\n      <th>...</th>\n      <td>...</td>\n      <td>...</td>\n      <td>...</td>\n      <td>...</td>\n      <td>...</td>\n      <td>...</td>\n      <td>...</td>\n    </tr>\n    <tr>\n      <th>797444</th>\n      <td>ZYX</td>\n      <td>MT-ATP6</td>\n      <td>0.300000</td>\n      <td>0.989011</td>\n      <td>-0.005917</td>\n      <td>0.975000</td>\n      <td>0.230769</td>\n    </tr>\n    <tr>\n      <th>797445</th>\n      <td>ZYX</td>\n      <td>MT-CO3</td>\n      <td>0.333333</td>\n      <td>1.038462</td>\n      <td>0.023669</td>\n      <td>1.083333</td>\n      <td>0.307692</td>\n    </tr>\n    <tr>\n      <th>797446</th>\n      <td>ZYX</td>\n      <td>MT-ND4</td>\n      <td>0.285714</td>\n      <td>0.969231</td>\n      <td>-0.011834</td>\n      <td>0.928571</td>\n      <td>0.153846</td>\n    </tr>\n    <tr>\n      <th>797447</th>\n      <td>ZYX</td>\n      <td>MT-ND5</td>\n      <td>0.250000</td>\n      <td>0.923077</td>\n      <td>-0.017751</td>\n      <td>0.812500</td>\n      <td>0.076923</td>\n    </tr>\n    <tr>\n      <th>797448</th>\n      <td>ZYX</td>\n      <td>MT-CYB</td>\n      <td>0.272727</td>\n      <td>0.951923</td>\n      <td>-0.029586</td>\n      <td>0.886364</td>\n      <td>0.230769</td>\n    </tr>\n  </tbody>\n</table>\n<p>796556 rows × 7 columns</p>\n</div>"
     },
     "execution_count": 237,
     "metadata": {},
     "output_type": "execute_result"
    }
   ],
   "source": [
    "new_df"
   ],
   "metadata": {
    "collapsed": false,
    "ExecuteTime": {
     "end_time": "2024-09-16T13:20:43.042480Z",
     "start_time": "2024-09-16T13:20:43.023663Z"
    }
   },
   "id": "10a65642ea44f0fd",
   "execution_count": 237
  },
  {
   "cell_type": "code",
   "outputs": [],
   "source": [],
   "metadata": {
    "collapsed": false,
    "ExecuteTime": {
     "end_time": "2024-09-16T12:43:26.029120Z",
     "start_time": "2024-09-16T12:43:26.027176Z"
    }
   },
   "id": "beff9dd830aca66b",
   "execution_count": 189
  },
  {
   "cell_type": "code",
   "outputs": [],
   "source": [],
   "metadata": {
    "collapsed": false,
    "ExecuteTime": {
     "end_time": "2024-09-16T12:49:05.947775Z",
     "start_time": "2024-09-16T12:49:05.411201Z"
    }
   },
   "id": "77b91e1458a07b2a",
   "execution_count": 204
  },
  {
   "cell_type": "code",
   "outputs": [],
   "source": [],
   "metadata": {
    "collapsed": false
   },
   "id": "7c37f3be18e2ac91"
  },
  {
   "cell_type": "code",
   "outputs": [],
   "source": [],
   "metadata": {
    "collapsed": false
   },
   "id": "8cf4b7b03e3d7361"
  },
  {
   "cell_type": "code",
   "outputs": [],
   "source": [],
   "metadata": {
    "collapsed": false
   },
   "id": "fc30006a3126ba4b"
  },
  {
   "cell_type": "code",
   "outputs": [],
   "source": [
    "import importlib\n",
    "\n",
    "import utils.data_process.ar_metrics_process"
   ],
   "metadata": {
    "collapsed": false,
    "ExecuteTime": {
     "end_time": "2024-09-16T13:21:38.258236Z",
     "start_time": "2024-09-16T13:21:38.253689Z"
    }
   },
   "id": "4f4ac73d736de047",
   "execution_count": 239
  },
  {
   "cell_type": "code",
   "outputs": [
    {
     "data": {
      "text/plain": "<module 'utils.data_process.ar_metrics_process' from '/mnt/sda/liuyq/asso_rule2/utils/data_process/ar_metrics_process.py'>"
     },
     "execution_count": 238,
     "metadata": {},
     "output_type": "execute_result"
    }
   ],
   "source": [
    "importlib.reload(utils.data_process.ar_metrics_process)"
   ],
   "metadata": {
    "collapsed": false,
    "ExecuteTime": {
     "end_time": "2024-09-16T13:21:36.991709Z",
     "start_time": "2024-09-16T13:21:36.981094Z"
    }
   },
   "id": "2e8f772af35af70f",
   "execution_count": 238
  },
  {
   "cell_type": "code",
   "outputs": [],
   "source": [],
   "metadata": {
    "collapsed": false
   },
   "id": "a506771f1d93b2f2"
  },
  {
   "cell_type": "code",
   "outputs": [],
   "source": [
    "from utils.pipe_analysis.subnet_detection import Graph"
   ],
   "metadata": {
    "collapsed": false,
    "ExecuteTime": {
     "end_time": "2024-09-16T13:35:29.667805Z",
     "start_time": "2024-09-16T13:35:29.663247Z"
    }
   },
   "id": "e131c8048bc10ac4",
   "execution_count": 266
  },
  {
   "cell_type": "code",
   "outputs": [
    {
     "data": {
      "text/plain": "metric antecedent consequent  confidence  conviction  leverage      lift  \\\n0            ABI1      ISG15    0.000000    0.846154 -0.023669  0.000000   \n1            ABI1   AURKAIP1    0.333333    1.269231  0.041420  2.166667   \n2            ABI1     MRPL20    0.500000    1.692308  0.053254  3.250000   \n3            ABI1      SSU72    0.250000    1.128205  0.029586  1.625000   \n4            ABI1       GNB1    0.333333    1.269231  0.041420  2.166667   \n...           ...        ...         ...         ...       ...       ...   \n797444        ZYX    MT-ATP6    0.300000    0.989011 -0.005917  0.975000   \n797445        ZYX     MT-CO3    0.333333    1.038462  0.023669  1.083333   \n797446        ZYX     MT-ND4    0.285714    0.969231 -0.011834  0.928571   \n797447        ZYX     MT-ND5    0.250000    0.923077 -0.017751  0.812500   \n797448        ZYX     MT-CYB    0.272727    0.951923 -0.029586  0.886364   \n\nmetric   support  \n0       0.000000  \n1       0.076923  \n2       0.076923  \n3       0.076923  \n4       0.076923  \n...          ...  \n797444  0.230769  \n797445  0.307692  \n797446  0.153846  \n797447  0.076923  \n797448  0.230769  \n\n[796556 rows x 7 columns]",
      "text/html": "<div>\n<style scoped>\n    .dataframe tbody tr th:only-of-type {\n        vertical-align: middle;\n    }\n\n    .dataframe tbody tr th {\n        vertical-align: top;\n    }\n\n    .dataframe thead th {\n        text-align: right;\n    }\n</style>\n<table border=\"1\" class=\"dataframe\">\n  <thead>\n    <tr style=\"text-align: right;\">\n      <th>metric</th>\n      <th>antecedent</th>\n      <th>consequent</th>\n      <th>confidence</th>\n      <th>conviction</th>\n      <th>leverage</th>\n      <th>lift</th>\n      <th>support</th>\n    </tr>\n  </thead>\n  <tbody>\n    <tr>\n      <th>0</th>\n      <td>ABI1</td>\n      <td>ISG15</td>\n      <td>0.000000</td>\n      <td>0.846154</td>\n      <td>-0.023669</td>\n      <td>0.000000</td>\n      <td>0.000000</td>\n    </tr>\n    <tr>\n      <th>1</th>\n      <td>ABI1</td>\n      <td>AURKAIP1</td>\n      <td>0.333333</td>\n      <td>1.269231</td>\n      <td>0.041420</td>\n      <td>2.166667</td>\n      <td>0.076923</td>\n    </tr>\n    <tr>\n      <th>2</th>\n      <td>ABI1</td>\n      <td>MRPL20</td>\n      <td>0.500000</td>\n      <td>1.692308</td>\n      <td>0.053254</td>\n      <td>3.250000</td>\n      <td>0.076923</td>\n    </tr>\n    <tr>\n      <th>3</th>\n      <td>ABI1</td>\n      <td>SSU72</td>\n      <td>0.250000</td>\n      <td>1.128205</td>\n      <td>0.029586</td>\n      <td>1.625000</td>\n      <td>0.076923</td>\n    </tr>\n    <tr>\n      <th>4</th>\n      <td>ABI1</td>\n      <td>GNB1</td>\n      <td>0.333333</td>\n      <td>1.269231</td>\n      <td>0.041420</td>\n      <td>2.166667</td>\n      <td>0.076923</td>\n    </tr>\n    <tr>\n      <th>...</th>\n      <td>...</td>\n      <td>...</td>\n      <td>...</td>\n      <td>...</td>\n      <td>...</td>\n      <td>...</td>\n      <td>...</td>\n    </tr>\n    <tr>\n      <th>797444</th>\n      <td>ZYX</td>\n      <td>MT-ATP6</td>\n      <td>0.300000</td>\n      <td>0.989011</td>\n      <td>-0.005917</td>\n      <td>0.975000</td>\n      <td>0.230769</td>\n    </tr>\n    <tr>\n      <th>797445</th>\n      <td>ZYX</td>\n      <td>MT-CO3</td>\n      <td>0.333333</td>\n      <td>1.038462</td>\n      <td>0.023669</td>\n      <td>1.083333</td>\n      <td>0.307692</td>\n    </tr>\n    <tr>\n      <th>797446</th>\n      <td>ZYX</td>\n      <td>MT-ND4</td>\n      <td>0.285714</td>\n      <td>0.969231</td>\n      <td>-0.011834</td>\n      <td>0.928571</td>\n      <td>0.153846</td>\n    </tr>\n    <tr>\n      <th>797447</th>\n      <td>ZYX</td>\n      <td>MT-ND5</td>\n      <td>0.250000</td>\n      <td>0.923077</td>\n      <td>-0.017751</td>\n      <td>0.812500</td>\n      <td>0.076923</td>\n    </tr>\n    <tr>\n      <th>797448</th>\n      <td>ZYX</td>\n      <td>MT-CYB</td>\n      <td>0.272727</td>\n      <td>0.951923</td>\n      <td>-0.029586</td>\n      <td>0.886364</td>\n      <td>0.230769</td>\n    </tr>\n  </tbody>\n</table>\n<p>796556 rows × 7 columns</p>\n</div>"
     },
     "execution_count": 217,
     "metadata": {},
     "output_type": "execute_result"
    }
   ],
   "source": [
    "new_df"
   ],
   "metadata": {
    "collapsed": false,
    "ExecuteTime": {
     "end_time": "2024-09-16T13:15:22.858593Z",
     "start_time": "2024-09-16T13:15:22.846532Z"
    }
   },
   "id": "a123ed7fd35ce0b0",
   "execution_count": 217
  },
  {
   "cell_type": "code",
   "outputs": [],
   "source": [
    "new_df_dic = {'pbmc': new_df}"
   ],
   "metadata": {
    "collapsed": false,
    "ExecuteTime": {
     "end_time": "2024-09-16T13:21:54.951530Z",
     "start_time": "2024-09-16T13:21:54.949722Z"
    }
   },
   "id": "adf196eaf00d01f4",
   "execution_count": 241
  },
  {
   "cell_type": "code",
   "outputs": [],
   "source": [
    "res_edge_list = results_filter.export_edge_list(new_df_dic)\n"
   ],
   "metadata": {
    "collapsed": false,
    "ExecuteTime": {
     "end_time": "2024-09-16T13:21:59.108812Z",
     "start_time": "2024-09-16T13:21:59.082286Z"
    }
   },
   "id": "ea1d7212e38a9a12",
   "execution_count": 242
  },
  {
   "cell_type": "code",
   "outputs": [
    {
     "data": {
      "text/plain": "{'pbmc': metric antecedent consequent\n 0            ABI1      ISG15\n 1            ABI1   AURKAIP1\n 2            ABI1     MRPL20\n 3            ABI1      SSU72\n 4            ABI1       GNB1\n ...           ...        ...\n 797444        ZYX    MT-ATP6\n 797445        ZYX     MT-CO3\n 797446        ZYX     MT-ND4\n 797447        ZYX     MT-ND5\n 797448        ZYX     MT-CYB\n \n [796556 rows x 2 columns]}"
     },
     "execution_count": 243,
     "metadata": {},
     "output_type": "execute_result"
    }
   ],
   "source": [
    "res_edge_list"
   ],
   "metadata": {
    "collapsed": false,
    "ExecuteTime": {
     "end_time": "2024-09-16T13:22:03.872648Z",
     "start_time": "2024-09-16T13:22:03.864898Z"
    }
   },
   "id": "fe2ea8f9ca24781c",
   "execution_count": 243
  },
  {
   "cell_type": "code",
   "outputs": [],
   "source": [],
   "metadata": {
    "collapsed": false
   },
   "id": "451e1a69662fc3d0"
  },
  {
   "cell_type": "code",
   "outputs": [],
   "source": [],
   "metadata": {
    "collapsed": false
   },
   "id": "d41f10975f351b65"
  },
  {
   "cell_type": "code",
   "outputs": [
    {
     "data": {
      "text/plain": "<module 'utils.pipe_analysis.subnet_detection' from '/mnt/sda/liuyq/asso_rule2/utils/pipe_analysis/subnet_detection.py'>"
     },
     "execution_count": 265,
     "metadata": {},
     "output_type": "execute_result"
    }
   ],
   "source": [
    "importlib.reload(utils.pipe_analysis.subnet_detection)"
   ],
   "metadata": {
    "collapsed": false,
    "ExecuteTime": {
     "end_time": "2024-09-16T13:35:26.504744Z",
     "start_time": "2024-09-16T13:35:26.501725Z"
    }
   },
   "id": "e58722c6b5816f3",
   "execution_count": 265
  },
  {
   "cell_type": "code",
   "outputs": [
    {
     "ename": "NameError",
     "evalue": "name 'Graph' is not defined",
     "output_type": "error",
     "traceback": [
      "\u001B[0;31m---------------------------------------------------------------------------\u001B[0m",
      "\u001B[0;31mNameError\u001B[0m                                 Traceback (most recent call last)",
      "Cell \u001B[0;32mIn[8], line 1\u001B[0m\n\u001B[0;32m----> 1\u001B[0m g \u001B[38;5;241m=\u001B[39m \u001B[43mGraph\u001B[49m(res_edge_list[\u001B[38;5;124m'\u001B[39m\u001B[38;5;124mpbmc\u001B[39m\u001B[38;5;124m'\u001B[39m])\n",
      "\u001B[0;31mNameError\u001B[0m: name 'Graph' is not defined"
     ]
    }
   ],
   "source": [
    "g = Graph(res_edge_list['pbmc'])"
   ],
   "metadata": {
    "collapsed": false,
    "ExecuteTime": {
     "end_time": "2024-09-18T12:26:19.948621Z",
     "start_time": "2024-09-18T12:26:19.925993Z"
    }
   },
   "id": "916cb493d0ae0b1a",
   "execution_count": 8
  },
  {
   "cell_type": "code",
   "outputs": [
    {
     "data": {
      "text/plain": "(796556, 2)"
     },
     "execution_count": 256,
     "metadata": {},
     "output_type": "execute_result"
    }
   ],
   "source": [
    "res_edge_list['pbmc'].shape"
   ],
   "metadata": {
    "collapsed": false,
    "ExecuteTime": {
     "end_time": "2024-09-16T13:33:31.959220Z",
     "start_time": "2024-09-16T13:33:31.952274Z"
    }
   },
   "id": "b612b6c93cb4242f",
   "execution_count": 256
  },
  {
   "cell_type": "code",
   "outputs": [
    {
     "ename": "IndexError",
     "evalue": "index 2 is out of bounds for axis 0 with size 2",
     "output_type": "error",
     "traceback": [
      "\u001B[0;31m---------------------------------------------------------------------------\u001B[0m",
      "\u001B[0;31mIndexError\u001B[0m                                Traceback (most recent call last)",
      "Cell \u001B[0;32mIn[261], line 1\u001B[0m\n\u001B[0;32m----> 1\u001B[0m \u001B[43mres_edge_list\u001B[49m\u001B[43m[\u001B[49m\u001B[38;5;124;43m'\u001B[39;49m\u001B[38;5;124;43mpbmc\u001B[39;49m\u001B[38;5;124;43m'\u001B[39;49m\u001B[43m]\u001B[49m\u001B[38;5;241;43m.\u001B[39;49m\u001B[43miloc\u001B[49m\u001B[43m[\u001B[49m\u001B[38;5;241;43m0\u001B[39;49m\u001B[43m,\u001B[49m\u001B[43m \u001B[49m\u001B[38;5;241;43m2\u001B[39;49m\u001B[43m]\u001B[49m\n",
      "File \u001B[0;32m~/anaconda3/envs/dl/lib/python3.10/site-packages/pandas/core/indexing.py:1066\u001B[0m, in \u001B[0;36m_LocationIndexer.__getitem__\u001B[0;34m(self, key)\u001B[0m\n\u001B[1;32m   1064\u001B[0m     key \u001B[38;5;241m=\u001B[39m \u001B[38;5;28mtuple\u001B[39m(com\u001B[38;5;241m.\u001B[39mapply_if_callable(x, \u001B[38;5;28mself\u001B[39m\u001B[38;5;241m.\u001B[39mobj) \u001B[38;5;28;01mfor\u001B[39;00m x \u001B[38;5;129;01min\u001B[39;00m key)\n\u001B[1;32m   1065\u001B[0m     \u001B[38;5;28;01mif\u001B[39;00m \u001B[38;5;28mself\u001B[39m\u001B[38;5;241m.\u001B[39m_is_scalar_access(key):\n\u001B[0;32m-> 1066\u001B[0m         \u001B[38;5;28;01mreturn\u001B[39;00m \u001B[38;5;28;43mself\u001B[39;49m\u001B[38;5;241;43m.\u001B[39;49m\u001B[43mobj\u001B[49m\u001B[38;5;241;43m.\u001B[39;49m\u001B[43m_get_value\u001B[49m\u001B[43m(\u001B[49m\u001B[38;5;241;43m*\u001B[39;49m\u001B[43mkey\u001B[49m\u001B[43m,\u001B[49m\u001B[43m \u001B[49m\u001B[43mtakeable\u001B[49m\u001B[38;5;241;43m=\u001B[39;49m\u001B[38;5;28;43mself\u001B[39;49m\u001B[38;5;241;43m.\u001B[39;49m\u001B[43m_takeable\u001B[49m\u001B[43m)\u001B[49m\n\u001B[1;32m   1067\u001B[0m     \u001B[38;5;28;01mreturn\u001B[39;00m \u001B[38;5;28mself\u001B[39m\u001B[38;5;241m.\u001B[39m_getitem_tuple(key)\n\u001B[1;32m   1068\u001B[0m \u001B[38;5;28;01melse\u001B[39;00m:\n\u001B[1;32m   1069\u001B[0m     \u001B[38;5;66;03m# we by definition only have the 0th axis\u001B[39;00m\n",
      "File \u001B[0;32m~/anaconda3/envs/dl/lib/python3.10/site-packages/pandas/core/frame.py:3914\u001B[0m, in \u001B[0;36mDataFrame._get_value\u001B[0;34m(self, index, col, takeable)\u001B[0m\n\u001B[1;32m   3895\u001B[0m \u001B[38;5;250m\u001B[39m\u001B[38;5;124;03m\"\"\"\u001B[39;00m\n\u001B[1;32m   3896\u001B[0m \u001B[38;5;124;03mQuickly retrieve single value at passed column and index.\u001B[39;00m\n\u001B[1;32m   3897\u001B[0m \n\u001B[0;32m   (...)\u001B[0m\n\u001B[1;32m   3911\u001B[0m \u001B[38;5;124;03m`self.columns._index_as_unique`; Caller is responsible for checking.\u001B[39;00m\n\u001B[1;32m   3912\u001B[0m \u001B[38;5;124;03m\"\"\"\u001B[39;00m\n\u001B[1;32m   3913\u001B[0m \u001B[38;5;28;01mif\u001B[39;00m takeable:\n\u001B[0;32m-> 3914\u001B[0m     series \u001B[38;5;241m=\u001B[39m \u001B[38;5;28;43mself\u001B[39;49m\u001B[38;5;241;43m.\u001B[39;49m\u001B[43m_ixs\u001B[49m\u001B[43m(\u001B[49m\u001B[43mcol\u001B[49m\u001B[43m,\u001B[49m\u001B[43m \u001B[49m\u001B[43maxis\u001B[49m\u001B[38;5;241;43m=\u001B[39;49m\u001B[38;5;241;43m1\u001B[39;49m\u001B[43m)\u001B[49m\n\u001B[1;32m   3915\u001B[0m     \u001B[38;5;28;01mreturn\u001B[39;00m series\u001B[38;5;241m.\u001B[39m_values[index]\n\u001B[1;32m   3917\u001B[0m series \u001B[38;5;241m=\u001B[39m \u001B[38;5;28mself\u001B[39m\u001B[38;5;241m.\u001B[39m_get_item_cache(col)\n",
      "File \u001B[0;32m~/anaconda3/envs/dl/lib/python3.10/site-packages/pandas/core/frame.py:3728\u001B[0m, in \u001B[0;36mDataFrame._ixs\u001B[0;34m(self, i, axis)\u001B[0m\n\u001B[1;32m   3724\u001B[0m     \u001B[38;5;28;01mreturn\u001B[39;00m result\n\u001B[1;32m   3726\u001B[0m \u001B[38;5;66;03m# icol\u001B[39;00m\n\u001B[1;32m   3727\u001B[0m \u001B[38;5;28;01melse\u001B[39;00m:\n\u001B[0;32m-> 3728\u001B[0m     label \u001B[38;5;241m=\u001B[39m \u001B[38;5;28;43mself\u001B[39;49m\u001B[38;5;241;43m.\u001B[39;49m\u001B[43mcolumns\u001B[49m\u001B[43m[\u001B[49m\u001B[43mi\u001B[49m\u001B[43m]\u001B[49m\n\u001B[1;32m   3730\u001B[0m     col_mgr \u001B[38;5;241m=\u001B[39m \u001B[38;5;28mself\u001B[39m\u001B[38;5;241m.\u001B[39m_mgr\u001B[38;5;241m.\u001B[39miget(i)\n\u001B[1;32m   3731\u001B[0m     result \u001B[38;5;241m=\u001B[39m \u001B[38;5;28mself\u001B[39m\u001B[38;5;241m.\u001B[39m_box_col_values(col_mgr, i)\n",
      "File \u001B[0;32m~/anaconda3/envs/dl/lib/python3.10/site-packages/pandas/core/indexes/base.py:5320\u001B[0m, in \u001B[0;36mIndex.__getitem__\u001B[0;34m(self, key)\u001B[0m\n\u001B[1;32m   5317\u001B[0m \u001B[38;5;28;01mif\u001B[39;00m is_integer(key) \u001B[38;5;129;01mor\u001B[39;00m is_float(key):\n\u001B[1;32m   5318\u001B[0m     \u001B[38;5;66;03m# GH#44051 exclude bool, which would return a 2d ndarray\u001B[39;00m\n\u001B[1;32m   5319\u001B[0m     key \u001B[38;5;241m=\u001B[39m com\u001B[38;5;241m.\u001B[39mcast_scalar_indexer(key, warn_float\u001B[38;5;241m=\u001B[39m\u001B[38;5;28;01mTrue\u001B[39;00m)\n\u001B[0;32m-> 5320\u001B[0m     \u001B[38;5;28;01mreturn\u001B[39;00m \u001B[43mgetitem\u001B[49m\u001B[43m(\u001B[49m\u001B[43mkey\u001B[49m\u001B[43m)\u001B[49m\n\u001B[1;32m   5322\u001B[0m \u001B[38;5;28;01mif\u001B[39;00m \u001B[38;5;28misinstance\u001B[39m(key, \u001B[38;5;28mslice\u001B[39m):\n\u001B[1;32m   5323\u001B[0m     \u001B[38;5;66;03m# This case is separated from the conditional above to avoid\u001B[39;00m\n\u001B[1;32m   5324\u001B[0m     \u001B[38;5;66;03m# pessimization com.is_bool_indexer and ndim checks.\u001B[39;00m\n\u001B[1;32m   5325\u001B[0m     result \u001B[38;5;241m=\u001B[39m getitem(key)\n",
      "\u001B[0;31mIndexError\u001B[0m: index 2 is out of bounds for axis 0 with size 2"
     ]
    }
   ],
   "source": [
    "res_edge_list['pbmc'].iloc[0, 2]"
   ],
   "metadata": {
    "collapsed": false,
    "ExecuteTime": {
     "end_time": "2024-09-16T13:34:19.841123Z",
     "start_time": "2024-09-16T13:34:19.805197Z"
    }
   },
   "id": "efd40877240e6788",
   "execution_count": 261
  },
  {
   "cell_type": "code",
   "outputs": [],
   "source": [
    "communities = g.community_detection()"
   ],
   "metadata": {
    "collapsed": false,
    "ExecuteTime": {
     "end_time": "2024-09-16T13:37:03.715237Z",
     "start_time": "2024-09-16T13:37:02.836527Z"
    }
   },
   "id": "12f94e4143f89894",
   "execution_count": 270
  },
  {
   "cell_type": "code",
   "outputs": [
    {
     "data": {
      "text/plain": "{0}"
     },
     "execution_count": 272,
     "metadata": {},
     "output_type": "execute_result"
    }
   ],
   "source": [
    "set(communities.values())"
   ],
   "metadata": {
    "collapsed": false,
    "ExecuteTime": {
     "end_time": "2024-09-16T13:37:25.965254Z",
     "start_time": "2024-09-16T13:37:25.958332Z"
    }
   },
   "id": "2aca83b8e4312d06",
   "execution_count": 272
  },
  {
   "cell_type": "code",
   "outputs": [
    {
     "data": {
      "text/plain": "{'ABI1': 0,\n 'ISG15': 0,\n 'AURKAIP1': 0,\n 'MRPL20': 0,\n 'SSU72': 0,\n 'GNB1': 0,\n 'TNFRSF14': 0,\n 'RPL22': 0,\n 'PARK7': 0,\n 'ENO1': 0,\n 'PGD': 0,\n 'AGTRAP': 0,\n 'CAPZB': 0,\n 'MINOS1': 0,\n 'CDC42': 0,\n 'RPL11': 0,\n 'SRRM1': 0,\n 'SYF2': 0,\n 'TMEM50A': 0,\n 'LDLRAP1': 0,\n 'SH3BGRL3': 0,\n 'CD52': 0,\n 'NUDC': 0,\n 'WASF2': 0,\n 'DNAJC8': 0,\n 'ATPIF1': 0,\n 'TAF12': 0,\n 'LAPTM5': 0,\n 'PTP4A2': 0,\n 'MARCKSL1': 0,\n 'PSMB2': 0,\n 'AKIRIN1': 0,\n 'NDUFS5': 0,\n 'CAP1': 0,\n 'PPT1': 0,\n 'PPCS': 0,\n 'YBX1': 0,\n 'RPS8': 0,\n 'NASP': 0,\n 'UQCRH': 0,\n 'CMPK1': 0,\n 'TXNDC12': 0,\n 'SCP2': 0,\n 'TMEM59': 0,\n 'JAK1': 0,\n 'IFI44L': 0,\n 'GNG5': 0,\n 'SH3GLB1': 0,\n 'SEP15': 0,\n 'RPL5': 0,\n 'DR1': 0,\n 'GNAI3': 0,\n 'LAMTOR5': 0,\n 'RAP1A': 0,\n 'CAPZA1': 0,\n 'RHOC': 0,\n 'ATP1A1': 0,\n 'TXNIP': 0,\n 'MRPS21': 0,\n 'ENSA': 0,\n 'CTSS': 0,\n 'CDC42SE1': 0,\n 'S100A10': 0,\n 'S100A9': 0,\n 'S100A8': 0,\n 'S100A6': 0,\n 'S100A4': 0,\n 'JTB': 0,\n 'RPS27': 0,\n 'TPM3': 0,\n 'C1orf43': 0,\n 'FDPS': 0,\n 'SSR2': 0,\n 'LAMTOR2': 0,\n 'APOA1BP': 0,\n 'MNDA': 0,\n 'TAGLN2': 0,\n 'PFDN2': 0,\n 'UFC1': 0,\n 'FCER1G': 0,\n 'TMCO1': 0,\n 'MPC2': 0,\n 'SELL': 0,\n 'PRDX6': 0,\n 'GLUL': 0,\n 'ARPC5': 0,\n 'PTPRC': 0,\n 'ADIPOR1': 0,\n 'NUCKS1': 0,\n 'CD55': 0,\n 'CD46': 0,\n 'NENF': 0,\n 'CAPN2': 0,\n 'H3F3A': 0,\n 'ARF1': 0,\n 'GUK1': 0,\n 'RAB4A': 0,\n 'ARID4B': 0,\n 'LYST': 0,\n 'HNRNPU': 0,\n 'ACP1': 0,\n 'ADI1': 0,\n 'RPS7': 0,\n 'YWHAQ': 0,\n 'HPCAL1': 0,\n 'ODC1': 0,\n 'PDIA6': 0,\n 'RAB10': 0,\n 'HADHA': 0,\n 'HADHB': 0,\n 'OST4': 0,\n 'SNX17': 0,\n 'YPEL5': 0,\n 'COX7A2L': 0,\n 'CALM2': 0,\n 'RTN4': 0,\n 'RPS27A': 0,\n 'UGP2': 0,\n 'PLEK': 0,\n 'PCBP1': 0,\n 'CCT7': 0,\n 'DGUOK': 0,\n 'MOB1A': 0,\n 'AUP1': 0,\n 'POLE4': 0,\n 'TMSB10': 0,\n 'VAMP8': 0,\n 'CHMP3': 0,\n 'COX5B': 0,\n 'RPL31': 0,\n 'LIMS1': 0,\n 'CHCHD5': 0,\n 'ACTR3': 0,\n 'PTPN18': 0,\n 'CXCR4': 0,\n 'ARL5A': 0,\n 'WIPF1': 0,\n 'ATP5G3': 0,\n 'UBE2E3': 0,\n 'NBEAL1': 0,\n 'EEF1B2': 0,\n 'RPL37A': 0,\n 'ARPC2': 0,\n 'TUBA4A': 0,\n 'MFF': 0,\n 'NCL': 0,\n 'PTMA': 0,\n 'LRRFIP1': 0,\n 'UBE2F': 0,\n 'RNPEPL1': 0,\n 'CRBN': 0,\n 'TADA3': 0,\n 'ARPC4': 0,\n 'EMC3': 0,\n 'BRK1': 0,\n 'RPL32': 0,\n 'RPL15': 0,\n 'CMTM6': 0,\n 'MYD88': 0,\n 'RPSA': 0,\n 'EIF1B': 0,\n 'RPL14': 0,\n 'TMA7': 0,\n 'SHISA5': 0,\n 'UQCRC1': 0,\n 'NDUFAF3': 0,\n 'IMPDH2': 0,\n 'GPX1': 0,\n 'RHOA': 0,\n 'RPL29': 0,\n 'TWF2': 0,\n 'SPCS1': 0,\n 'SELK': 0,\n 'ARF4': 0,\n 'ARL6IP5': 0,\n 'PCNP': 0,\n 'RPL24': 0,\n 'CD47': 0,\n 'ATG3': 0,\n 'COX17': 0,\n 'NDUFB4': 0,\n 'RPN1': 0,\n 'RAB7A': 0,\n 'CNBP': 0,\n 'SERP1': 0,\n 'SELT': 0,\n 'SIAH2': 0,\n 'PDCD10': 0,\n 'RPL22L1': 0,\n 'DNAJC19': 0,\n 'AP2M1': 0,\n 'EIF4A2': 0,\n 'RPL35A': 0,\n 'ATP5I': 0,\n 'SLBP': 0,\n 'LRPAP1': 0,\n 'MRFAP1': 0,\n 'WDR1': 0,\n 'RPL9': 0,\n 'GRSF1': 0,\n 'G3BP2': 0,\n 'CCNI': 0,\n 'HNRNPDL': 0,\n 'ADH5': 0,\n 'H2AFZ': 0,\n 'UBE2D3': 0,\n 'RPL34': 0,\n 'CCDC109B': 0,\n 'SNHG8': 0,\n 'C4orf3': 0,\n 'RPS3A': 0,\n 'HMGB2': 0,\n 'SDHA': 0,\n 'PDCD6': 0,\n 'SUB1': 0,\n 'IL7R': 0,\n 'FYB': 0,\n 'RPL37': 0,\n 'NDUFS4': 0,\n 'BTF3': 0,\n 'TBCA': 0,\n 'RPS23': 0,\n 'COX7C': 0,\n 'GLRX': 0,\n 'AP3S1': 0,\n 'SNX2': 0,\n 'CDC42SE2': 0,\n 'SKP1': 0,\n 'PPP2CA': 0,\n 'UBE2B': 0,\n 'PAIP2': 0,\n 'UBE2D2': 0,\n 'PFDN1': 0,\n 'NDUFA2': 0,\n 'ZMAT2': 0,\n 'NDFIP1': 0,\n 'CSNK1A1': 0,\n 'CD74': 0,\n 'RPS14': 0,\n 'ANXA6': 0,\n 'ATOX1': 0,\n 'CCNG1': 0,\n 'NPM1': 0,\n 'DUSP1': 0,\n 'ATP6V0E1': 0,\n 'HIGD2A': 0,\n 'PRELID1': 0,\n 'SQSTM1': 0,\n 'GNB2L1': 0,\n 'SERPINB1': 0,\n 'SERPINB6': 0,\n 'TMEM14C': 0,\n 'FAM65B': 0,\n 'BTN3A2': 0,\n 'HLA-F': 0,\n 'HLA-A': 0,\n 'HLA-E': 0,\n 'TUBB': 0,\n 'HLA-C': 0,\n 'HLA-B': 0,\n 'LTB': 0,\n 'AIF1': 0,\n 'CLIC1': 0,\n 'ATF6B': 0,\n 'RNF5': 0,\n 'GPSM3': 0,\n 'HLA-DRA': 0,\n 'HLA-DRB1': 0,\n 'HLA-DQA1': 0,\n 'PSMB8': 0,\n 'TAPSAR1': 0,\n 'PSMB9': 0,\n 'TAP1': 0,\n 'HLA-DMA': 0,\n 'HLA-DPB1': 0,\n 'RPS18': 0,\n 'RPS10': 0,\n 'RPL10A': 0,\n 'COX6A1P2': 0,\n 'CCND3': 0,\n 'CNPY3': 0,\n 'MEA1': 0,\n 'DNPH1': 0,\n 'MRPL14': 0,\n 'EEF1A1': 0,\n 'COX7A2': 0,\n 'CYB5R4': 0,\n 'AKIRIN2': 0,\n 'PNRC1': 0,\n 'UBE2J1': 0,\n 'SNX3': 0,\n 'AMD1': 0,\n 'GTF3C6': 0,\n 'RWDD1': 0,\n 'SERINC1': 0,\n 'RPS12': 0,\n 'SF3B5': 0,\n 'STX11': 0,\n 'SOD2': 0,\n 'WTAP': 0,\n 'MRPL18': 0,\n 'RNASET2': 0,\n 'PSMB1': 0,\n 'CHST12': 0,\n 'ACTB': 0,\n 'RAC1': 0,\n 'KDELR2': 0,\n 'RPA3': 0,\n 'NDUFA4': 0,\n 'TOMM7': 0,\n 'HNRNPA2B1': 0,\n 'CBX3': 0,\n 'TAX1BP1': 0,\n 'SEPT7': 0,\n 'AOAH': 0,\n 'DBNL': 0,\n 'PPIA': 0,\n 'H2AFV': 0,\n 'MYO1G': 0,\n 'CHCHD2': 0,\n 'WBSCR22': 0,\n 'HSPB1': 0,\n 'SHFM1': 0,\n 'BRI3': 0,\n 'ARPC1B': 0,\n 'BUD31': 0,\n 'LAMTOR4': 0,\n 'ZNHIT1': 0,\n 'FIS1': 0,\n 'SYPL1': 0,\n 'IFRD1': 0,\n 'CAPZA2': 0,\n 'NDUFA5': 0,\n 'ARF5': 0,\n 'ATP6V1F': 0,\n 'C7orf73': 0,\n 'MTPN': 0,\n 'ZC3HAV1': 0,\n 'MKRN1': 0,\n 'NDUFB2': 0,\n 'GSTK1': 0,\n 'ZYX': 0,\n 'RHEB': 0,\n 'DNAJB6': 0,\n 'SLC25A6': 0,\n 'CD99': 0,\n 'TMSB4X': 0,\n 'AP1S2': 0,\n 'RBBP7': 0,\n 'SMS': 0,\n 'SAT1': 0,\n 'NDUFB11': 0,\n 'TIMP1': 0,\n 'WAS': 0,\n 'PLP2': 0,\n 'TSR2': 0,\n 'MAGED2': 0,\n 'MSN': 0,\n 'IGBP1': 0,\n 'IL2RG': 0,\n 'RPS4X': 0,\n 'COX7B': 0,\n 'PGK1': 0,\n 'SH3BGRL': 0,\n 'RPL36A': 0,\n 'TSC22D3': 0,\n 'SLC25A5': 0,\n 'UBE2A': 0,\n 'SEPT6': 0,\n 'NDUFA1': 0,\n 'IDS': 0,\n 'BCAP31': 0,\n 'SSR4': 0,\n 'NAA10': 0,\n 'FLNA': 0,\n 'RPL10': 0,\n 'FDFT1': 0,\n 'ASAH1': 0,\n 'DOK2': 0,\n 'BNIP3L': 0,\n 'TMEM66': 0,\n 'LSM1': 0,\n 'VDAC3': 0,\n 'FNTA': 0,\n 'TCEA1': 0,\n 'LYN': 0,\n 'RPS20': 0,\n 'SDCBP': 0,\n 'RAB2A': 0,\n 'TRAM1': 0,\n 'RPL7': 0,\n 'TCEB1': 0,\n 'ZFAND1': 0,\n 'RPL30': 0,\n 'COX6C': 0,\n 'PABPC1': 0,\n 'YWHAZ': 0,\n 'ZNF706': 0,\n 'EIF3H': 0,\n 'NDUFB9': 0,\n 'EEF1D': 0,\n 'PUF60': 0,\n 'VPS28': 0,\n 'RPL8': 0,\n 'TMEM261': 0,\n 'RPS6': 0,\n 'BAG1': 0,\n 'VCP': 0,\n 'TLN1': 0,\n 'CLTA': 0,\n 'ZFAND5': 0,\n 'ANXA1': 0,\n 'OSTF1': 0,\n 'HNRNPK': 0,\n 'SUSD3': 0,\n 'C9orf89': 0,\n 'NINJ1': 0,\n 'ANP32B': 0,\n 'SEC61B': 0,\n 'RAD23B': 0,\n 'TXN': 0,\n 'ATP6V1G1': 0,\n 'RAB14': 0,\n 'RPL35': 0,\n 'RPL12': 0,\n 'C9orf16': 0,\n 'URM1': 0,\n 'RPL7A': 0,\n 'EDF1': 0,\n 'TUBB4B': 0,\n 'ATP5C1': 0,\n 'RSU1': 0,\n 'VIM': 0,\n 'COMMD3': 0,\n 'HNRNPF': 0,\n 'NCOA4': 0,\n 'SRGN': 0,\n 'C10orf54': 0,\n 'PSAP': 0,\n 'ANAPC16': 0,\n 'ANXA7': 0,\n 'VDAC2': 0,\n 'ANXA11': 0,\n 'GHITM': 0,\n 'LIPA': 0,\n 'IFIT3': 0,\n 'NDUFB8-1': 0,\n 'MRPL43': 0,\n 'GSTO1': 0,\n 'ADD3': 0,\n 'FAM204A': 0,\n 'RGS10': 0,\n 'IFITM2': 0,\n 'IFITM1': 0,\n 'SIGIRR': 0,\n 'RNH1': 0,\n 'TALDO1': 0,\n 'RPLP2': 0,\n 'POLR2L': 0,\n 'CTSD': 0,\n 'LSP1': 0,\n 'MRPL23': 0,\n 'NAP1L4': 0,\n 'TRIM22': 0,\n 'ILK': 0,\n 'EIF3F': 0,\n 'RPL27A': 0,\n 'TMEM9B': 0,\n 'EIF4G2': 0,\n 'PSMA1': 0,\n 'RPS13': 0,\n 'LDHA': 0,\n 'HTATIP2': 0,\n 'SVIP': 0,\n 'MPEG1': 0,\n 'FTH1': 0,\n 'POLR2G': 0,\n 'RARRES3': 0,\n 'RTN3': 0,\n 'COX8A': 0,\n 'OTUB1': 0,\n 'FERMT3': 0,\n 'DNAJC4': 0,\n 'PRDX5': 0,\n 'RASGRP2': 0,\n 'FAU': 0,\n 'CAPN1': 0,\n 'NEAT1': 0,\n 'MALAT1': 0,\n 'RNASEH2C': 0,\n 'CFL1': 0,\n 'FIBP': 0,\n 'CCDC85B': 0,\n 'DRAP1': 0,\n 'BANF1': 0,\n 'SF3B2': 0,\n 'MRPL11': 0,\n 'PPP1CA': 0,\n 'CORO1B': 0,\n 'CDK2AP2': 0,\n 'GSTP1': 0,\n 'LAMTOR1': 0,\n 'ANAPC15': 0,\n 'UCP2': 0,\n 'SPCS2': 0,\n 'RPS3': 0,\n 'TMEM123': 0,\n 'REXO2': 0,\n 'CD3E': 0,\n 'ATP5L': 0,\n 'RPS25': 0,\n 'HSPA8': 0,\n 'FLI1': 0,\n 'THYN1': 0,\n 'NDUFA9': 0,\n 'MRPL51': 0,\n 'GAPDH': 0,\n 'TPI1': 0,\n 'C12orf57': 0,\n 'PTPN6': 0,\n 'M6PR': 0,\n 'CD69': 0,\n 'H2AFJ': 0,\n 'ARHGDIB': 0,\n 'LDHB': 0,\n 'FGFR1OP2': 0,\n 'TUBA1B': 0,\n 'TUBA1A': 0,\n 'TMBIM6': 0,\n 'DAZAP2': 0,\n 'BIN2': 0,\n 'NR4A1': 0,\n 'PFDN5': 0,\n 'PRR13': 0,\n 'PCBP2': 0,\n 'ATP5G2': 0,\n 'HNRNPA1': 0,\n 'COPZ1': 0,\n 'BLOC1S1': 0,\n 'CD63': 0,\n 'RPS26': 0,\n 'PA2G4': 0,\n 'RPL41': 0,\n 'MYL6': 0,\n 'ATP5B': 0,\n 'PTGES3': 0,\n 'NACA': 0,\n 'DCTN2': 0,\n 'RAP1B': 0,\n 'LYZ': 0,\n 'RP11-1143G9.4': 0,\n 'NAP1L1': 0,\n 'BTG1': 0,\n 'UBE2N': 0,\n 'NDUFA12': 0,\n 'SNRPF': 0,\n 'SLC25A3': 0,\n 'HSP90B1': 0,\n 'C12orf75': 0,\n 'ISCU': 0,\n 'SELPLG': 0,\n 'ARPC3': 0,\n 'PPP1CC': 0,\n 'ERP29': 0,\n 'RPL6': 0,\n 'OAS1': 0,\n 'PEBP1': 0,\n 'TAOK3': 0,\n 'RPLP0': 0,\n 'COX6A1': 0,\n 'SRSF9': 0,\n 'DYNLL1': 0,\n 'ANAPC5': 0,\n 'RHOF': 0,\n 'ARL6IP4': 0,\n 'RILPL2': 0,\n 'UBC': 0,\n 'RAN': 0,\n 'MPHOSPH8': 0,\n 'SAP18': 0,\n 'RPL21': 0,\n 'MTIF3': 0,\n 'ATP5EP2': 0,\n 'HMGB1': 0,\n 'N4BP2L1': 0,\n 'RGCC': 0,\n 'TPT1': 0,\n 'ITM2B': 0,\n 'UBAC2': 0,\n 'LAMP1': 0,\n 'HNRNPC': 0,\n 'DAD1': 0,\n 'LRP10': 0,\n 'RBM23': 0,\n 'PSME1': 0,\n 'NEDD8': 0,\n 'GZMB': 0,\n 'SNX6': 0,\n 'NFKBIA': 0,\n 'PNN': 0,\n 'RPS29': 0,\n 'RPL36AL': 0,\n 'C14orf166': 0,\n 'LGALS3': 0,\n 'ACTR10': 0,\n 'RP11-349A22.5': 0,\n 'DHRS7': 0,\n 'CHURC1': 0,\n 'MAX': 0,\n 'VTI1B': 0,\n 'ZFP36L1': 0,\n 'ERH': 0,\n 'NPC2': 0,\n 'FOS': 0,\n 'CALM1': 0,\n 'TC2N': 0,\n 'IFI27L2': 0,\n 'SERPINA1': 0,\n 'GLRX5': 0,\n 'YY1': 0,\n 'HSP90AA1': 0,\n 'C14orf2': 0,\n 'CRIP1': 0,\n 'NDNL2': 0,\n 'NOP10': 0,\n 'SRP14': 0,\n 'SNAP23': 0,\n 'CCNDBP1': 0,\n 'PDIA3': 0,\n 'SERF2': 0,\n 'B2M': 0,\n 'EID1': 0,\n 'GTF2A2': 0,\n 'BNIP2': 0,\n 'ANXA2': 0,\n 'RPS27L': 0,\n 'PPIB': 0,\n 'RAB11A': 0,\n 'MAP2K1': 0,\n 'RPL4': 0,\n 'ANP32A': 0,\n 'RPLP1': 0,\n 'PKM': 0,\n 'CSK': 0,\n 'SCAMP2': 0,\n 'COX5A': 0,\n 'ETFA': 0,\n 'PSMA4': 0,\n 'MORF4L1': 0,\n 'IDH2': 0,\n 'CIB1': 0,\n 'C16orf13': 0,\n 'STUB1': 0,\n 'FAM173A': 0,\n 'UBE2I': 0,\n 'MRPS34': 0,\n 'MSRB1': 0,\n 'NDUFB10': 0,\n 'RPS2': 0,\n 'TCEB2': 0,\n 'CARHSP1': 0,\n 'RPS15A': 0,\n 'ARL6IP1': 0,\n 'METTL9': 0,\n 'UQCRC2': 0,\n 'PRKCB': 0,\n 'RBBP6': 0,\n 'TUFM': 0,\n 'LAT': 0,\n 'MVP': 0,\n 'TMEM219': 0,\n 'ALDOA': 0,\n 'CORO1A': 0,\n 'ITGAL': 0,\n 'VKORC1': 0,\n 'CKLF': 0,\n 'NUTF2': 0,\n 'GABARAPL2': 0,\n 'TERF2IP': 0,\n 'HSBP1': 0,\n 'COTL1': 0,\n 'COX4I1': 0,\n 'MAP1LC3B': 0,\n 'CYBA': 0,\n 'APRT': 0,\n 'RPL13': 0,\n 'PFN1': 0,\n 'XAF1': 0,\n 'ACADVL': 0,\n 'GABARAP': 0,\n 'CD68': 0,\n 'LSMD1': 0,\n 'TRAPPC1': 0,\n 'RPL26': 0,\n 'UBB': 0,\n 'COPS3': 0,\n 'MAP2K3': 0,\n 'RPL23A': 0,\n 'CCL5': 0,\n 'PSMB3': 0,\n 'RPL23': 0,\n 'RPL19': 0,\n 'ORMDL3': 0,\n 'EIF1': 0,\n 'RAB5C': 0,\n 'COA3': 0,\n 'RPL27': 0,\n 'GRN': 0,\n 'KPNB1': 0,\n 'SUPT4H1': 0,\n 'LIMD2': 0,\n 'ICAM2': 0,\n 'DDX5': 0,\n 'PRKAR1A': 0,\n 'HN1': 0,\n 'SUMO2': 0,\n 'MIF4GD': 0,\n 'GRB2': 0,\n 'H3F3B': 0,\n 'WBP2': 0,\n 'UBALD2': 0,\n 'SRSF2': 0,\n 'SEPT9': 0,\n 'RNF213': 0,\n 'ACTG1': 0,\n 'P4HB': 0,\n 'ARHGDIA': 0,\n 'ANAPC11': 0,\n 'STRA13': 0,\n 'MYL12A': 0,\n 'MYL12B': 0,\n 'NDUFV2': 0,\n 'VAPA': 0,\n 'CHMP1B': 0,\n 'ROCK1': 0,\n 'SNRPD1': 0,\n 'ATP5A1': 0,\n 'C18orf32': 0,\n 'RPL17': 0,\n 'RBCK1': 0,\n 'FKBP1A': 0,\n 'SNRPB': 0,\n 'MRPS26': 0,\n 'DSTN': 0,\n 'CST3': 0,\n 'MAPRE1': 0,\n 'CHMP4B': 0,\n 'RALY': 0,\n 'EIF2S2': 0,\n 'DYNLRB1': 0,\n 'MMP24-AS1': 0,\n 'EIF6': 0,\n 'SCAND1': 0,\n 'CTSA': 0,\n 'ZFAS1': 0,\n 'RTFDC1': 0,\n 'GNAS': 0,\n 'CTSZ': 0,\n 'ATP5E': 0,\n 'PSMA7': 0,\n 'RPS21': 0,\n 'PPDPF': 0,\n 'BSG': 0,\n 'PTBP1': 0,\n 'R3HDM4': 0,\n 'CNN2': 0,\n 'HMHA1': 0,\n 'POLR2E': 0,\n 'GPX4': 0,\n 'ATP5D': 0,\n 'CIRBP': 0,\n 'C19orf24': 0,\n 'RPS15': 0,\n 'UQCR11-1': 0,\n 'PLEKHJ1': 0,\n 'OAZ1': 0,\n 'LSM7': 0,\n 'TIMM13': 0,\n 'AES': 0,\n 'EEF2': 0,\n 'RPL36': 0,\n 'NDUFA11': 0,\n 'STXBP2': 0,\n 'NDUFA7-1': 0,\n 'RPS28': 0,\n 'RAB11B': 0,\n 'UBL5': 0,\n 'EIF3G': 0,\n 'ICAM3': 0,\n 'CDC37': 0,\n 'CDKN2D': 0,\n 'WDR83OS': 0,\n 'C19orf43': 0,\n 'ASNA1': 0,\n 'JUNB': 0,\n 'CALR': 0,\n 'LYL1': 0,\n 'C19orf53': 0,\n 'NDUFB7': 0,\n 'TPM4': 0,\n 'RAB8A': 0,\n 'FAM32A': 0,\n 'KLF2': 0,\n 'BST2': 0,\n 'RPL18A': 0,\n 'LSM4': 0,\n 'FKBP8': 0,\n 'UBA52': 0,\n 'COPE': 0,\n 'NDUFA13': 0,\n 'RPSAP58': 0,\n 'LSM14A': 0,\n 'FXYD5': 0,\n 'USF2': 0,\n 'TMEM147': 0,\n 'COX6B1': 0,\n 'HCST': 0,\n 'TBCB': 0,\n 'CAPNS1': 0,\n 'SPINT2': 0,\n 'PSMD8': 0,\n 'EIF3K': 0,\n 'ECH1': 0,\n 'GMFG': 0,\n 'RPS16': 0,\n 'PSMC4': 0,\n 'BLVRB': 0,\n 'EGLN2': 0,\n 'TGFB1': 0,\n 'RPS19': 0,\n 'RABAC1': 0,\n 'FOSB': 0,\n 'VASP': 0,\n 'SNRPD2': 0,\n 'CALM3': 0,\n 'AP2S1': 0,\n 'NAPA': 0,\n 'SEPW1': 0,\n 'EMP3': 0,\n 'KDELR1': 0,\n 'RPL18': 0,\n 'PPP1R15A': 0,\n 'NUCB1': 0,\n 'BAX': 0,\n 'FTL': 0,\n 'CD37': 0,\n 'RPL13A': 0,\n 'RPS11': 0,\n 'NKG7': 0,\n 'RPS9': 0,\n 'RPL28': 0,\n 'RPS5': 0,\n 'CHMP2A': 0,\n 'EIF1AY': 0,\n 'ATP6V1E1': 0,\n 'SDF2L1': 0,\n 'CHCHD10': 0,\n 'MIF': 0,\n 'DDT': 0,\n 'TPST2': 0,\n 'UQCR10': 0,\n 'YWHAH': 0,\n 'FBXO7': 0,\n 'MYH9': 0,\n 'MFNG': 0,\n 'LGALS1': 0,\n 'RPL3': 0,\n 'ATF4': 0,\n 'RPS19BP1': 0,\n 'GRAP2': 0,\n 'ST13': 0,\n 'RBX1': 0,\n 'XRCC6': 0,\n 'SMDT1': 0,\n 'NDUFA6': 0,\n 'TSPO': 0,\n 'TYMP': 0,\n 'SOD1': 0,\n 'HMGN1': 0,\n 'MX1': 0,\n 'CSTB': 0,\n 'SUMO3': 0,\n 'ITGB2': 0,\n 'PRMT2': 0,\n 'MT-ND1': 0,\n 'MT-ND2': 0,\n 'MT-CO1': 0,\n 'MT-CO2': 0,\n 'MT-ATP6': 0,\n 'MT-CO3': 0,\n 'MT-ND4': 0,\n 'MT-ND5': 0,\n 'MT-CYB': 0}"
     },
     "execution_count": 273,
     "metadata": {},
     "output_type": "execute_result"
    }
   ],
   "source": [
    "communities"
   ],
   "metadata": {
    "collapsed": false,
    "ExecuteTime": {
     "end_time": "2024-09-16T13:37:39.314875Z",
     "start_time": "2024-09-16T13:37:39.289918Z"
    }
   },
   "id": "2d2e85abb4d90e",
   "execution_count": 273
  },
  {
   "cell_type": "code",
   "outputs": [],
   "source": [
    "import networkx as nx"
   ],
   "metadata": {
    "collapsed": false,
    "ExecuteTime": {
     "end_time": "2024-09-16T13:38:09.353630Z",
     "start_time": "2024-09-16T13:38:09.348163Z"
    }
   },
   "id": "f172ad14c54a93de",
   "execution_count": 274
  },
  {
   "cell_type": "code",
   "outputs": [
    {
     "ename": "AttributeError",
     "evalue": "'Graph' object has no attribute 'number_of_nodes'",
     "output_type": "error",
     "traceback": [
      "\u001B[0;31m---------------------------------------------------------------------------\u001B[0m",
      "\u001B[0;31mAttributeError\u001B[0m                            Traceback (most recent call last)",
      "Cell \u001B[0;32mIn[278], line 2\u001B[0m\n\u001B[1;32m      1\u001B[0m \u001B[38;5;66;03m# 节点数\u001B[39;00m\n\u001B[0;32m----> 2\u001B[0m num_nodes \u001B[38;5;241m=\u001B[39m \u001B[43mg\u001B[49m\u001B[38;5;241;43m.\u001B[39;49m\u001B[43mnumber_of_nodes\u001B[49m()\n\u001B[1;32m      3\u001B[0m \u001B[38;5;66;03m# 边数\u001B[39;00m\n\u001B[1;32m      4\u001B[0m num_edges \u001B[38;5;241m=\u001B[39m g\u001B[38;5;241m.\u001B[39mnumber_of_edges()\n",
      "\u001B[0;31mAttributeError\u001B[0m: 'Graph' object has no attribute 'number_of_nodes'"
     ]
    }
   ],
   "source": [
    "# 节点数\n",
    "num_nodes = g.number_of_nodes()\n",
    "# 边数\n",
    "num_edges = g.number_of_edges()\n",
    "# 平均度数\n",
    "avg_degree = sum(dict(g.degree()).values()) / float(num_nodes)\n",
    "\n",
    "print(f\"Number of nodes: {num_nodes}\")\n",
    "print(f\"Number of edges: {num_edges}\")\n",
    "print(f\"Average degree: {avg_degree}\")"
   ],
   "metadata": {
    "collapsed": false,
    "ExecuteTime": {
     "end_time": "2024-09-16T13:39:24.340678Z",
     "start_time": "2024-09-16T13:39:24.316155Z"
    }
   },
   "id": "2401ebac496236f5",
   "execution_count": 278
  },
  {
   "cell_type": "code",
   "outputs": [],
   "source": [
    "G = g.G"
   ],
   "metadata": {
    "collapsed": false,
    "ExecuteTime": {
     "end_time": "2024-09-16T13:44:58.861790Z",
     "start_time": "2024-09-16T13:44:58.856986Z"
    }
   },
   "id": "b1126fa10048c81a",
   "execution_count": 284
  },
  {
   "cell_type": "code",
   "outputs": [
    {
     "data": {
      "text/plain": "398278"
     },
     "execution_count": 285,
     "metadata": {},
     "output_type": "execute_result"
    }
   ],
   "source": [
    "G.number_of_edges()"
   ],
   "metadata": {
    "collapsed": false,
    "ExecuteTime": {
     "end_time": "2024-09-16T13:45:01.119450Z",
     "start_time": "2024-09-16T13:45:01.111218Z"
    }
   },
   "id": "fc61252963336fa2",
   "execution_count": 285
  },
  {
   "cell_type": "code",
   "outputs": [
    {
     "ename": "AttributeError",
     "evalue": "module 'networkx' has no attribute 'summary'",
     "output_type": "error",
     "traceback": [
      "\u001B[0;31m---------------------------------------------------------------------------\u001B[0m",
      "\u001B[0;31mAttributeError\u001B[0m                            Traceback (most recent call last)",
      "Cell \u001B[0;32mIn[294], line 1\u001B[0m\n\u001B[0;32m----> 1\u001B[0m \u001B[43mnx\u001B[49m\u001B[38;5;241;43m.\u001B[39;49m\u001B[43msummary\u001B[49m(G)\n",
      "\u001B[0;31mAttributeError\u001B[0m: module 'networkx' has no attribute 'summary'"
     ]
    }
   ],
   "source": [
    "nx.summary(G)"
   ],
   "metadata": {
    "collapsed": false,
    "ExecuteTime": {
     "end_time": "2024-09-16T14:25:10.843412Z",
     "start_time": "2024-09-16T14:25:10.821341Z"
    }
   },
   "id": "63475203df239352",
   "execution_count": 294
  },
  {
   "cell_type": "code",
   "outputs": [
    {
     "data": {
      "text/plain": "398278"
     },
     "execution_count": 288,
     "metadata": {},
     "output_type": "execute_result"
    }
   ],
   "source": [
    "G.number_of_edges()"
   ],
   "metadata": {
    "collapsed": false,
    "ExecuteTime": {
     "end_time": "2024-09-16T13:45:40.547145Z",
     "start_time": "2024-09-16T13:45:40.539391Z"
    }
   },
   "id": "a9dd8f3562a5bc60",
   "execution_count": 288
  },
  {
   "cell_type": "code",
   "outputs": [
    {
     "data": {
      "text/plain": "893"
     },
     "execution_count": 293,
     "metadata": {},
     "output_type": "execute_result"
    }
   ],
   "source": [
    "G.number_of_nodes()\n"
   ],
   "metadata": {
    "collapsed": false,
    "ExecuteTime": {
     "end_time": "2024-09-16T14:25:01.792987Z",
     "start_time": "2024-09-16T14:25:01.785820Z"
    }
   },
   "id": "5eeecba6465fc8d5",
   "execution_count": 293
  },
  {
   "cell_type": "code",
   "outputs": [],
   "source": [
    "communities = g.community_detection()"
   ],
   "metadata": {
    "collapsed": false,
    "ExecuteTime": {
     "end_time": "2024-09-16T13:47:07.137843Z",
     "start_time": "2024-09-16T13:47:06.259875Z"
    }
   },
   "id": "32cd2822cd253442",
   "execution_count": 291
  },
  {
   "cell_type": "code",
   "outputs": [
    {
     "data": {
      "text/plain": "{'ABI1': 0,\n 'ISG15': 0,\n 'AURKAIP1': 0,\n 'MRPL20': 0,\n 'SSU72': 0,\n 'GNB1': 0,\n 'TNFRSF14': 0,\n 'RPL22': 0,\n 'PARK7': 0,\n 'ENO1': 0,\n 'PGD': 0,\n 'AGTRAP': 0,\n 'CAPZB': 0,\n 'MINOS1': 0,\n 'CDC42': 0,\n 'RPL11': 0,\n 'SRRM1': 0,\n 'SYF2': 0,\n 'TMEM50A': 0,\n 'LDLRAP1': 0,\n 'SH3BGRL3': 0,\n 'CD52': 0,\n 'NUDC': 0,\n 'WASF2': 0,\n 'DNAJC8': 0,\n 'ATPIF1': 0,\n 'TAF12': 0,\n 'LAPTM5': 0,\n 'PTP4A2': 0,\n 'MARCKSL1': 0,\n 'PSMB2': 0,\n 'AKIRIN1': 0,\n 'NDUFS5': 0,\n 'CAP1': 0,\n 'PPT1': 0,\n 'PPCS': 0,\n 'YBX1': 0,\n 'RPS8': 0,\n 'NASP': 0,\n 'UQCRH': 0,\n 'CMPK1': 0,\n 'TXNDC12': 0,\n 'SCP2': 0,\n 'TMEM59': 0,\n 'JAK1': 0,\n 'IFI44L': 0,\n 'GNG5': 0,\n 'SH3GLB1': 0,\n 'SEP15': 0,\n 'RPL5': 0,\n 'DR1': 0,\n 'GNAI3': 0,\n 'LAMTOR5': 0,\n 'RAP1A': 0,\n 'CAPZA1': 0,\n 'RHOC': 0,\n 'ATP1A1': 0,\n 'TXNIP': 0,\n 'MRPS21': 0,\n 'ENSA': 0,\n 'CTSS': 0,\n 'CDC42SE1': 0,\n 'S100A10': 0,\n 'S100A9': 0,\n 'S100A8': 0,\n 'S100A6': 0,\n 'S100A4': 0,\n 'JTB': 0,\n 'RPS27': 0,\n 'TPM3': 0,\n 'C1orf43': 0,\n 'FDPS': 0,\n 'SSR2': 0,\n 'LAMTOR2': 0,\n 'APOA1BP': 0,\n 'MNDA': 0,\n 'TAGLN2': 0,\n 'PFDN2': 0,\n 'UFC1': 0,\n 'FCER1G': 0,\n 'TMCO1': 0,\n 'MPC2': 0,\n 'SELL': 0,\n 'PRDX6': 0,\n 'GLUL': 0,\n 'ARPC5': 0,\n 'PTPRC': 0,\n 'ADIPOR1': 0,\n 'NUCKS1': 0,\n 'CD55': 0,\n 'CD46': 0,\n 'NENF': 0,\n 'CAPN2': 0,\n 'H3F3A': 0,\n 'ARF1': 0,\n 'GUK1': 0,\n 'RAB4A': 0,\n 'ARID4B': 0,\n 'LYST': 0,\n 'HNRNPU': 0,\n 'ACP1': 0,\n 'ADI1': 0,\n 'RPS7': 0,\n 'YWHAQ': 0,\n 'HPCAL1': 0,\n 'ODC1': 0,\n 'PDIA6': 0,\n 'RAB10': 0,\n 'HADHA': 0,\n 'HADHB': 0,\n 'OST4': 0,\n 'SNX17': 0,\n 'YPEL5': 0,\n 'COX7A2L': 0,\n 'CALM2': 0,\n 'RTN4': 0,\n 'RPS27A': 0,\n 'UGP2': 0,\n 'PLEK': 0,\n 'PCBP1': 0,\n 'CCT7': 0,\n 'DGUOK': 0,\n 'MOB1A': 0,\n 'AUP1': 0,\n 'POLE4': 0,\n 'TMSB10': 0,\n 'VAMP8': 0,\n 'CHMP3': 0,\n 'COX5B': 0,\n 'RPL31': 0,\n 'LIMS1': 0,\n 'CHCHD5': 0,\n 'ACTR3': 0,\n 'PTPN18': 0,\n 'CXCR4': 0,\n 'ARL5A': 0,\n 'WIPF1': 0,\n 'ATP5G3': 0,\n 'UBE2E3': 0,\n 'NBEAL1': 0,\n 'EEF1B2': 0,\n 'RPL37A': 0,\n 'ARPC2': 0,\n 'TUBA4A': 0,\n 'MFF': 0,\n 'NCL': 0,\n 'PTMA': 0,\n 'LRRFIP1': 0,\n 'UBE2F': 0,\n 'RNPEPL1': 0,\n 'CRBN': 0,\n 'TADA3': 0,\n 'ARPC4': 0,\n 'EMC3': 0,\n 'BRK1': 0,\n 'RPL32': 0,\n 'RPL15': 0,\n 'CMTM6': 0,\n 'MYD88': 0,\n 'RPSA': 0,\n 'EIF1B': 0,\n 'RPL14': 0,\n 'TMA7': 0,\n 'SHISA5': 0,\n 'UQCRC1': 0,\n 'NDUFAF3': 0,\n 'IMPDH2': 0,\n 'GPX1': 0,\n 'RHOA': 0,\n 'RPL29': 0,\n 'TWF2': 0,\n 'SPCS1': 0,\n 'SELK': 0,\n 'ARF4': 0,\n 'ARL6IP5': 0,\n 'PCNP': 0,\n 'RPL24': 0,\n 'CD47': 0,\n 'ATG3': 0,\n 'COX17': 0,\n 'NDUFB4': 0,\n 'RPN1': 0,\n 'RAB7A': 0,\n 'CNBP': 0,\n 'SERP1': 0,\n 'SELT': 0,\n 'SIAH2': 0,\n 'PDCD10': 0,\n 'RPL22L1': 0,\n 'DNAJC19': 0,\n 'AP2M1': 0,\n 'EIF4A2': 0,\n 'RPL35A': 0,\n 'ATP5I': 0,\n 'SLBP': 0,\n 'LRPAP1': 0,\n 'MRFAP1': 0,\n 'WDR1': 0,\n 'RPL9': 0,\n 'GRSF1': 0,\n 'G3BP2': 0,\n 'CCNI': 0,\n 'HNRNPDL': 0,\n 'ADH5': 0,\n 'H2AFZ': 0,\n 'UBE2D3': 0,\n 'RPL34': 0,\n 'CCDC109B': 0,\n 'SNHG8': 0,\n 'C4orf3': 0,\n 'RPS3A': 0,\n 'HMGB2': 0,\n 'SDHA': 0,\n 'PDCD6': 0,\n 'SUB1': 0,\n 'IL7R': 0,\n 'FYB': 0,\n 'RPL37': 0,\n 'NDUFS4': 0,\n 'BTF3': 0,\n 'TBCA': 0,\n 'RPS23': 0,\n 'COX7C': 0,\n 'GLRX': 0,\n 'AP3S1': 0,\n 'SNX2': 0,\n 'CDC42SE2': 0,\n 'SKP1': 0,\n 'PPP2CA': 0,\n 'UBE2B': 0,\n 'PAIP2': 0,\n 'UBE2D2': 0,\n 'PFDN1': 0,\n 'NDUFA2': 0,\n 'ZMAT2': 0,\n 'NDFIP1': 0,\n 'CSNK1A1': 0,\n 'CD74': 0,\n 'RPS14': 0,\n 'ANXA6': 0,\n 'ATOX1': 0,\n 'CCNG1': 0,\n 'NPM1': 0,\n 'DUSP1': 0,\n 'ATP6V0E1': 0,\n 'HIGD2A': 0,\n 'PRELID1': 0,\n 'SQSTM1': 0,\n 'GNB2L1': 0,\n 'SERPINB1': 0,\n 'SERPINB6': 0,\n 'TMEM14C': 0,\n 'FAM65B': 0,\n 'BTN3A2': 0,\n 'HLA-F': 0,\n 'HLA-A': 0,\n 'HLA-E': 0,\n 'TUBB': 0,\n 'HLA-C': 0,\n 'HLA-B': 0,\n 'LTB': 0,\n 'AIF1': 0,\n 'CLIC1': 0,\n 'ATF6B': 0,\n 'RNF5': 0,\n 'GPSM3': 0,\n 'HLA-DRA': 0,\n 'HLA-DRB1': 0,\n 'HLA-DQA1': 0,\n 'PSMB8': 0,\n 'TAPSAR1': 0,\n 'PSMB9': 0,\n 'TAP1': 0,\n 'HLA-DMA': 0,\n 'HLA-DPB1': 0,\n 'RPS18': 0,\n 'RPS10': 0,\n 'RPL10A': 0,\n 'COX6A1P2': 0,\n 'CCND3': 0,\n 'CNPY3': 0,\n 'MEA1': 0,\n 'DNPH1': 0,\n 'MRPL14': 0,\n 'EEF1A1': 0,\n 'COX7A2': 0,\n 'CYB5R4': 0,\n 'AKIRIN2': 0,\n 'PNRC1': 0,\n 'UBE2J1': 0,\n 'SNX3': 0,\n 'AMD1': 0,\n 'GTF3C6': 0,\n 'RWDD1': 0,\n 'SERINC1': 0,\n 'RPS12': 0,\n 'SF3B5': 0,\n 'STX11': 0,\n 'SOD2': 0,\n 'WTAP': 0,\n 'MRPL18': 0,\n 'RNASET2': 0,\n 'PSMB1': 0,\n 'CHST12': 0,\n 'ACTB': 0,\n 'RAC1': 0,\n 'KDELR2': 0,\n 'RPA3': 0,\n 'NDUFA4': 0,\n 'TOMM7': 0,\n 'HNRNPA2B1': 0,\n 'CBX3': 0,\n 'TAX1BP1': 0,\n 'SEPT7': 0,\n 'AOAH': 0,\n 'DBNL': 0,\n 'PPIA': 0,\n 'H2AFV': 0,\n 'MYO1G': 0,\n 'CHCHD2': 0,\n 'WBSCR22': 0,\n 'HSPB1': 0,\n 'SHFM1': 0,\n 'BRI3': 0,\n 'ARPC1B': 0,\n 'BUD31': 0,\n 'LAMTOR4': 0,\n 'ZNHIT1': 0,\n 'FIS1': 0,\n 'SYPL1': 0,\n 'IFRD1': 0,\n 'CAPZA2': 0,\n 'NDUFA5': 0,\n 'ARF5': 0,\n 'ATP6V1F': 0,\n 'C7orf73': 0,\n 'MTPN': 0,\n 'ZC3HAV1': 0,\n 'MKRN1': 0,\n 'NDUFB2': 0,\n 'GSTK1': 0,\n 'ZYX': 0,\n 'RHEB': 0,\n 'DNAJB6': 0,\n 'SLC25A6': 0,\n 'CD99': 0,\n 'TMSB4X': 0,\n 'AP1S2': 0,\n 'RBBP7': 0,\n 'SMS': 0,\n 'SAT1': 0,\n 'NDUFB11': 0,\n 'TIMP1': 0,\n 'WAS': 0,\n 'PLP2': 0,\n 'TSR2': 0,\n 'MAGED2': 0,\n 'MSN': 0,\n 'IGBP1': 0,\n 'IL2RG': 0,\n 'RPS4X': 0,\n 'COX7B': 0,\n 'PGK1': 0,\n 'SH3BGRL': 0,\n 'RPL36A': 0,\n 'TSC22D3': 0,\n 'SLC25A5': 0,\n 'UBE2A': 0,\n 'SEPT6': 0,\n 'NDUFA1': 0,\n 'IDS': 0,\n 'BCAP31': 0,\n 'SSR4': 0,\n 'NAA10': 0,\n 'FLNA': 0,\n 'RPL10': 0,\n 'FDFT1': 0,\n 'ASAH1': 0,\n 'DOK2': 0,\n 'BNIP3L': 0,\n 'TMEM66': 0,\n 'LSM1': 0,\n 'VDAC3': 0,\n 'FNTA': 0,\n 'TCEA1': 0,\n 'LYN': 0,\n 'RPS20': 0,\n 'SDCBP': 0,\n 'RAB2A': 0,\n 'TRAM1': 0,\n 'RPL7': 0,\n 'TCEB1': 0,\n 'ZFAND1': 0,\n 'RPL30': 0,\n 'COX6C': 0,\n 'PABPC1': 0,\n 'YWHAZ': 0,\n 'ZNF706': 0,\n 'EIF3H': 0,\n 'NDUFB9': 0,\n 'EEF1D': 0,\n 'PUF60': 0,\n 'VPS28': 0,\n 'RPL8': 0,\n 'TMEM261': 0,\n 'RPS6': 0,\n 'BAG1': 0,\n 'VCP': 0,\n 'TLN1': 0,\n 'CLTA': 0,\n 'ZFAND5': 0,\n 'ANXA1': 0,\n 'OSTF1': 0,\n 'HNRNPK': 0,\n 'SUSD3': 0,\n 'C9orf89': 0,\n 'NINJ1': 0,\n 'ANP32B': 0,\n 'SEC61B': 0,\n 'RAD23B': 0,\n 'TXN': 0,\n 'ATP6V1G1': 0,\n 'RAB14': 0,\n 'RPL35': 0,\n 'RPL12': 0,\n 'C9orf16': 0,\n 'URM1': 0,\n 'RPL7A': 0,\n 'EDF1': 0,\n 'TUBB4B': 0,\n 'ATP5C1': 0,\n 'RSU1': 0,\n 'VIM': 0,\n 'COMMD3': 0,\n 'HNRNPF': 0,\n 'NCOA4': 0,\n 'SRGN': 0,\n 'C10orf54': 0,\n 'PSAP': 0,\n 'ANAPC16': 0,\n 'ANXA7': 0,\n 'VDAC2': 0,\n 'ANXA11': 0,\n 'GHITM': 0,\n 'LIPA': 0,\n 'IFIT3': 0,\n 'NDUFB8-1': 0,\n 'MRPL43': 0,\n 'GSTO1': 0,\n 'ADD3': 0,\n 'FAM204A': 0,\n 'RGS10': 0,\n 'IFITM2': 0,\n 'IFITM1': 0,\n 'SIGIRR': 0,\n 'RNH1': 0,\n 'TALDO1': 0,\n 'RPLP2': 0,\n 'POLR2L': 0,\n 'CTSD': 0,\n 'LSP1': 0,\n 'MRPL23': 0,\n 'NAP1L4': 0,\n 'TRIM22': 0,\n 'ILK': 0,\n 'EIF3F': 0,\n 'RPL27A': 0,\n 'TMEM9B': 0,\n 'EIF4G2': 0,\n 'PSMA1': 0,\n 'RPS13': 0,\n 'LDHA': 0,\n 'HTATIP2': 0,\n 'SVIP': 0,\n 'MPEG1': 0,\n 'FTH1': 0,\n 'POLR2G': 0,\n 'RARRES3': 0,\n 'RTN3': 0,\n 'COX8A': 0,\n 'OTUB1': 0,\n 'FERMT3': 0,\n 'DNAJC4': 0,\n 'PRDX5': 0,\n 'RASGRP2': 0,\n 'FAU': 0,\n 'CAPN1': 0,\n 'NEAT1': 0,\n 'MALAT1': 0,\n 'RNASEH2C': 0,\n 'CFL1': 0,\n 'FIBP': 0,\n 'CCDC85B': 0,\n 'DRAP1': 0,\n 'BANF1': 0,\n 'SF3B2': 0,\n 'MRPL11': 0,\n 'PPP1CA': 0,\n 'CORO1B': 0,\n 'CDK2AP2': 0,\n 'GSTP1': 0,\n 'LAMTOR1': 0,\n 'ANAPC15': 0,\n 'UCP2': 0,\n 'SPCS2': 0,\n 'RPS3': 0,\n 'TMEM123': 0,\n 'REXO2': 0,\n 'CD3E': 0,\n 'ATP5L': 0,\n 'RPS25': 0,\n 'HSPA8': 0,\n 'FLI1': 0,\n 'THYN1': 0,\n 'NDUFA9': 0,\n 'MRPL51': 0,\n 'GAPDH': 0,\n 'TPI1': 0,\n 'C12orf57': 0,\n 'PTPN6': 0,\n 'M6PR': 0,\n 'CD69': 0,\n 'H2AFJ': 0,\n 'ARHGDIB': 0,\n 'LDHB': 0,\n 'FGFR1OP2': 0,\n 'TUBA1B': 0,\n 'TUBA1A': 0,\n 'TMBIM6': 0,\n 'DAZAP2': 0,\n 'BIN2': 0,\n 'NR4A1': 0,\n 'PFDN5': 0,\n 'PRR13': 0,\n 'PCBP2': 0,\n 'ATP5G2': 0,\n 'HNRNPA1': 0,\n 'COPZ1': 0,\n 'BLOC1S1': 0,\n 'CD63': 0,\n 'RPS26': 0,\n 'PA2G4': 0,\n 'RPL41': 0,\n 'MYL6': 0,\n 'ATP5B': 0,\n 'PTGES3': 0,\n 'NACA': 0,\n 'DCTN2': 0,\n 'RAP1B': 0,\n 'LYZ': 0,\n 'RP11-1143G9.4': 0,\n 'NAP1L1': 0,\n 'BTG1': 0,\n 'UBE2N': 0,\n 'NDUFA12': 0,\n 'SNRPF': 0,\n 'SLC25A3': 0,\n 'HSP90B1': 0,\n 'C12orf75': 0,\n 'ISCU': 0,\n 'SELPLG': 0,\n 'ARPC3': 0,\n 'PPP1CC': 0,\n 'ERP29': 0,\n 'RPL6': 0,\n 'OAS1': 0,\n 'PEBP1': 0,\n 'TAOK3': 0,\n 'RPLP0': 0,\n 'COX6A1': 0,\n 'SRSF9': 0,\n 'DYNLL1': 0,\n 'ANAPC5': 0,\n 'RHOF': 0,\n 'ARL6IP4': 0,\n 'RILPL2': 0,\n 'UBC': 0,\n 'RAN': 0,\n 'MPHOSPH8': 0,\n 'SAP18': 0,\n 'RPL21': 0,\n 'MTIF3': 0,\n 'ATP5EP2': 0,\n 'HMGB1': 0,\n 'N4BP2L1': 0,\n 'RGCC': 0,\n 'TPT1': 0,\n 'ITM2B': 0,\n 'UBAC2': 0,\n 'LAMP1': 0,\n 'HNRNPC': 0,\n 'DAD1': 0,\n 'LRP10': 0,\n 'RBM23': 0,\n 'PSME1': 0,\n 'NEDD8': 0,\n 'GZMB': 0,\n 'SNX6': 0,\n 'NFKBIA': 0,\n 'PNN': 0,\n 'RPS29': 0,\n 'RPL36AL': 0,\n 'C14orf166': 0,\n 'LGALS3': 0,\n 'ACTR10': 0,\n 'RP11-349A22.5': 0,\n 'DHRS7': 0,\n 'CHURC1': 0,\n 'MAX': 0,\n 'VTI1B': 0,\n 'ZFP36L1': 0,\n 'ERH': 0,\n 'NPC2': 0,\n 'FOS': 0,\n 'CALM1': 0,\n 'TC2N': 0,\n 'IFI27L2': 0,\n 'SERPINA1': 0,\n 'GLRX5': 0,\n 'YY1': 0,\n 'HSP90AA1': 0,\n 'C14orf2': 0,\n 'CRIP1': 0,\n 'NDNL2': 0,\n 'NOP10': 0,\n 'SRP14': 0,\n 'SNAP23': 0,\n 'CCNDBP1': 0,\n 'PDIA3': 0,\n 'SERF2': 0,\n 'B2M': 0,\n 'EID1': 0,\n 'GTF2A2': 0,\n 'BNIP2': 0,\n 'ANXA2': 0,\n 'RPS27L': 0,\n 'PPIB': 0,\n 'RAB11A': 0,\n 'MAP2K1': 0,\n 'RPL4': 0,\n 'ANP32A': 0,\n 'RPLP1': 0,\n 'PKM': 0,\n 'CSK': 0,\n 'SCAMP2': 0,\n 'COX5A': 0,\n 'ETFA': 0,\n 'PSMA4': 0,\n 'MORF4L1': 0,\n 'IDH2': 0,\n 'CIB1': 0,\n 'C16orf13': 0,\n 'STUB1': 0,\n 'FAM173A': 0,\n 'UBE2I': 0,\n 'MRPS34': 0,\n 'MSRB1': 0,\n 'NDUFB10': 0,\n 'RPS2': 0,\n 'TCEB2': 0,\n 'CARHSP1': 0,\n 'RPS15A': 0,\n 'ARL6IP1': 0,\n 'METTL9': 0,\n 'UQCRC2': 0,\n 'PRKCB': 0,\n 'RBBP6': 0,\n 'TUFM': 0,\n 'LAT': 0,\n 'MVP': 0,\n 'TMEM219': 0,\n 'ALDOA': 0,\n 'CORO1A': 0,\n 'ITGAL': 0,\n 'VKORC1': 0,\n 'CKLF': 0,\n 'NUTF2': 0,\n 'GABARAPL2': 0,\n 'TERF2IP': 0,\n 'HSBP1': 0,\n 'COTL1': 0,\n 'COX4I1': 0,\n 'MAP1LC3B': 0,\n 'CYBA': 0,\n 'APRT': 0,\n 'RPL13': 0,\n 'PFN1': 0,\n 'XAF1': 0,\n 'ACADVL': 0,\n 'GABARAP': 0,\n 'CD68': 0,\n 'LSMD1': 0,\n 'TRAPPC1': 0,\n 'RPL26': 0,\n 'UBB': 0,\n 'COPS3': 0,\n 'MAP2K3': 0,\n 'RPL23A': 0,\n 'CCL5': 0,\n 'PSMB3': 0,\n 'RPL23': 0,\n 'RPL19': 0,\n 'ORMDL3': 0,\n 'EIF1': 0,\n 'RAB5C': 0,\n 'COA3': 0,\n 'RPL27': 0,\n 'GRN': 0,\n 'KPNB1': 0,\n 'SUPT4H1': 0,\n 'LIMD2': 0,\n 'ICAM2': 0,\n 'DDX5': 0,\n 'PRKAR1A': 0,\n 'HN1': 0,\n 'SUMO2': 0,\n 'MIF4GD': 0,\n 'GRB2': 0,\n 'H3F3B': 0,\n 'WBP2': 0,\n 'UBALD2': 0,\n 'SRSF2': 0,\n 'SEPT9': 0,\n 'RNF213': 0,\n 'ACTG1': 0,\n 'P4HB': 0,\n 'ARHGDIA': 0,\n 'ANAPC11': 0,\n 'STRA13': 0,\n 'MYL12A': 0,\n 'MYL12B': 0,\n 'NDUFV2': 0,\n 'VAPA': 0,\n 'CHMP1B': 0,\n 'ROCK1': 0,\n 'SNRPD1': 0,\n 'ATP5A1': 0,\n 'C18orf32': 0,\n 'RPL17': 0,\n 'RBCK1': 0,\n 'FKBP1A': 0,\n 'SNRPB': 0,\n 'MRPS26': 0,\n 'DSTN': 0,\n 'CST3': 0,\n 'MAPRE1': 0,\n 'CHMP4B': 0,\n 'RALY': 0,\n 'EIF2S2': 0,\n 'DYNLRB1': 0,\n 'MMP24-AS1': 0,\n 'EIF6': 0,\n 'SCAND1': 0,\n 'CTSA': 0,\n 'ZFAS1': 0,\n 'RTFDC1': 0,\n 'GNAS': 0,\n 'CTSZ': 0,\n 'ATP5E': 0,\n 'PSMA7': 0,\n 'RPS21': 0,\n 'PPDPF': 0,\n 'BSG': 0,\n 'PTBP1': 0,\n 'R3HDM4': 0,\n 'CNN2': 0,\n 'HMHA1': 0,\n 'POLR2E': 0,\n 'GPX4': 0,\n 'ATP5D': 0,\n 'CIRBP': 0,\n 'C19orf24': 0,\n 'RPS15': 0,\n 'UQCR11-1': 0,\n 'PLEKHJ1': 0,\n 'OAZ1': 0,\n 'LSM7': 0,\n 'TIMM13': 0,\n 'AES': 0,\n 'EEF2': 0,\n 'RPL36': 0,\n 'NDUFA11': 0,\n 'STXBP2': 0,\n 'NDUFA7-1': 0,\n 'RPS28': 0,\n 'RAB11B': 0,\n 'UBL5': 0,\n 'EIF3G': 0,\n 'ICAM3': 0,\n 'CDC37': 0,\n 'CDKN2D': 0,\n 'WDR83OS': 0,\n 'C19orf43': 0,\n 'ASNA1': 0,\n 'JUNB': 0,\n 'CALR': 0,\n 'LYL1': 0,\n 'C19orf53': 0,\n 'NDUFB7': 0,\n 'TPM4': 0,\n 'RAB8A': 0,\n 'FAM32A': 0,\n 'KLF2': 0,\n 'BST2': 0,\n 'RPL18A': 0,\n 'LSM4': 0,\n 'FKBP8': 0,\n 'UBA52': 0,\n 'COPE': 0,\n 'NDUFA13': 0,\n 'RPSAP58': 0,\n 'LSM14A': 0,\n 'FXYD5': 0,\n 'USF2': 0,\n 'TMEM147': 0,\n 'COX6B1': 0,\n 'HCST': 0,\n 'TBCB': 0,\n 'CAPNS1': 0,\n 'SPINT2': 0,\n 'PSMD8': 0,\n 'EIF3K': 0,\n 'ECH1': 0,\n 'GMFG': 0,\n 'RPS16': 0,\n 'PSMC4': 0,\n 'BLVRB': 0,\n 'EGLN2': 0,\n 'TGFB1': 0,\n 'RPS19': 0,\n 'RABAC1': 0,\n 'FOSB': 0,\n 'VASP': 0,\n 'SNRPD2': 0,\n 'CALM3': 0,\n 'AP2S1': 0,\n 'NAPA': 0,\n 'SEPW1': 0,\n 'EMP3': 0,\n 'KDELR1': 0,\n 'RPL18': 0,\n 'PPP1R15A': 0,\n 'NUCB1': 0,\n 'BAX': 0,\n 'FTL': 0,\n 'CD37': 0,\n 'RPL13A': 0,\n 'RPS11': 0,\n 'NKG7': 0,\n 'RPS9': 0,\n 'RPL28': 0,\n 'RPS5': 0,\n 'CHMP2A': 0,\n 'EIF1AY': 0,\n 'ATP6V1E1': 0,\n 'SDF2L1': 0,\n 'CHCHD10': 0,\n 'MIF': 0,\n 'DDT': 0,\n 'TPST2': 0,\n 'UQCR10': 0,\n 'YWHAH': 0,\n 'FBXO7': 0,\n 'MYH9': 0,\n 'MFNG': 0,\n 'LGALS1': 0,\n 'RPL3': 0,\n 'ATF4': 0,\n 'RPS19BP1': 0,\n 'GRAP2': 0,\n 'ST13': 0,\n 'RBX1': 0,\n 'XRCC6': 0,\n 'SMDT1': 0,\n 'NDUFA6': 0,\n 'TSPO': 0,\n 'TYMP': 0,\n 'SOD1': 0,\n 'HMGN1': 0,\n 'MX1': 0,\n 'CSTB': 0,\n 'SUMO3': 0,\n 'ITGB2': 0,\n 'PRMT2': 0,\n 'MT-ND1': 0,\n 'MT-ND2': 0,\n 'MT-CO1': 0,\n 'MT-CO2': 0,\n 'MT-ATP6': 0,\n 'MT-CO3': 0,\n 'MT-ND4': 0,\n 'MT-ND5': 0,\n 'MT-CYB': 0}"
     },
     "execution_count": 292,
     "metadata": {},
     "output_type": "execute_result"
    }
   ],
   "source": [
    "communities"
   ],
   "metadata": {
    "collapsed": false,
    "ExecuteTime": {
     "end_time": "2024-09-16T13:47:13.150363Z",
     "start_time": "2024-09-16T13:47:13.125248Z"
    }
   },
   "id": "aeb0eb386ef5ba14",
   "execution_count": 292
  },
  {
   "cell_type": "code",
   "outputs": [],
   "source": [
    "a = [\"safe\", \"dsafe\", \"fdsafewfe\"]"
   ],
   "metadata": {
    "collapsed": false,
    "ExecuteTime": {
     "end_time": "2024-09-17T03:52:05.789899Z",
     "start_time": "2024-09-17T03:52:05.785859Z"
    }
   },
   "id": "2022bd9e33fe61f9",
   "execution_count": 295
  },
  {
   "cell_type": "code",
   "outputs": [],
   "source": [
    "a.extend([\"ff\", \"ss\", \"dd\"])"
   ],
   "metadata": {
    "collapsed": false,
    "ExecuteTime": {
     "end_time": "2024-09-17T03:52:33.047455Z",
     "start_time": "2024-09-17T03:52:33.042447Z"
    }
   },
   "id": "b1767d502cd2ef1f",
   "execution_count": 296
  },
  {
   "cell_type": "code",
   "outputs": [
    {
     "data": {
      "text/plain": "['safe', 'dsafe', 'fdsafewfe', 'ff', 'ss', 'dd']"
     },
     "execution_count": 297,
     "metadata": {},
     "output_type": "execute_result"
    }
   ],
   "source": [
    "a"
   ],
   "metadata": {
    "collapsed": false,
    "ExecuteTime": {
     "end_time": "2024-09-17T03:52:35.877278Z",
     "start_time": "2024-09-17T03:52:35.869746Z"
    }
   },
   "id": "d7e5d64c2b1d3f4b",
   "execution_count": 297
  },
  {
   "cell_type": "code",
   "outputs": [],
   "source": [
    "from utils.data_process.load_data import LoadMatrixDataReal, TransformDataReal"
   ],
   "metadata": {
    "collapsed": false,
    "ExecuteTime": {
     "end_time": "2024-09-17T08:03:34.150558Z",
     "start_time": "2024-09-17T08:03:33.353780Z"
    }
   },
   "id": "7d2fcf05d7439534",
   "execution_count": 6
  },
  {
   "cell_type": "code",
   "outputs": [
    {
     "ename": "NameError",
     "evalue": "name 'G' is not defined",
     "output_type": "error",
     "traceback": [
      "\u001B[0;31m---------------------------------------------------------------------------\u001B[0m",
      "\u001B[0;31mNameError\u001B[0m                                 Traceback (most recent call last)",
      "Cell \u001B[0;32mIn[7], line 1\u001B[0m\n\u001B[0;32m----> 1\u001B[0m \u001B[43mG\u001B[49m\n",
      "\u001B[0;31mNameError\u001B[0m: name 'G' is not defined"
     ]
    }
   ],
   "source": [
    "G"
   ],
   "metadata": {
    "collapsed": false,
    "ExecuteTime": {
     "end_time": "2024-09-18T12:25:53.637865Z",
     "start_time": "2024-09-18T12:25:53.613964Z"
    }
   },
   "id": "9325b7ec770365cf",
   "execution_count": 7
  },
  {
   "cell_type": "code",
   "outputs": [],
   "source": [
    "import networkx as nx\n",
    "\n",
    "# 创建一个简单的图\n",
    "G = nx.Graph()\n",
    "G.add_edge(1, 2)\n",
    "G.add_edge(2, 3)\n",
    "G.add_edge(3, 4)\n"
   ],
   "metadata": {
    "collapsed": false,
    "ExecuteTime": {
     "end_time": "2024-09-18T12:28:32.357556Z",
     "start_time": "2024-09-18T12:28:32.329370Z"
    }
   },
   "id": "4ca394c307f1a2de",
   "execution_count": 9
  },
  {
   "cell_type": "code",
   "outputs": [],
   "source": [
    "# 保存图对象到Pickle文件\n",
    "nx.write_gpickle(G, \"/mnt/data/graph.pkl\")"
   ],
   "metadata": {
    "collapsed": false
   },
   "id": "cf6c86a721bd72c4"
  },
  {
   "cell_type": "code",
   "outputs": [
    {
     "ename": "AttributeError",
     "evalue": "module 'networkx' has no attribute 'write_gpickle'",
     "output_type": "error",
     "traceback": [
      "\u001B[0;31m---------------------------------------------------------------------------\u001B[0m",
      "\u001B[0;31mAttributeError\u001B[0m                            Traceback (most recent call last)",
      "Cell \u001B[0;32mIn[10], line 1\u001B[0m\n\u001B[0;32m----> 1\u001B[0m \u001B[43mnx\u001B[49m\u001B[38;5;241;43m.\u001B[39;49m\u001B[43mwrite_gpickle\u001B[49m(G, \u001B[38;5;124m\"\u001B[39m\u001B[38;5;124m/home/liuyq/data/ar_result/ar/graph.pkl\u001B[39m\u001B[38;5;124m\"\u001B[39m)\n",
      "\u001B[0;31mAttributeError\u001B[0m: module 'networkx' has no attribute 'write_gpickle'"
     ]
    }
   ],
   "source": [
    "nx.write_gpickle(G, \"/home/liuyq/data/ar_result/ar/graph.pkl\")"
   ],
   "metadata": {
    "collapsed": false,
    "ExecuteTime": {
     "end_time": "2024-09-18T12:29:56.805708Z",
     "start_time": "2024-09-18T12:29:56.793477Z"
    }
   },
   "id": "68f7a4dabb12a2b7",
   "execution_count": 10
  },
  {
   "cell_type": "code",
   "outputs": [
    {
     "data": {
      "text/plain": "'3.0'"
     },
     "execution_count": 11,
     "metadata": {},
     "output_type": "execute_result"
    }
   ],
   "source": [
    "nx.__version__"
   ],
   "metadata": {
    "collapsed": false,
    "ExecuteTime": {
     "end_time": "2024-09-18T12:34:26.502631Z",
     "start_time": "2024-09-18T12:34:26.495969Z"
    }
   },
   "id": "47178e32ef750e78",
   "execution_count": 11
  },
  {
   "cell_type": "code",
   "outputs": [],
   "source": [
    "import pickle\n",
    "from copy import deepcopy"
   ],
   "metadata": {
    "collapsed": false,
    "ExecuteTime": {
     "end_time": "2024-09-18T12:46:33.969849Z",
     "start_time": "2024-09-18T12:46:33.964391Z"
    }
   },
   "id": "dfe374edb2edf91a",
   "execution_count": 19
  },
  {
   "cell_type": "code",
   "outputs": [],
   "source": [
    "b = {\"a\":G, \"b\":deepcopy(G)}"
   ],
   "metadata": {
    "collapsed": false,
    "ExecuteTime": {
     "end_time": "2024-09-18T12:46:35.338952Z",
     "start_time": "2024-09-18T12:46:35.333681Z"
    }
   },
   "id": "5f0473318593cffb",
   "execution_count": 20
  },
  {
   "cell_type": "code",
   "outputs": [],
   "source": [],
   "metadata": {
    "collapsed": false
   },
   "id": "8dec9c02a8216dbd"
  },
  {
   "cell_type": "code",
   "outputs": [],
   "source": [
    "fp = \"/home/liuyq/data/ar_result/ar/graph.pkl\""
   ],
   "metadata": {
    "collapsed": false,
    "ExecuteTime": {
     "end_time": "2024-09-18T12:46:37.503113Z",
     "start_time": "2024-09-18T12:46:37.498447Z"
    }
   },
   "id": "305c67a93d93459f",
   "execution_count": 21
  },
  {
   "cell_type": "code",
   "outputs": [],
   "source": [
    "with open(fp, 'wb') as f:\n",
    "    pickle.dump(b, f)"
   ],
   "metadata": {
    "collapsed": false,
    "ExecuteTime": {
     "end_time": "2024-09-18T12:47:07.047707Z",
     "start_time": "2024-09-18T12:47:07.041639Z"
    }
   },
   "id": "2e1771abfa34f12c",
   "execution_count": 25
  },
  {
   "cell_type": "code",
   "outputs": [
    {
     "data": {
      "text/plain": "<networkx.classes.graph.Graph at 0x757d361e7490>"
     },
     "execution_count": 15,
     "metadata": {},
     "output_type": "execute_result"
    }
   ],
   "source": [
    "G"
   ],
   "metadata": {
    "collapsed": false,
    "ExecuteTime": {
     "end_time": "2024-09-18T12:36:52.139239Z",
     "start_time": "2024-09-18T12:36:52.132448Z"
    }
   },
   "id": "864b385eaf0a11ab",
   "execution_count": 15
  },
  {
   "cell_type": "code",
   "outputs": [],
   "source": [
    "with open(fp, 'rb') as f:\n",
    "    g_new = pickle.load(f)"
   ],
   "metadata": {
    "collapsed": false,
    "ExecuteTime": {
     "end_time": "2024-09-18T12:47:08.609509Z",
     "start_time": "2024-09-18T12:47:08.603503Z"
    }
   },
   "id": "cc9cb11281192835",
   "execution_count": 26
  },
  {
   "cell_type": "code",
   "outputs": [
    {
     "data": {
      "text/plain": "{'a': <networkx.classes.graph.Graph at 0x757c3f224f40>,\n 'b': <networkx.classes.graph.Graph at 0x757c3f227eb0>}"
     },
     "execution_count": 27,
     "metadata": {},
     "output_type": "execute_result"
    }
   ],
   "source": [
    "g_new"
   ],
   "metadata": {
    "collapsed": false,
    "ExecuteTime": {
     "end_time": "2024-09-18T12:47:09.995437Z",
     "start_time": "2024-09-18T12:47:09.988989Z"
    }
   },
   "id": "976755f299149abb",
   "execution_count": 27
  },
  {
   "cell_type": "code",
   "outputs": [
    {
     "data": {
      "text/plain": "      Name  Age         City\n0    Alice   25     New York\n1      Bob   30  Los Angeles\n2  Charlie   35      Chicago",
      "text/html": "<div>\n<style scoped>\n    .dataframe tbody tr th:only-of-type {\n        vertical-align: middle;\n    }\n\n    .dataframe tbody tr th {\n        vertical-align: top;\n    }\n\n    .dataframe thead th {\n        text-align: right;\n    }\n</style>\n<table border=\"1\" class=\"dataframe\">\n  <thead>\n    <tr style=\"text-align: right;\">\n      <th></th>\n      <th>Name</th>\n      <th>Age</th>\n      <th>City</th>\n    </tr>\n  </thead>\n  <tbody>\n    <tr>\n      <th>0</th>\n      <td>Alice</td>\n      <td>25</td>\n      <td>New York</td>\n    </tr>\n    <tr>\n      <th>1</th>\n      <td>Bob</td>\n      <td>30</td>\n      <td>Los Angeles</td>\n    </tr>\n    <tr>\n      <th>2</th>\n      <td>Charlie</td>\n      <td>35</td>\n      <td>Chicago</td>\n    </tr>\n  </tbody>\n</table>\n</div>"
     },
     "execution_count": 28,
     "metadata": {},
     "output_type": "execute_result"
    }
   ],
   "source": [
    "#build a pandas dataframe\n",
    "import pandas as pd\n",
    "import numpy as np\n",
    "\n",
    "# 创建一个简单的DataFrame对象\n",
    "data = {\n",
    "    'Name': ['Alice', 'Bob', 'Charlie'],\n",
    "    'Age': [25, 30, 35],\n",
    "    'City': ['New York', 'Los Angeles', 'Chicago']\n",
    "}\n",
    "\n",
    "df = pd.DataFrame(data)\n",
    "df\n",
    "    \n",
    "\n"
   ],
   "metadata": {
    "collapsed": false,
    "ExecuteTime": {
     "end_time": "2024-09-18T12:56:07.840873Z",
     "start_time": "2024-09-18T12:56:07.824064Z"
    }
   },
   "id": "8ccc982a4d473a95",
   "execution_count": 28
  },
  {
   "cell_type": "code",
   "outputs": [
    {
     "data": {
      "text/plain": "4"
     },
     "execution_count": 35,
     "metadata": {},
     "output_type": "execute_result"
    }
   ],
   "source": [
    "len(G.nodes)"
   ],
   "metadata": {
    "collapsed": false,
    "ExecuteTime": {
     "end_time": "2024-09-18T14:00:25.490075Z",
     "start_time": "2024-09-18T14:00:25.483024Z"
    }
   },
   "id": "6789a06da8d779f1",
   "execution_count": 35
  },
  {
   "cell_type": "code",
   "outputs": [
    {
     "data": {
      "text/plain": "3"
     },
     "execution_count": 36,
     "metadata": {},
     "output_type": "execute_result"
    }
   ],
   "source": [
    "len(G.edges)"
   ],
   "metadata": {
    "collapsed": false,
    "ExecuteTime": {
     "end_time": "2024-09-18T14:00:32.483511Z",
     "start_time": "2024-09-18T14:00:32.475830Z"
    }
   },
   "id": "4fb7128978496ace",
   "execution_count": 36
  },
  {
   "cell_type": "code",
   "outputs": [
    {
     "data": {
      "text/plain": "   Unnamed: 0     Name  Age         City\n0           0    Alice   25     New York\n1           1      Bob   30  Los Angeles\n2           2  Charlie   35      Chicago",
      "text/html": "<div>\n<style scoped>\n    .dataframe tbody tr th:only-of-type {\n        vertical-align: middle;\n    }\n\n    .dataframe tbody tr th {\n        vertical-align: top;\n    }\n\n    .dataframe thead th {\n        text-align: right;\n    }\n</style>\n<table border=\"1\" class=\"dataframe\">\n  <thead>\n    <tr style=\"text-align: right;\">\n      <th></th>\n      <th>Unnamed: 0</th>\n      <th>Name</th>\n      <th>Age</th>\n      <th>City</th>\n    </tr>\n  </thead>\n  <tbody>\n    <tr>\n      <th>0</th>\n      <td>0</td>\n      <td>Alice</td>\n      <td>25</td>\n      <td>New York</td>\n    </tr>\n    <tr>\n      <th>1</th>\n      <td>1</td>\n      <td>Bob</td>\n      <td>30</td>\n      <td>Los Angeles</td>\n    </tr>\n    <tr>\n      <th>2</th>\n      <td>2</td>\n      <td>Charlie</td>\n      <td>35</td>\n      <td>Chicago</td>\n    </tr>\n  </tbody>\n</table>\n</div>"
     },
     "execution_count": 33,
     "metadata": {},
     "output_type": "execute_result"
    }
   ],
   "source": [],
   "metadata": {
    "collapsed": false,
    "ExecuteTime": {
     "end_time": "2024-09-18T12:57:57.180713Z",
     "start_time": "2024-09-18T12:57:57.168681Z"
    }
   },
   "id": "cacbb8c0f86da311",
   "execution_count": 33
  }
 ],
 "metadata": {
  "kernelspec": {
   "display_name": "Python 3",
   "language": "python",
   "name": "python3"
  },
  "language_info": {
   "codemirror_mode": {
    "name": "ipython",
    "version": 2
   },
   "file_extension": ".py",
   "mimetype": "text/x-python",
   "name": "python",
   "nbconvert_exporter": "python",
   "pygments_lexer": "ipython2",
   "version": "2.7.6"
  }
 },
 "nbformat": 4,
 "nbformat_minor": 5
}
